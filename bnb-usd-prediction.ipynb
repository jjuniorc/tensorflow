{
 "cells": [
  {
   "cell_type": "code",
   "execution_count": 153,
   "id": "9ad943fa-4fc2-401e-9cdb-61658fc25f82",
   "metadata": {},
   "outputs": [],
   "source": [
    "import pandas as pd\n",
    "import tensorflow as tf\n",
    "from tensorflow import keras\n",
    "\n",
    "import numpy as np\n",
    "\n",
    "import matplotlib.pyplot as plt\n",
    "\n",
    "from sklearn.preprocessing import MinMaxScaler\n",
    "\n",
    "# from tensorflow.keras.layers import Bidirectional, Dropout, Activation, Dense, LSTM\n",
    "from keras.layers import Input, LSTM, Dense, TimeDistributed, Activation, BatchNormalization, Dropout, Bidirectional\n",
    "from keras.models import Sequential\n",
    "from keras.utils import Sequence\n",
    "from keras.layers import LSTM\n",
    "\n",
    "#from tensorflow.python.keras.layers import CuDNNLSTM\n",
    "#from tensorflow.keras.models import Sequential"
   ]
  },
  {
   "cell_type": "code",
   "execution_count": 154,
   "id": "941ecba5-32b3-4c81-8595-7884d31515a0",
   "metadata": {},
   "outputs": [],
   "source": [
    "RANDOM_SEED = 42\n",
    "np.random.seed(RANDOM_SEED)"
   ]
  },
  {
   "cell_type": "code",
   "execution_count": 155,
   "id": "b2b11f3c-abf7-44e2-bda8-397108acb63e",
   "metadata": {},
   "outputs": [
    {
     "data": {
      "text/html": [
       "<div>\n",
       "<style scoped>\n",
       "    .dataframe tbody tr th:only-of-type {\n",
       "        vertical-align: middle;\n",
       "    }\n",
       "\n",
       "    .dataframe tbody tr th {\n",
       "        vertical-align: top;\n",
       "    }\n",
       "\n",
       "    .dataframe thead th {\n",
       "        text-align: right;\n",
       "    }\n",
       "</style>\n",
       "<table border=\"1\" class=\"dataframe\">\n",
       "  <thead>\n",
       "    <tr style=\"text-align: right;\">\n",
       "      <th></th>\n",
       "      <th>time</th>\n",
       "      <th>open</th>\n",
       "      <th>high</th>\n",
       "      <th>low</th>\n",
       "      <th>close</th>\n",
       "      <th>volume</th>\n",
       "      <th>close_time</th>\n",
       "      <th>quote_asset_volume</th>\n",
       "      <th>number_of_trades</th>\n",
       "      <th>taker_buy_base_asset_volume</th>\n",
       "      <th>taker_buy_quote_asset_volume</th>\n",
       "      <th>unused</th>\n",
       "      <th>date</th>\n",
       "    </tr>\n",
       "  </thead>\n",
       "  <tbody>\n",
       "    <tr>\n",
       "      <th>0</th>\n",
       "      <td>1666516200000</td>\n",
       "      <td>270.2</td>\n",
       "      <td>270.3</td>\n",
       "      <td>270.2</td>\n",
       "      <td>270.2</td>\n",
       "      <td>204.918</td>\n",
       "      <td>1666516499999</td>\n",
       "      <td>55375.1224</td>\n",
       "      <td>250</td>\n",
       "      <td>62.788</td>\n",
       "      <td>16971.5964</td>\n",
       "      <td>0</td>\n",
       "      <td>2022-10-23 09:10:00</td>\n",
       "    </tr>\n",
       "    <tr>\n",
       "      <th>1</th>\n",
       "      <td>1666516500000</td>\n",
       "      <td>270.3</td>\n",
       "      <td>270.3</td>\n",
       "      <td>270.0</td>\n",
       "      <td>270.0</td>\n",
       "      <td>452.243</td>\n",
       "      <td>1666516799999</td>\n",
       "      <td>122162.1086</td>\n",
       "      <td>313</td>\n",
       "      <td>126.921</td>\n",
       "      <td>34287.9672</td>\n",
       "      <td>0</td>\n",
       "      <td>2022-10-23 09:15:00</td>\n",
       "    </tr>\n",
       "    <tr>\n",
       "      <th>2</th>\n",
       "      <td>1666516800000</td>\n",
       "      <td>270.1</td>\n",
       "      <td>270.1</td>\n",
       "      <td>269.9</td>\n",
       "      <td>269.9</td>\n",
       "      <td>240.463</td>\n",
       "      <td>1666517099999</td>\n",
       "      <td>64933.1210</td>\n",
       "      <td>342</td>\n",
       "      <td>89.394</td>\n",
       "      <td>24145.2163</td>\n",
       "      <td>0</td>\n",
       "      <td>2022-10-23 09:20:00</td>\n",
       "    </tr>\n",
       "    <tr>\n",
       "      <th>3</th>\n",
       "      <td>1666517100000</td>\n",
       "      <td>269.9</td>\n",
       "      <td>270.0</td>\n",
       "      <td>269.9</td>\n",
       "      <td>269.9</td>\n",
       "      <td>115.593</td>\n",
       "      <td>1666517399999</td>\n",
       "      <td>31205.0713</td>\n",
       "      <td>199</td>\n",
       "      <td>65.206</td>\n",
       "      <td>17605.6200</td>\n",
       "      <td>0</td>\n",
       "      <td>2022-10-23 09:25:00</td>\n",
       "    </tr>\n",
       "    <tr>\n",
       "      <th>4</th>\n",
       "      <td>1666517400000</td>\n",
       "      <td>270.0</td>\n",
       "      <td>270.2</td>\n",
       "      <td>269.9</td>\n",
       "      <td>270.2</td>\n",
       "      <td>525.467</td>\n",
       "      <td>1666517699999</td>\n",
       "      <td>141900.6458</td>\n",
       "      <td>272</td>\n",
       "      <td>490.196</td>\n",
       "      <td>132379.7428</td>\n",
       "      <td>0</td>\n",
       "      <td>2022-10-23 09:30:00</td>\n",
       "    </tr>\n",
       "  </tbody>\n",
       "</table>\n",
       "</div>"
      ],
      "text/plain": [
       "            time   open   high    low  close   volume     close_time  \\\n",
       "0  1666516200000  270.2  270.3  270.2  270.2  204.918  1666516499999   \n",
       "1  1666516500000  270.3  270.3  270.0  270.0  452.243  1666516799999   \n",
       "2  1666516800000  270.1  270.1  269.9  269.9  240.463  1666517099999   \n",
       "3  1666517100000  269.9  270.0  269.9  269.9  115.593  1666517399999   \n",
       "4  1666517400000  270.0  270.2  269.9  270.2  525.467  1666517699999   \n",
       "\n",
       "   quote_asset_volume  number_of_trades  taker_buy_base_asset_volume  \\\n",
       "0          55375.1224               250                       62.788   \n",
       "1         122162.1086               313                      126.921   \n",
       "2          64933.1210               342                       89.394   \n",
       "3          31205.0713               199                       65.206   \n",
       "4         141900.6458               272                      490.196   \n",
       "\n",
       "   taker_buy_quote_asset_volume  unused                date  \n",
       "0                    16971.5964       0 2022-10-23 09:10:00  \n",
       "1                    34287.9672       0 2022-10-23 09:15:00  \n",
       "2                    24145.2163       0 2022-10-23 09:20:00  \n",
       "3                    17605.6200       0 2022-10-23 09:25:00  \n",
       "4                   132379.7428       0 2022-10-23 09:30:00  "
      ]
     },
     "execution_count": 155,
     "metadata": {},
     "output_type": "execute_result"
    }
   ],
   "source": [
    "url_binance_bnbusdt_5m = \"https://api.binance.com/api/v3/klines?symbol=BNBUSDT&limit=1000&interval=5m\"\n",
    "df = pd.read_json(url_binance_bnbusdt_5m)\n",
    "\n",
    "df.columns = [\n",
    "    'time', \n",
    "    'open', \n",
    "    'high', \n",
    "    'low', \n",
    "    'close', \n",
    "    'volume', \n",
    "    'close_time', \n",
    "    'quote_asset_volume', \n",
    "    'number_of_trades', \n",
    "    'taker_buy_base_asset_volume', \n",
    "    'taker_buy_quote_asset_volume', \n",
    "    'unused'\n",
    "]\n",
    "\n",
    "df['date'] = pd.to_datetime(df['time'], unit='ms')\n",
    "\n",
    "df.head()"
   ]
  },
  {
   "cell_type": "code",
   "execution_count": 156,
   "id": "28975d96-451c-4ff8-acba-564950a35775",
   "metadata": {},
   "outputs": [],
   "source": [
    "df.sort_values('time', inplace=True)"
   ]
  },
  {
   "cell_type": "code",
   "execution_count": 157,
   "id": "11b1231d-2a59-4ed2-b8d7-f8be6a77449a",
   "metadata": {},
   "outputs": [
    {
     "data": {
      "text/html": [
       "<div>\n",
       "<style scoped>\n",
       "    .dataframe tbody tr th:only-of-type {\n",
       "        vertical-align: middle;\n",
       "    }\n",
       "\n",
       "    .dataframe tbody tr th {\n",
       "        vertical-align: top;\n",
       "    }\n",
       "\n",
       "    .dataframe thead th {\n",
       "        text-align: right;\n",
       "    }\n",
       "</style>\n",
       "<table border=\"1\" class=\"dataframe\">\n",
       "  <thead>\n",
       "    <tr style=\"text-align: right;\">\n",
       "      <th></th>\n",
       "      <th>time</th>\n",
       "      <th>open</th>\n",
       "      <th>high</th>\n",
       "      <th>low</th>\n",
       "      <th>close</th>\n",
       "      <th>volume</th>\n",
       "      <th>close_time</th>\n",
       "      <th>quote_asset_volume</th>\n",
       "      <th>number_of_trades</th>\n",
       "      <th>taker_buy_base_asset_volume</th>\n",
       "      <th>taker_buy_quote_asset_volume</th>\n",
       "      <th>unused</th>\n",
       "      <th>date</th>\n",
       "    </tr>\n",
       "  </thead>\n",
       "  <tbody>\n",
       "    <tr>\n",
       "      <th>0</th>\n",
       "      <td>1666516200000</td>\n",
       "      <td>270.2</td>\n",
       "      <td>270.3</td>\n",
       "      <td>270.2</td>\n",
       "      <td>270.2</td>\n",
       "      <td>204.918</td>\n",
       "      <td>1666516499999</td>\n",
       "      <td>55375.1224</td>\n",
       "      <td>250</td>\n",
       "      <td>62.788</td>\n",
       "      <td>16971.5964</td>\n",
       "      <td>0</td>\n",
       "      <td>2022-10-23 09:10:00</td>\n",
       "    </tr>\n",
       "    <tr>\n",
       "      <th>1</th>\n",
       "      <td>1666516500000</td>\n",
       "      <td>270.3</td>\n",
       "      <td>270.3</td>\n",
       "      <td>270.0</td>\n",
       "      <td>270.0</td>\n",
       "      <td>452.243</td>\n",
       "      <td>1666516799999</td>\n",
       "      <td>122162.1086</td>\n",
       "      <td>313</td>\n",
       "      <td>126.921</td>\n",
       "      <td>34287.9672</td>\n",
       "      <td>0</td>\n",
       "      <td>2022-10-23 09:15:00</td>\n",
       "    </tr>\n",
       "    <tr>\n",
       "      <th>2</th>\n",
       "      <td>1666516800000</td>\n",
       "      <td>270.1</td>\n",
       "      <td>270.1</td>\n",
       "      <td>269.9</td>\n",
       "      <td>269.9</td>\n",
       "      <td>240.463</td>\n",
       "      <td>1666517099999</td>\n",
       "      <td>64933.1210</td>\n",
       "      <td>342</td>\n",
       "      <td>89.394</td>\n",
       "      <td>24145.2163</td>\n",
       "      <td>0</td>\n",
       "      <td>2022-10-23 09:20:00</td>\n",
       "    </tr>\n",
       "    <tr>\n",
       "      <th>3</th>\n",
       "      <td>1666517100000</td>\n",
       "      <td>269.9</td>\n",
       "      <td>270.0</td>\n",
       "      <td>269.9</td>\n",
       "      <td>269.9</td>\n",
       "      <td>115.593</td>\n",
       "      <td>1666517399999</td>\n",
       "      <td>31205.0713</td>\n",
       "      <td>199</td>\n",
       "      <td>65.206</td>\n",
       "      <td>17605.6200</td>\n",
       "      <td>0</td>\n",
       "      <td>2022-10-23 09:25:00</td>\n",
       "    </tr>\n",
       "    <tr>\n",
       "      <th>4</th>\n",
       "      <td>1666517400000</td>\n",
       "      <td>270.0</td>\n",
       "      <td>270.2</td>\n",
       "      <td>269.9</td>\n",
       "      <td>270.2</td>\n",
       "      <td>525.467</td>\n",
       "      <td>1666517699999</td>\n",
       "      <td>141900.6458</td>\n",
       "      <td>272</td>\n",
       "      <td>490.196</td>\n",
       "      <td>132379.7428</td>\n",
       "      <td>0</td>\n",
       "      <td>2022-10-23 09:30:00</td>\n",
       "    </tr>\n",
       "  </tbody>\n",
       "</table>\n",
       "</div>"
      ],
      "text/plain": [
       "            time   open   high    low  close   volume     close_time  \\\n",
       "0  1666516200000  270.2  270.3  270.2  270.2  204.918  1666516499999   \n",
       "1  1666516500000  270.3  270.3  270.0  270.0  452.243  1666516799999   \n",
       "2  1666516800000  270.1  270.1  269.9  269.9  240.463  1666517099999   \n",
       "3  1666517100000  269.9  270.0  269.9  269.9  115.593  1666517399999   \n",
       "4  1666517400000  270.0  270.2  269.9  270.2  525.467  1666517699999   \n",
       "\n",
       "   quote_asset_volume  number_of_trades  taker_buy_base_asset_volume  \\\n",
       "0          55375.1224               250                       62.788   \n",
       "1         122162.1086               313                      126.921   \n",
       "2          64933.1210               342                       89.394   \n",
       "3          31205.0713               199                       65.206   \n",
       "4         141900.6458               272                      490.196   \n",
       "\n",
       "   taker_buy_quote_asset_volume  unused                date  \n",
       "0                    16971.5964       0 2022-10-23 09:10:00  \n",
       "1                    34287.9672       0 2022-10-23 09:15:00  \n",
       "2                    24145.2163       0 2022-10-23 09:20:00  \n",
       "3                    17605.6200       0 2022-10-23 09:25:00  \n",
       "4                   132379.7428       0 2022-10-23 09:30:00  "
      ]
     },
     "execution_count": 157,
     "metadata": {},
     "output_type": "execute_result"
    }
   ],
   "source": [
    "df.head()"
   ]
  },
  {
   "cell_type": "code",
   "execution_count": 158,
   "id": "bb8d29cd-7ccb-4973-85b7-0f1b96007004",
   "metadata": {},
   "outputs": [
    {
     "data": {
      "text/plain": [
       "Text(0, 0.5, 'Close Price')"
      ]
     },
     "execution_count": 158,
     "metadata": {},
     "output_type": "execute_result"
    },
    {
     "data": {
      "image/png": "[encoded data removed]",
      "text/plain": [
       "<Figure size 640x480 with 1 Axes>"
      ]
     },
     "metadata": {},
     "output_type": "display_data"
    }
   ],
   "source": [
    "ax = df.plot(x='date', y='close');\n",
    "ax.set_xlabel(\"Date\")\n",
    "ax.set_ylabel(\"Close Price\")"
   ]
  },
  {
   "cell_type": "markdown",
   "id": "a9a8c62d-d9b1-493c-a789-ad3b4179e3da",
   "metadata": {},
   "source": [
    "## Normalization"
   ]
  },
  {
   "cell_type": "code",
   "execution_count": 159,
   "id": "c727ce31-eec5-46ba-8486-413f5cefc597",
   "metadata": {},
   "outputs": [],
   "source": [
    "scaler = MinMaxScaler()\n",
    "\n",
    "close_price = df.close.values.reshape(-1, 1)\n",
    "\n",
    "scaled_close = scaler.fit_transform(close_price)"
   ]
  },
  {
   "cell_type": "code",
   "execution_count": 160,
   "id": "d214482a-9888-42ec-a303-6dba44d5ef05",
   "metadata": {},
   "outputs": [
    {
     "data": {
      "text/plain": [
       "(1000, 1)"
      ]
     },
     "execution_count": 160,
     "metadata": {},
     "output_type": "execute_result"
    }
   ],
   "source": [
    "scaled_close.shape"
   ]
  },
  {
   "cell_type": "code",
   "execution_count": 161,
   "id": "09f9219e-4237-406e-a2cf-9ad3c9d2705a",
   "metadata": {},
   "outputs": [
    {
     "data": {
      "text/plain": [
       "False"
      ]
     },
     "execution_count": 161,
     "metadata": {},
     "output_type": "execute_result"
    }
   ],
   "source": [
    "np.isnan(scaled_close).any()"
   ]
  },
  {
   "cell_type": "code",
   "execution_count": 162,
   "id": "9db2983d-3b3a-4853-88be-b16ea48da68e",
   "metadata": {},
   "outputs": [
    {
     "data": {
      "text/plain": [
       "(array([[0.05092593],\n",
       "        [0.04166667],\n",
       "        [0.03703704],\n",
       "        [0.03703704],\n",
       "        [0.05092593],\n",
       "        [0.04166667],\n",
       "        [0.0462963 ],\n",
       "        [0.04166667],\n",
       "        [0.04166667],\n",
       "        [0.03703704]]),\n",
       " array([[270.2],\n",
       "        [270. ],\n",
       "        [269.9],\n",
       "        [269.9],\n",
       "        [270.2],\n",
       "        [270. ],\n",
       "        [270.1],\n",
       "        [270. ],\n",
       "        [270. ],\n",
       "        [269.9]]))"
      ]
     },
     "execution_count": 162,
     "metadata": {},
     "output_type": "execute_result"
    }
   ],
   "source": [
    "scaled_close[:10], close_price[:10]"
   ]
  },
  {
   "cell_type": "code",
   "execution_count": 163,
   "id": "ae363b60-b54b-4946-91cc-2c4862f7ed7e",
   "metadata": {},
   "outputs": [],
   "source": [
    "scaled_close = scaled_close[~np.isnan(scaled_close)]"
   ]
  },
  {
   "cell_type": "code",
   "execution_count": 164,
   "id": "fe029771-dbd9-4838-8596-0eb7e9384840",
   "metadata": {},
   "outputs": [],
   "source": [
    "scaled_close = scaled_close.reshape(-1, 1)"
   ]
  },
  {
   "cell_type": "code",
   "execution_count": 165,
   "id": "b76ee2f8-8363-4b25-851b-6c306b818a57",
   "metadata": {},
   "outputs": [
    {
     "data": {
      "text/plain": [
       "False"
      ]
     },
     "execution_count": 165,
     "metadata": {},
     "output_type": "execute_result"
    }
   ],
   "source": [
    "np.isnan(scaled_close).any()"
   ]
  },
  {
   "cell_type": "markdown",
   "id": "3062ac59-a3e5-40be-9d1e-c33e96d29651",
   "metadata": {},
   "source": [
    "## Preprocessing"
   ]
  },
  {
   "cell_type": "code",
   "execution_count": 166,
   "id": "8d16ca73-9fae-4705-b89b-25728afc368d",
   "metadata": {},
   "outputs": [],
   "source": [
    "SEQ_LEN = 100\n",
    "\n",
    "def to_sequences(data, seq_len):\n",
    "    d = []\n",
    "\n",
    "    for index in range(len(data) - seq_len):\n",
    "        d.append(data[index: index + seq_len])\n",
    "\n",
    "    return np.array(d)\n",
    "\n",
    "def preprocess(data_raw, seq_len, train_split):\n",
    "\n",
    "    data = to_sequences(data_raw, seq_len)\n",
    "\n",
    "    num_train = int(train_split * data.shape[0])\n",
    "\n",
    "    X_train = data[:num_train, :-1, :]\n",
    "    y_train = data[:num_train, -1, :]\n",
    "\n",
    "    X_test = data[num_train:, :-1, :]\n",
    "    y_test = data[num_train:, -1, :]\n",
    "\n",
    "    return X_train, y_train, X_test, y_test\n",
    "\n",
    "\n",
    "X_train, y_train, X_test, y_test = preprocess(scaled_close, SEQ_LEN, train_split = 0.80)"
   ]
  },
  {
   "cell_type": "code",
   "execution_count": 167,
   "id": "3c2c6f5e-97e3-457b-9f15-d62ae403951a",
   "metadata": {},
   "outputs": [
    {
     "data": {
      "text/plain": [
       "(720, 99, 1)"
      ]
     },
     "execution_count": 167,
     "metadata": {},
     "output_type": "execute_result"
    }
   ],
   "source": [
    "X_train.shape"
   ]
  },
  {
   "cell_type": "code",
   "execution_count": 168,
   "id": "66f57a74-edbc-45c0-b1d2-f2fe9fa833ce",
   "metadata": {},
   "outputs": [
    {
     "data": {
      "text/plain": [
       "(180, 99, 1)"
      ]
     },
     "execution_count": 168,
     "metadata": {},
     "output_type": "execute_result"
    }
   ],
   "source": [
    "X_test.shape"
   ]
  },
  {
   "cell_type": "markdown",
   "id": "07ec1a8c-8a73-4d96-bcfe-817b21873d6f",
   "metadata": {},
   "source": [
    "## Model"
   ]
  },
  {
   "cell_type": "code",
   "execution_count": 169,
   "id": "945528f2-3c1a-44be-acb0-f03ee62b3918",
   "metadata": {},
   "outputs": [],
   "source": [
    "DROPOUT = 0.2\n",
    "WINDOW_SIZE = SEQ_LEN - 1\n",
    "\n",
    "model = keras.Sequential()\n",
    "\n",
    "model.add(tf.keras.layers.Bidirectional(LSTM(WINDOW_SIZE, return_sequences=True),\n",
    "                        input_shape=(WINDOW_SIZE, X_train.shape[-1])))\n",
    "model.add(Dropout(rate=DROPOUT))\n",
    "\n",
    "model.add(Bidirectional(LSTM((WINDOW_SIZE * 2), return_sequences=True)))\n",
    "model.add(Dropout(rate=DROPOUT))\n",
    "\n",
    "model.add(Bidirectional(LSTM(WINDOW_SIZE, return_sequences=False)))\n",
    "\n",
    "model.add(Dense(units=1))\n",
    "\n",
    "model.add(Activation('linear'))"
   ]
  },
  {
   "cell_type": "markdown",
   "id": "155554ae-f3a5-434c-ae1b-0e89e323e262",
   "metadata": {},
   "source": [
    "## Training"
   ]
  },
  {
   "cell_type": "code",
   "execution_count": 170,
   "id": "bf188592-465f-4219-8f10-9e879003ac48",
   "metadata": {},
   "outputs": [],
   "source": [
    "model.compile(\n",
    "    loss='mean_squared_error', \n",
    "    optimizer='adam'\n",
    "    # optimizer=tf.keras.optimizers.Adam(learning_rate=0.001)\n",
    ")"
   ]
  },
  {
   "cell_type": "code",
   "execution_count": 171,
   "id": "1d8777be-1f41-4828-b0ae-2c106fd2a89e",
   "metadata": {},
   "outputs": [
    {
     "name": "stdout",
     "output_type": "stream",
     "text": [
      "Epoch 1/50\n",
      "11/11 [==============================] - 8s 378ms/step - loss: 0.0384 - val_loss: 0.0588\n",
      "Epoch 2/50\n",
      "11/11 [==============================] - 3s 278ms/step - loss: 0.0513 - val_loss: 0.0098\n",
      "Epoch 3/50\n",
      "11/11 [==============================] - 3s 279ms/step - loss: 0.0238 - val_loss: 0.0434\n",
      "Epoch 4/50\n",
      "11/11 [==============================] - 3s 281ms/step - loss: 0.0539 - val_loss: 0.0854\n",
      "Epoch 5/50\n",
      "11/11 [==============================] - 3s 277ms/step - loss: 0.0338 - val_loss: 0.0198\n",
      "Epoch 6/50\n",
      "11/11 [==============================] - 3s 274ms/step - loss: 0.0157 - val_loss: 0.0021\n",
      "Epoch 7/50\n",
      "11/11 [==============================] - 3s 277ms/step - loss: 0.0346 - val_loss: 0.1084\n",
      "Epoch 8/50\n",
      "11/11 [==============================] - 3s 277ms/step - loss: 0.0138 - val_loss: 0.0141\n",
      "Epoch 9/50\n",
      "11/11 [==============================] - 3s 282ms/step - loss: 0.0031 - val_loss: 0.0018\n",
      "Epoch 10/50\n",
      "11/11 [==============================] - 3s 305ms/step - loss: 0.0021 - val_loss: 0.0017\n",
      "Epoch 11/50\n",
      "11/11 [==============================] - 3s 280ms/step - loss: 0.0032 - val_loss: 0.0057\n",
      "Epoch 12/50\n",
      "11/11 [==============================] - 3s 276ms/step - loss: 0.0020 - val_loss: 9.5747e-04\n",
      "Epoch 13/50\n",
      "11/11 [==============================] - 3s 278ms/step - loss: 0.0024 - val_loss: 0.0031\n",
      "Epoch 14/50\n",
      "11/11 [==============================] - 3s 278ms/step - loss: 0.0016 - val_loss: 8.2635e-04\n",
      "Epoch 15/50\n",
      "11/11 [==============================] - 3s 278ms/step - loss: 0.0030 - val_loss: 0.0082\n",
      "Epoch 16/50\n",
      "11/11 [==============================] - 3s 277ms/step - loss: 0.0018 - val_loss: 8.2815e-04\n",
      "Epoch 17/50\n",
      "11/11 [==============================] - 3s 278ms/step - loss: 0.0030 - val_loss: 0.0089\n",
      "Epoch 18/50\n",
      "11/11 [==============================] - 3s 277ms/step - loss: 0.0016 - val_loss: 8.5170e-04\n",
      "Epoch 19/50\n",
      "11/11 [==============================] - 3s 278ms/step - loss: 0.0025 - val_loss: 0.0071\n",
      "Epoch 20/50\n",
      "11/11 [==============================] - 3s 284ms/step - loss: 0.0014 - val_loss: 8.6800e-04\n",
      "Epoch 21/50\n",
      "11/11 [==============================] - 3s 278ms/step - loss: 0.0022 - val_loss: 0.0055\n",
      "Epoch 22/50\n",
      "11/11 [==============================] - 3s 276ms/step - loss: 0.0013 - val_loss: 7.7412e-04\n",
      "Epoch 23/50\n",
      "11/11 [==============================] - 3s 278ms/step - loss: 0.0021 - val_loss: 0.0057\n",
      "Epoch 24/50\n",
      "11/11 [==============================] - 3s 277ms/step - loss: 0.0013 - val_loss: 7.6901e-04\n",
      "Epoch 25/50\n",
      "11/11 [==============================] - 3s 282ms/step - loss: 0.0020 - val_loss: 0.0052\n",
      "Epoch 26/50\n",
      "11/11 [==============================] - 3s 277ms/step - loss: 0.0013 - val_loss: 7.5412e-04\n",
      "Epoch 27/50\n",
      "11/11 [==============================] - 3s 277ms/step - loss: 0.0018 - val_loss: 0.0039\n",
      "Epoch 28/50\n",
      "11/11 [==============================] - 3s 282ms/step - loss: 0.0012 - val_loss: 7.1867e-04\n",
      "Epoch 29/50\n",
      "11/11 [==============================] - 3s 277ms/step - loss: 0.0020 - val_loss: 0.0051\n",
      "Epoch 30/50\n",
      "11/11 [==============================] - 3s 282ms/step - loss: 0.0014 - val_loss: 7.1653e-04\n",
      "Epoch 31/50\n",
      "11/11 [==============================] - 3s 278ms/step - loss: 0.0021 - val_loss: 0.0044\n",
      "Epoch 32/50\n",
      "11/11 [==============================] - 3s 278ms/step - loss: 0.0015 - val_loss: 7.0498e-04\n",
      "Epoch 33/50\n",
      "11/11 [==============================] - 3s 276ms/step - loss: 0.0023 - val_loss: 0.0046\n",
      "Epoch 34/50\n",
      "11/11 [==============================] - 3s 276ms/step - loss: 0.0017 - val_loss: 6.9095e-04\n",
      "Epoch 35/50\n",
      "11/11 [==============================] - 3s 281ms/step - loss: 0.0032 - val_loss: 0.0085\n",
      "Epoch 36/50\n",
      "11/11 [==============================] - 3s 278ms/step - loss: 0.0023 - val_loss: 7.2672e-04\n",
      "Epoch 37/50\n",
      "11/11 [==============================] - 3s 277ms/step - loss: 0.0037 - val_loss: 0.0101\n",
      "Epoch 38/50\n",
      "11/11 [==============================] - 3s 278ms/step - loss: 0.0025 - val_loss: 7.4928e-04\n",
      "Epoch 39/50\n",
      "11/11 [==============================] - 3s 279ms/step - loss: 0.0041 - val_loss: 0.0109\n",
      "Epoch 40/50\n",
      "11/11 [==============================] - 3s 278ms/step - loss: 0.0026 - val_loss: 7.7670e-04\n",
      "Epoch 41/50\n",
      "11/11 [==============================] - 3s 281ms/step - loss: 0.0040 - val_loss: 0.0113\n",
      "Epoch 42/50\n",
      "11/11 [==============================] - 3s 279ms/step - loss: 0.0021 - val_loss: 7.8384e-04\n",
      "Epoch 43/50\n",
      "11/11 [==============================] - 3s 275ms/step - loss: 0.0029 - val_loss: 0.0080\n",
      "Epoch 44/50\n",
      "11/11 [==============================] - 3s 274ms/step - loss: 0.0017 - val_loss: 7.6245e-04\n",
      "Epoch 45/50\n",
      "11/11 [==============================] - 3s 279ms/step - loss: 0.0025 - val_loss: 0.0068\n",
      "Epoch 46/50\n",
      "11/11 [==============================] - 3s 280ms/step - loss: 0.0014 - val_loss: 7.3626e-04\n",
      "Epoch 47/50\n",
      "11/11 [==============================] - 3s 278ms/step - loss: 0.0020 - val_loss: 0.0042\n",
      "Epoch 48/50\n",
      "11/11 [==============================] - 3s 276ms/step - loss: 0.0013 - val_loss: 6.9922e-04\n",
      "Epoch 49/50\n",
      "11/11 [==============================] - 3s 276ms/step - loss: 0.0021 - val_loss: 0.0050\n",
      "Epoch 50/50\n",
      "11/11 [==============================] - 3s 275ms/step - loss: 0.0014 - val_loss: 7.5482e-04\n"
     ]
    }
   ],
   "source": [
    "BATCH_SIZE = 64\n",
    "\n",
    "history = model.fit(\n",
    "    X_train, \n",
    "    y_train, \n",
    "    epochs=50, \n",
    "    batch_size=BATCH_SIZE, \n",
    "    shuffle=False,\n",
    "    validation_split=0.1\n",
    ")"
   ]
  },
  {
   "cell_type": "code",
   "execution_count": 172,
   "id": "9bb52f4e-0efe-466a-abc7-ea7a84eff4b6",
   "metadata": {},
   "outputs": [
    {
     "name": "stdout",
     "output_type": "stream",
     "text": [
      "6/6 [==============================] - 0s 61ms/step - loss: 0.0016\n"
     ]
    },
    {
     "data": {
      "text/plain": [
       "0.0015705529367551208"
      ]
     },
     "execution_count": 172,
     "metadata": {},
     "output_type": "execute_result"
    }
   ],
   "source": [
    "model.evaluate(X_test, y_test)"
   ]
  },
  {
   "cell_type": "code",
   "execution_count": 173,
   "id": "7a361c5a-5da5-40f9-80a4-b6b1d41ba2fc",
   "metadata": {},
   "outputs": [
    {
     "data": {
      "image/png": "[encoded data removed]",
      "text/plain": [
       "<Figure size 640x480 with 1 Axes>"
      ]
     },
     "metadata": {},
     "output_type": "display_data"
    }
   ],
   "source": [
    "plt.plot(history.history['loss'])\n",
    "plt.plot(history.history['val_loss'])\n",
    "plt.title('model loss')\n",
    "plt.ylabel('loss')\n",
    "plt.xlabel('epoch')\n",
    "plt.legend(['train', 'test'], loc='upper left')\n",
    "plt.show()"
   ]
  },
  {
   "cell_type": "markdown",
   "id": "e6e0a1e6-6995-482c-af1c-a4847b84b0bc",
   "metadata": {},
   "source": [
    "## Prediction"
   ]
  },
  {
   "cell_type": "code",
   "execution_count": 174,
   "id": "88a1bd4f-c53d-4d02-8f4c-50c8a18e8b75",
   "metadata": {},
   "outputs": [
    {
     "name": "stdout",
     "output_type": "stream",
     "text": [
      "6/6 [==============================] - 1s 62ms/step\n"
     ]
    },
    {
     "data": {
      "image/png": "[encoded data removed]",
      "text/plain": [
       "<Figure size 640x480 with 1 Axes>"
      ]
     },
     "metadata": {},
     "output_type": "display_data"
    }
   ],
   "source": [
    "y_hat = model.predict(X_test)\n",
    "\n",
    "y_test_inverse = scaler.inverse_transform(y_test)\n",
    "y_hat_inverse = scaler.inverse_transform(y_hat)\n",
    " \n",
    "plt.plot(y_test_inverse, label=\"Actual Price\", color='green')\n",
    "plt.plot(y_hat_inverse, label=\"Predicted Price\", color='red')\n",
    " \n",
    "plt.title('BNB price prediction')\n",
    "plt.xlabel('Time [candle of 5 minutes]')\n",
    "plt.ylabel('Price')\n",
    "plt.legend(loc='best')\n",
    " \n",
    "plt.show();"
   ]
  },
  {
   "cell_type": "code",
   "execution_count": null,
   "id": "d675f4cc-fe68-4339-b5f2-fbf98d39c154",
   "metadata": {},
   "outputs": [],
   "source": []
  }
 ],
 "metadata": {
  "kernelspec": {
   "display_name": "Python 3 (ipykernel)",
   "language": "python",
   "name": "python3"
  },
  "language_info": {
   "codemirror_mode": {
    "name": "ipython",
    "version": 3
   },
   "file_extension": ".py",
   "mimetype": "text/x-python",
   "name": "python",
   "nbconvert_exporter": "python",
   "pygments_lexer": "ipython3",
   "version": "3.10.6"
  }
 },
 "nbformat": 4,
 "nbformat_minor": 5
}
