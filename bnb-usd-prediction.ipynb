{
 "cells": [
  {
   "cell_type": "markdown",
   "id": "c5e97274-4251-481a-8ac7-b228a95e8d79",
   "metadata": {},
   "source": [
    "# Reference: \n",
    "Article: https://towardsdatascience.com/cryptocurrency-price-prediction-using-lstms-tensorflow-for-hackers-part-iii-264fcdbccd3f\n",
    "\n",
    "Code: https://colab.research.google.com/drive/1wWvtA5RC6-is6J8W86wzK52Knr3N1Xbm#scrollTo=Lui1XTi0xVsF\n"
   ]
  },
  {
   "cell_type": "code",
   "execution_count": 148,
   "id": "9ad943fa-4fc2-401e-9cdb-61658fc25f82",
   "metadata": {},
   "outputs": [],
   "source": [
    "import pandas as pd\n",
    "import tensorflow as tf\n",
    "from tensorflow import keras\n",
    "\n",
    "import numpy as np\n",
    "\n",
    "import matplotlib.pyplot as plt\n",
    "\n",
    "from sklearn.preprocessing import MinMaxScaler\n",
    "\n",
    "# from tensorflow.keras.layers import Bidirectional, Dropout, Activation, Dense, LSTM\n",
    "from keras.layers import Input, LSTM, Dense, TimeDistributed, Activation, BatchNormalization, Dropout, Bidirectional\n",
    "from keras.models import Sequential\n",
    "from keras.utils import Sequence\n",
    "from keras.layers import LSTM\n",
    "\n",
    "#from tensorflow.python.keras.layers import CuDNNLSTM\n",
    "#from tensorflow.keras.models import Sequential"
   ]
  },
  {
   "cell_type": "code",
   "execution_count": 149,
   "id": "941ecba5-32b3-4c81-8595-7884d31515a0",
   "metadata": {},
   "outputs": [],
   "source": [
    "RANDOM_SEED = 42\n",
    "np.random.seed(RANDOM_SEED)"
   ]
  },
  {
   "cell_type": "code",
   "execution_count": 150,
   "id": "b2b11f3c-abf7-44e2-bda8-397108acb63e",
   "metadata": {},
   "outputs": [
    {
     "data": {
      "text/html": [
       "<div>\n",
       "<style scoped>\n",
       "    .dataframe tbody tr th:only-of-type {\n",
       "        vertical-align: middle;\n",
       "    }\n",
       "\n",
       "    .dataframe tbody tr th {\n",
       "        vertical-align: top;\n",
       "    }\n",
       "\n",
       "    .dataframe thead th {\n",
       "        text-align: right;\n",
       "    }\n",
       "</style>\n",
       "<table border=\"1\" class=\"dataframe\">\n",
       "  <thead>\n",
       "    <tr style=\"text-align: right;\">\n",
       "      <th></th>\n",
       "      <th>time</th>\n",
       "      <th>open</th>\n",
       "      <th>high</th>\n",
       "      <th>low</th>\n",
       "      <th>close</th>\n",
       "      <th>volume</th>\n",
       "      <th>close_time</th>\n",
       "      <th>quote_asset_volume</th>\n",
       "      <th>number_of_trades</th>\n",
       "      <th>taker_buy_base_asset_volume</th>\n",
       "      <th>taker_buy_quote_asset_volume</th>\n",
       "      <th>unused</th>\n",
       "      <th>date</th>\n",
       "    </tr>\n",
       "  </thead>\n",
       "  <tbody>\n",
       "    <tr>\n",
       "      <th>0</th>\n",
       "      <td>1666562700000</td>\n",
       "      <td>275.8</td>\n",
       "      <td>276.0</td>\n",
       "      <td>275.4</td>\n",
       "      <td>275.7</td>\n",
       "      <td>1319.361</td>\n",
       "      <td>1666562999999</td>\n",
       "      <td>363808.3416</td>\n",
       "      <td>671</td>\n",
       "      <td>729.105</td>\n",
       "      <td>201079.5090</td>\n",
       "      <td>0</td>\n",
       "      <td>2022-10-23 22:05:00</td>\n",
       "    </tr>\n",
       "    <tr>\n",
       "      <th>1</th>\n",
       "      <td>1666563000000</td>\n",
       "      <td>275.7</td>\n",
       "      <td>276.1</td>\n",
       "      <td>275.7</td>\n",
       "      <td>276.0</td>\n",
       "      <td>833.459</td>\n",
       "      <td>1666563299999</td>\n",
       "      <td>229959.4299</td>\n",
       "      <td>503</td>\n",
       "      <td>380.697</td>\n",
       "      <td>105031.5514</td>\n",
       "      <td>0</td>\n",
       "      <td>2022-10-23 22:10:00</td>\n",
       "    </tr>\n",
       "    <tr>\n",
       "      <th>2</th>\n",
       "      <td>1666563300000</td>\n",
       "      <td>276.0</td>\n",
       "      <td>276.1</td>\n",
       "      <td>275.8</td>\n",
       "      <td>276.0</td>\n",
       "      <td>584.709</td>\n",
       "      <td>1666563599999</td>\n",
       "      <td>161346.1053</td>\n",
       "      <td>479</td>\n",
       "      <td>144.275</td>\n",
       "      <td>39817.0567</td>\n",
       "      <td>0</td>\n",
       "      <td>2022-10-23 22:15:00</td>\n",
       "    </tr>\n",
       "    <tr>\n",
       "      <th>3</th>\n",
       "      <td>1666563600000</td>\n",
       "      <td>276.0</td>\n",
       "      <td>276.4</td>\n",
       "      <td>275.9</td>\n",
       "      <td>276.0</td>\n",
       "      <td>703.302</td>\n",
       "      <td>1666563899999</td>\n",
       "      <td>194225.3430</td>\n",
       "      <td>571</td>\n",
       "      <td>388.694</td>\n",
       "      <td>107332.0314</td>\n",
       "      <td>0</td>\n",
       "      <td>2022-10-23 22:20:00</td>\n",
       "    </tr>\n",
       "    <tr>\n",
       "      <th>4</th>\n",
       "      <td>1666563900000</td>\n",
       "      <td>276.1</td>\n",
       "      <td>276.6</td>\n",
       "      <td>276.0</td>\n",
       "      <td>276.4</td>\n",
       "      <td>896.047</td>\n",
       "      <td>1666564199999</td>\n",
       "      <td>247627.2501</td>\n",
       "      <td>601</td>\n",
       "      <td>504.912</td>\n",
       "      <td>139543.5567</td>\n",
       "      <td>0</td>\n",
       "      <td>2022-10-23 22:25:00</td>\n",
       "    </tr>\n",
       "  </tbody>\n",
       "</table>\n",
       "</div>"
      ],
      "text/plain": [
       "            time   open   high    low  close    volume     close_time  \\\n",
       "0  1666562700000  275.8  276.0  275.4  275.7  1319.361  1666562999999   \n",
       "1  1666563000000  275.7  276.1  275.7  276.0   833.459  1666563299999   \n",
       "2  1666563300000  276.0  276.1  275.8  276.0   584.709  1666563599999   \n",
       "3  1666563600000  276.0  276.4  275.9  276.0   703.302  1666563899999   \n",
       "4  1666563900000  276.1  276.6  276.0  276.4   896.047  1666564199999   \n",
       "\n",
       "   quote_asset_volume  number_of_trades  taker_buy_base_asset_volume  \\\n",
       "0         363808.3416               671                      729.105   \n",
       "1         229959.4299               503                      380.697   \n",
       "2         161346.1053               479                      144.275   \n",
       "3         194225.3430               571                      388.694   \n",
       "4         247627.2501               601                      504.912   \n",
       "\n",
       "   taker_buy_quote_asset_volume  unused                date  \n",
       "0                   201079.5090       0 2022-10-23 22:05:00  \n",
       "1                   105031.5514       0 2022-10-23 22:10:00  \n",
       "2                    39817.0567       0 2022-10-23 22:15:00  \n",
       "3                   107332.0314       0 2022-10-23 22:20:00  \n",
       "4                   139543.5567       0 2022-10-23 22:25:00  "
      ]
     },
     "execution_count": 150,
     "metadata": {},
     "output_type": "execute_result"
    }
   ],
   "source": [
    "url_binance_bnbusdt_5m = \"https://api.binance.com/api/v3/klines?symbol=BNBUSDT&limit=1000&interval=5m\"\n",
    "df = pd.read_json(url_binance_bnbusdt_5m)\n",
    "\n",
    "df.columns = [\n",
    "    'time', \n",
    "    'open', \n",
    "    'high', \n",
    "    'low', \n",
    "    'close', \n",
    "    'volume', \n",
    "    'close_time', \n",
    "    'quote_asset_volume', \n",
    "    'number_of_trades', \n",
    "    'taker_buy_base_asset_volume', \n",
    "    'taker_buy_quote_asset_volume', \n",
    "    'unused'\n",
    "]\n",
    "\n",
    "df['date'] = pd.to_datetime(df['time'], unit='ms')\n",
    "\n",
    "df.head()"
   ]
  },
  {
   "cell_type": "code",
   "execution_count": 151,
   "id": "28975d96-451c-4ff8-acba-564950a35775",
   "metadata": {},
   "outputs": [],
   "source": [
    "df.sort_values('time', inplace=True)"
   ]
  },
  {
   "cell_type": "code",
   "execution_count": 152,
   "id": "11b1231d-2a59-4ed2-b8d7-f8be6a77449a",
   "metadata": {},
   "outputs": [
    {
     "data": {
      "text/html": [
       "<div>\n",
       "<style scoped>\n",
       "    .dataframe tbody tr th:only-of-type {\n",
       "        vertical-align: middle;\n",
       "    }\n",
       "\n",
       "    .dataframe tbody tr th {\n",
       "        vertical-align: top;\n",
       "    }\n",
       "\n",
       "    .dataframe thead th {\n",
       "        text-align: right;\n",
       "    }\n",
       "</style>\n",
       "<table border=\"1\" class=\"dataframe\">\n",
       "  <thead>\n",
       "    <tr style=\"text-align: right;\">\n",
       "      <th></th>\n",
       "      <th>time</th>\n",
       "      <th>open</th>\n",
       "      <th>high</th>\n",
       "      <th>low</th>\n",
       "      <th>close</th>\n",
       "      <th>volume</th>\n",
       "      <th>close_time</th>\n",
       "      <th>quote_asset_volume</th>\n",
       "      <th>number_of_trades</th>\n",
       "      <th>taker_buy_base_asset_volume</th>\n",
       "      <th>taker_buy_quote_asset_volume</th>\n",
       "      <th>unused</th>\n",
       "      <th>date</th>\n",
       "    </tr>\n",
       "  </thead>\n",
       "  <tbody>\n",
       "    <tr>\n",
       "      <th>0</th>\n",
       "      <td>1666562700000</td>\n",
       "      <td>275.8</td>\n",
       "      <td>276.0</td>\n",
       "      <td>275.4</td>\n",
       "      <td>275.7</td>\n",
       "      <td>1319.361</td>\n",
       "      <td>1666562999999</td>\n",
       "      <td>363808.3416</td>\n",
       "      <td>671</td>\n",
       "      <td>729.105</td>\n",
       "      <td>201079.5090</td>\n",
       "      <td>0</td>\n",
       "      <td>2022-10-23 22:05:00</td>\n",
       "    </tr>\n",
       "    <tr>\n",
       "      <th>1</th>\n",
       "      <td>1666563000000</td>\n",
       "      <td>275.7</td>\n",
       "      <td>276.1</td>\n",
       "      <td>275.7</td>\n",
       "      <td>276.0</td>\n",
       "      <td>833.459</td>\n",
       "      <td>1666563299999</td>\n",
       "      <td>229959.4299</td>\n",
       "      <td>503</td>\n",
       "      <td>380.697</td>\n",
       "      <td>105031.5514</td>\n",
       "      <td>0</td>\n",
       "      <td>2022-10-23 22:10:00</td>\n",
       "    </tr>\n",
       "    <tr>\n",
       "      <th>2</th>\n",
       "      <td>1666563300000</td>\n",
       "      <td>276.0</td>\n",
       "      <td>276.1</td>\n",
       "      <td>275.8</td>\n",
       "      <td>276.0</td>\n",
       "      <td>584.709</td>\n",
       "      <td>1666563599999</td>\n",
       "      <td>161346.1053</td>\n",
       "      <td>479</td>\n",
       "      <td>144.275</td>\n",
       "      <td>39817.0567</td>\n",
       "      <td>0</td>\n",
       "      <td>2022-10-23 22:15:00</td>\n",
       "    </tr>\n",
       "    <tr>\n",
       "      <th>3</th>\n",
       "      <td>1666563600000</td>\n",
       "      <td>276.0</td>\n",
       "      <td>276.4</td>\n",
       "      <td>275.9</td>\n",
       "      <td>276.0</td>\n",
       "      <td>703.302</td>\n",
       "      <td>1666563899999</td>\n",
       "      <td>194225.3430</td>\n",
       "      <td>571</td>\n",
       "      <td>388.694</td>\n",
       "      <td>107332.0314</td>\n",
       "      <td>0</td>\n",
       "      <td>2022-10-23 22:20:00</td>\n",
       "    </tr>\n",
       "    <tr>\n",
       "      <th>4</th>\n",
       "      <td>1666563900000</td>\n",
       "      <td>276.1</td>\n",
       "      <td>276.6</td>\n",
       "      <td>276.0</td>\n",
       "      <td>276.4</td>\n",
       "      <td>896.047</td>\n",
       "      <td>1666564199999</td>\n",
       "      <td>247627.2501</td>\n",
       "      <td>601</td>\n",
       "      <td>504.912</td>\n",
       "      <td>139543.5567</td>\n",
       "      <td>0</td>\n",
       "      <td>2022-10-23 22:25:00</td>\n",
       "    </tr>\n",
       "  </tbody>\n",
       "</table>\n",
       "</div>"
      ],
      "text/plain": [
       "            time   open   high    low  close    volume     close_time  \\\n",
       "0  1666562700000  275.8  276.0  275.4  275.7  1319.361  1666562999999   \n",
       "1  1666563000000  275.7  276.1  275.7  276.0   833.459  1666563299999   \n",
       "2  1666563300000  276.0  276.1  275.8  276.0   584.709  1666563599999   \n",
       "3  1666563600000  276.0  276.4  275.9  276.0   703.302  1666563899999   \n",
       "4  1666563900000  276.1  276.6  276.0  276.4   896.047  1666564199999   \n",
       "\n",
       "   quote_asset_volume  number_of_trades  taker_buy_base_asset_volume  \\\n",
       "0         363808.3416               671                      729.105   \n",
       "1         229959.4299               503                      380.697   \n",
       "2         161346.1053               479                      144.275   \n",
       "3         194225.3430               571                      388.694   \n",
       "4         247627.2501               601                      504.912   \n",
       "\n",
       "   taker_buy_quote_asset_volume  unused                date  \n",
       "0                   201079.5090       0 2022-10-23 22:05:00  \n",
       "1                   105031.5514       0 2022-10-23 22:10:00  \n",
       "2                    39817.0567       0 2022-10-23 22:15:00  \n",
       "3                   107332.0314       0 2022-10-23 22:20:00  \n",
       "4                   139543.5567       0 2022-10-23 22:25:00  "
      ]
     },
     "execution_count": 152,
     "metadata": {},
     "output_type": "execute_result"
    }
   ],
   "source": [
    "df.head()"
   ]
  },
  {
   "cell_type": "code",
   "execution_count": 153,
   "id": "bb8d29cd-7ccb-4973-85b7-0f1b96007004",
   "metadata": {},
   "outputs": [
    {
     "data": {
      "text/plain": [
       "Text(0, 0.5, 'Close Price')"
      ]
     },
     "execution_count": 153,
     "metadata": {},
     "output_type": "execute_result"
    },
    {
     "data": {
      "image/png": "[encoded data removed]",
      "text/plain": [
       "<Figure size 640x480 with 1 Axes>"
      ]
     },
     "metadata": {},
     "output_type": "display_data"
    }
   ],
   "source": [
    "ax = df.plot(x='date', y='close');\n",
    "ax.set_xlabel(\"Date\")\n",
    "ax.set_ylabel(\"Close Price\")"
   ]
  },
  {
   "cell_type": "markdown",
   "id": "a9a8c62d-d9b1-493c-a789-ad3b4179e3da",
   "metadata": {},
   "source": [
    "## Normalization"
   ]
  },
  {
   "cell_type": "code",
   "execution_count": 154,
   "id": "c727ce31-eec5-46ba-8486-413f5cefc597",
   "metadata": {},
   "outputs": [],
   "source": [
    "scaler = MinMaxScaler()\n",
    "\n",
    "close_price = df.close.values.reshape(-1, 1)\n",
    "\n",
    "scaled_close = scaler.fit_transform(close_price)"
   ]
  },
  {
   "cell_type": "code",
   "execution_count": 155,
   "id": "d214482a-9888-42ec-a303-6dba44d5ef05",
   "metadata": {},
   "outputs": [
    {
     "data": {
      "text/plain": [
       "(1000, 1)"
      ]
     },
     "execution_count": 155,
     "metadata": {},
     "output_type": "execute_result"
    }
   ],
   "source": [
    "scaled_close.shape"
   ]
  },
  {
   "cell_type": "code",
   "execution_count": 156,
   "id": "09f9219e-4237-406e-a2cf-9ad3c9d2705a",
   "metadata": {},
   "outputs": [
    {
     "data": {
      "text/plain": [
       "False"
      ]
     },
     "execution_count": 156,
     "metadata": {},
     "output_type": "execute_result"
    }
   ],
   "source": [
    "np.isnan(scaled_close).any()"
   ]
  },
  {
   "cell_type": "code",
   "execution_count": 157,
   "id": "9db2983d-3b3a-4853-88be-b16ea48da68e",
   "metadata": {},
   "outputs": [
    {
     "data": {
      "text/plain": [
       "(array([[0.18396226],\n",
       "        [0.19811321],\n",
       "        [0.19811321],\n",
       "        [0.19811321],\n",
       "        [0.21698113],\n",
       "        [0.22169811],\n",
       "        [0.20754717],\n",
       "        [0.21698113],\n",
       "        [0.20754717],\n",
       "        [0.19811321]]),\n",
       " array([[275.7],\n",
       "        [276. ],\n",
       "        [276. ],\n",
       "        [276. ],\n",
       "        [276.4],\n",
       "        [276.5],\n",
       "        [276.2],\n",
       "        [276.4],\n",
       "        [276.2],\n",
       "        [276. ]]))"
      ]
     },
     "execution_count": 157,
     "metadata": {},
     "output_type": "execute_result"
    }
   ],
   "source": [
    "scaled_close[:10], close_price[:10]"
   ]
  },
  {
   "cell_type": "code",
   "execution_count": 158,
   "id": "ae363b60-b54b-4946-91cc-2c4862f7ed7e",
   "metadata": {},
   "outputs": [],
   "source": [
    "scaled_close = scaled_close[~np.isnan(scaled_close)]"
   ]
  },
  {
   "cell_type": "code",
   "execution_count": 159,
   "id": "fe029771-dbd9-4838-8596-0eb7e9384840",
   "metadata": {},
   "outputs": [],
   "source": [
    "scaled_close = scaled_close.reshape(-1, 1)"
   ]
  },
  {
   "cell_type": "code",
   "execution_count": 160,
   "id": "b76ee2f8-8363-4b25-851b-6c306b818a57",
   "metadata": {},
   "outputs": [
    {
     "data": {
      "text/plain": [
       "False"
      ]
     },
     "execution_count": 160,
     "metadata": {},
     "output_type": "execute_result"
    }
   ],
   "source": [
    "np.isnan(scaled_close).any()"
   ]
  },
  {
   "cell_type": "markdown",
   "id": "3062ac59-a3e5-40be-9d1e-c33e96d29651",
   "metadata": {},
   "source": [
    "## Preprocessing"
   ]
  },
  {
   "cell_type": "code",
   "execution_count": 161,
   "id": "8d16ca73-9fae-4705-b89b-25728afc368d",
   "metadata": {},
   "outputs": [],
   "source": [
    "SEQ_LEN = 100\n",
    "\n",
    "def to_sequences(data, seq_len):\n",
    "    d = []\n",
    "\n",
    "    for index in range(len(data) - seq_len):\n",
    "        d.append(data[index: index + seq_len])\n",
    "\n",
    "\n",
    "    return np.array(d)\n",
    "\n",
    "def preprocess(data_raw, seq_len, train_split):\n",
    "\n",
    "    data = to_sequences(data_raw, seq_len)\n",
    "\n",
    "    num_train = int(train_split * data.shape[0])\n",
    "\n",
    "    X_train = data[:num_train, :-1, :]\n",
    "    y_train = data[:num_train, -1, :]\n",
    "\n",
    "    X_test = data[num_train:, :-1, :]\n",
    "    y_test = data[num_train:, -1, :]\n",
    "\n",
    "    return X_train, y_train, X_test, y_test\n",
    "\n",
    "\n",
    "X_train, y_train, X_test, y_test = preprocess(scaled_close, SEQ_LEN, train_split = 0.85)"
   ]
  },
  {
   "cell_type": "code",
   "execution_count": 162,
   "id": "3c2c6f5e-97e3-457b-9f15-d62ae403951a",
   "metadata": {},
   "outputs": [
    {
     "data": {
      "text/plain": [
       "(765, 99, 1)"
      ]
     },
     "execution_count": 162,
     "metadata": {},
     "output_type": "execute_result"
    }
   ],
   "source": [
    "X_train.shape"
   ]
  },
  {
   "cell_type": "code",
   "execution_count": 163,
   "id": "66f57a74-edbc-45c0-b1d2-f2fe9fa833ce",
   "metadata": {},
   "outputs": [
    {
     "data": {
      "text/plain": [
       "(135, 99, 1)"
      ]
     },
     "execution_count": 163,
     "metadata": {},
     "output_type": "execute_result"
    }
   ],
   "source": [
    "X_test.shape"
   ]
  },
  {
   "cell_type": "markdown",
   "id": "07ec1a8c-8a73-4d96-bcfe-817b21873d6f",
   "metadata": {},
   "source": [
    "## Model"
   ]
  },
  {
   "cell_type": "code",
   "execution_count": 164,
   "id": "945528f2-3c1a-44be-acb0-f03ee62b3918",
   "metadata": {},
   "outputs": [],
   "source": [
    "DROPOUT = 0.2\n",
    "WINDOW_SIZE = SEQ_LEN - 1\n",
    "\n",
    "model = keras.Sequential()\n",
    "\n",
    "model.add(tf.keras.layers.Bidirectional(LSTM(WINDOW_SIZE, return_sequences=True),\n",
    "                        input_shape=(WINDOW_SIZE, X_train.shape[-1])))\n",
    "model.add(Dropout(rate=DROPOUT))\n",
    "\n",
    "model.add(Bidirectional(LSTM((WINDOW_SIZE * 2), return_sequences=True)))\n",
    "model.add(Dropout(rate=DROPOUT))\n",
    "\n",
    "model.add(Bidirectional(LSTM(WINDOW_SIZE, return_sequences=False)))\n",
    "\n",
    "model.add(Dense(units=1))\n",
    "\n",
    "model.add(Activation('linear'))"
   ]
  },
  {
   "cell_type": "markdown",
   "id": "155554ae-f3a5-434c-ae1b-0e89e323e262",
   "metadata": {},
   "source": [
    "## Training"
   ]
  },
  {
   "cell_type": "code",
   "execution_count": 165,
   "id": "bf188592-465f-4219-8f10-9e879003ac48",
   "metadata": {},
   "outputs": [],
   "source": [
    "model.compile(\n",
    "    loss='mean_squared_error', \n",
    "    # optimizer='adam'\n",
    "    optimizer=tf.keras.optimizers.Adam(learning_rate=0.001)\n",
    ")"
   ]
  },
  {
   "cell_type": "code",
   "execution_count": 166,
   "id": "1d8777be-1f41-4828-b0ae-2c106fd2a89e",
   "metadata": {},
   "outputs": [
    {
     "name": "stdout",
     "output_type": "stream",
     "text": [
      "Epoch 1/100\n",
      "11/11 [==============================] - 8s 410ms/step - loss: 0.4457 - val_loss: 0.0042\n",
      "Epoch 2/100\n",
      "11/11 [==============================] - 3s 315ms/step - loss: 0.2070 - val_loss: 0.0836\n",
      "Epoch 3/100\n",
      "11/11 [==============================] - 3s 311ms/step - loss: 0.2481 - val_loss: 0.1040\n",
      "Epoch 4/100\n",
      "11/11 [==============================] - 3s 316ms/step - loss: 0.6325 - val_loss: 0.0329\n",
      "Epoch 5/100\n",
      "11/11 [==============================] - 3s 314ms/step - loss: 0.4307 - val_loss: 0.3436\n",
      "Epoch 6/100\n",
      "11/11 [==============================] - 3s 308ms/step - loss: 0.1064 - val_loss: 0.0501\n",
      "Epoch 7/100\n",
      "11/11 [==============================] - 3s 310ms/step - loss: 0.2937 - val_loss: 0.2190\n",
      "Epoch 8/100\n",
      "11/11 [==============================] - 3s 310ms/step - loss: 0.1801 - val_loss: 0.1594\n",
      "Epoch 9/100\n",
      "11/11 [==============================] - 3s 315ms/step - loss: 0.1982 - val_loss: 0.1580\n",
      "Epoch 10/100\n",
      "11/11 [==============================] - 3s 312ms/step - loss: 0.2051 - val_loss: 0.1728\n",
      "Epoch 11/100\n",
      "11/11 [==============================] - 3s 310ms/step - loss: 0.2031 - val_loss: 0.1609\n",
      "Epoch 12/100\n",
      "11/11 [==============================] - 3s 311ms/step - loss: 0.2078 - val_loss: 0.1712\n",
      "Epoch 13/100\n",
      "11/11 [==============================] - 3s 313ms/step - loss: 0.1995 - val_loss: 0.1620\n",
      "Epoch 14/100\n",
      "11/11 [==============================] - 3s 309ms/step - loss: 0.2054 - val_loss: 0.1670\n",
      "Epoch 15/100\n",
      "11/11 [==============================] - 3s 311ms/step - loss: 0.2024 - val_loss: 0.1673\n",
      "Epoch 16/100\n",
      "11/11 [==============================] - 3s 311ms/step - loss: 0.2006 - val_loss: 0.1668\n",
      "Epoch 17/100\n",
      "11/11 [==============================] - 3s 310ms/step - loss: 0.2008 - val_loss: 0.1659\n",
      "Epoch 18/100\n",
      "11/11 [==============================] - 3s 317ms/step - loss: 0.2015 - val_loss: 0.1661\n",
      "Epoch 19/100\n",
      "11/11 [==============================] - 3s 313ms/step - loss: 0.1994 - val_loss: 0.1247\n",
      "Epoch 20/100\n",
      "11/11 [==============================] - 3s 314ms/step - loss: 0.2021 - val_loss: 0.1408\n",
      "Epoch 21/100\n",
      "11/11 [==============================] - 3s 313ms/step - loss: 0.2169 - val_loss: 0.1563\n",
      "Epoch 22/100\n",
      "11/11 [==============================] - 3s 310ms/step - loss: 0.2124 - val_loss: 0.1789\n",
      "Epoch 23/100\n",
      "11/11 [==============================] - 3s 313ms/step - loss: 0.1937 - val_loss: 0.1568\n",
      "Epoch 24/100\n",
      "11/11 [==============================] - 3s 310ms/step - loss: 0.2079 - val_loss: 0.1699\n",
      "Epoch 25/100\n",
      "11/11 [==============================] - 3s 311ms/step - loss: 0.2000 - val_loss: 0.1622\n",
      "Epoch 26/100\n",
      "11/11 [==============================] - 3s 310ms/step - loss: 0.2032 - val_loss: 0.1636\n",
      "Epoch 27/100\n",
      "11/11 [==============================] - 3s 314ms/step - loss: 0.1997 - val_loss: 0.1350\n",
      "Epoch 28/100\n",
      "11/11 [==============================] - 3s 311ms/step - loss: 0.2284 - val_loss: 0.1581\n",
      "Epoch 29/100\n",
      "11/11 [==============================] - 3s 313ms/step - loss: 0.2147 - val_loss: 0.1849\n",
      "Epoch 30/100\n",
      "11/11 [==============================] - 3s 310ms/step - loss: 0.1844 - val_loss: 0.1328\n",
      "Epoch 31/100\n",
      "11/11 [==============================] - 3s 311ms/step - loss: 0.1912 - val_loss: 0.1282\n",
      "Epoch 32/100\n",
      "11/11 [==============================] - 3s 313ms/step - loss: 0.1853 - val_loss: 0.1481\n",
      "Epoch 33/100\n",
      "11/11 [==============================] - 3s 311ms/step - loss: 0.2967 - val_loss: 0.2319\n",
      "Epoch 34/100\n",
      "11/11 [==============================] - 3s 311ms/step - loss: 0.1802 - val_loss: 0.1488\n",
      "Epoch 35/100\n",
      "11/11 [==============================] - 3s 311ms/step - loss: 0.2094 - val_loss: 0.1610\n",
      "Epoch 36/100\n",
      "11/11 [==============================] - 3s 313ms/step - loss: 0.2099 - val_loss: 0.1740\n",
      "Epoch 37/100\n",
      "11/11 [==============================] - 3s 314ms/step - loss: 0.1965 - val_loss: 0.1608\n",
      "Epoch 38/100\n",
      "11/11 [==============================] - 3s 314ms/step - loss: 0.1436 - val_loss: 0.1582\n",
      "Epoch 39/100\n",
      "11/11 [==============================] - 3s 313ms/step - loss: 0.2419 - val_loss: 0.1241\n",
      "Epoch 40/100\n",
      "11/11 [==============================] - 3s 311ms/step - loss: 0.1760 - val_loss: 0.1629\n",
      "Epoch 41/100\n",
      "11/11 [==============================] - 3s 313ms/step - loss: 0.1931 - val_loss: 0.1669\n",
      "Epoch 42/100\n",
      "11/11 [==============================] - 3s 313ms/step - loss: 0.1833 - val_loss: 0.1510\n",
      "Epoch 43/100\n",
      "11/11 [==============================] - 3s 310ms/step - loss: 0.1370 - val_loss: 0.1104\n",
      "Epoch 44/100\n",
      "11/11 [==============================] - 3s 311ms/step - loss: 0.2268 - val_loss: 0.2306\n",
      "Epoch 45/100\n",
      "11/11 [==============================] - 3s 312ms/step - loss: 0.1400 - val_loss: 0.0752\n",
      "Epoch 46/100\n",
      "11/11 [==============================] - 3s 316ms/step - loss: 0.2220 - val_loss: 0.0947\n",
      "Epoch 47/100\n",
      "11/11 [==============================] - 3s 311ms/step - loss: 0.3341 - val_loss: 0.3763\n",
      "Epoch 48/100\n",
      "11/11 [==============================] - 3s 309ms/step - loss: 0.1017 - val_loss: 0.0984\n",
      "Epoch 49/100\n",
      "11/11 [==============================] - 3s 312ms/step - loss: 0.2349 - val_loss: 0.1776\n",
      "Epoch 50/100\n",
      "11/11 [==============================] - 3s 308ms/step - loss: 0.1971 - val_loss: 0.2244\n",
      "Epoch 51/100\n",
      "11/11 [==============================] - 3s 314ms/step - loss: 0.1763 - val_loss: 0.1481\n",
      "Epoch 52/100\n",
      "11/11 [==============================] - 3s 310ms/step - loss: 0.2205 - val_loss: 0.1470\n",
      "Epoch 53/100\n",
      "11/11 [==============================] - 3s 313ms/step - loss: 0.1700 - val_loss: 0.2133\n",
      "Epoch 54/100\n",
      "11/11 [==============================] - 3s 313ms/step - loss: 0.1707 - val_loss: 0.1465\n",
      "Epoch 55/100\n",
      "11/11 [==============================] - 3s 313ms/step - loss: 0.1887 - val_loss: 0.2423\n",
      "Epoch 56/100\n",
      "11/11 [==============================] - 3s 311ms/step - loss: 0.1489 - val_loss: 0.1225\n",
      "Epoch 57/100\n",
      "11/11 [==============================] - 3s 315ms/step - loss: 0.2260 - val_loss: 0.1963\n",
      "Epoch 58/100\n",
      "11/11 [==============================] - 3s 315ms/step - loss: 0.1830 - val_loss: 0.1613\n",
      "Epoch 59/100\n",
      "11/11 [==============================] - 3s 314ms/step - loss: 0.1986 - val_loss: 0.1706\n",
      "Epoch 60/100\n",
      "11/11 [==============================] - 3s 318ms/step - loss: 0.1960 - val_loss: 0.1722\n",
      "Epoch 61/100\n",
      "11/11 [==============================] - 3s 311ms/step - loss: 0.1928 - val_loss: 0.1685\n",
      "Epoch 62/100\n",
      "11/11 [==============================] - 3s 310ms/step - loss: 0.1948 - val_loss: 0.1755\n",
      "Epoch 63/100\n",
      "11/11 [==============================] - 3s 308ms/step - loss: 0.1899 - val_loss: 0.1703\n",
      "Epoch 64/100\n",
      "11/11 [==============================] - 3s 312ms/step - loss: 0.1928 - val_loss: 0.1728\n",
      "Epoch 65/100\n",
      "11/11 [==============================] - 3s 318ms/step - loss: 0.1916 - val_loss: 0.1718\n",
      "Epoch 66/100\n",
      "11/11 [==============================] - 3s 313ms/step - loss: 0.1920 - val_loss: 0.1720\n",
      "Epoch 67/100\n",
      "11/11 [==============================] - 3s 312ms/step - loss: 0.1919 - val_loss: 0.1720\n",
      "Epoch 68/100\n",
      "11/11 [==============================] - 3s 316ms/step - loss: 0.1919 - val_loss: 0.1718\n",
      "Epoch 69/100\n",
      "11/11 [==============================] - 3s 315ms/step - loss: 0.1919 - val_loss: 0.1717\n",
      "Epoch 70/100\n",
      "11/11 [==============================] - 3s 312ms/step - loss: 0.1915 - val_loss: 0.1730\n",
      "Epoch 71/100\n",
      "11/11 [==============================] - 3s 311ms/step - loss: 0.1896 - val_loss: 0.1751\n",
      "Epoch 72/100\n",
      "11/11 [==============================] - 3s 315ms/step - loss: 0.1882 - val_loss: 0.1737\n",
      "Epoch 73/100\n",
      "11/11 [==============================] - 3s 313ms/step - loss: 0.1889 - val_loss: 0.1742\n",
      "Epoch 74/100\n",
      "11/11 [==============================] - 3s 315ms/step - loss: 0.1887 - val_loss: 0.1740\n",
      "Epoch 75/100\n",
      "11/11 [==============================] - 3s 315ms/step - loss: 0.1888 - val_loss: 0.1740\n",
      "Epoch 76/100\n",
      "11/11 [==============================] - 3s 314ms/step - loss: 0.1888 - val_loss: 0.1741\n",
      "Epoch 77/100\n",
      "11/11 [==============================] - 3s 314ms/step - loss: 0.1887 - val_loss: 0.1742\n",
      "Epoch 78/100\n",
      "11/11 [==============================] - 3s 314ms/step - loss: 0.1887 - val_loss: 0.1774\n",
      "Epoch 79/100\n",
      "11/11 [==============================] - 3s 317ms/step - loss: 0.1851 - val_loss: 0.1759\n",
      "Epoch 80/100\n",
      "11/11 [==============================] - 3s 311ms/step - loss: 0.1854 - val_loss: 0.1753\n",
      "Epoch 81/100\n",
      "11/11 [==============================] - 3s 313ms/step - loss: 0.1861 - val_loss: 0.1763\n",
      "Epoch 82/100\n",
      "11/11 [==============================] - 3s 311ms/step - loss: 0.1854 - val_loss: 0.1753\n",
      "Epoch 83/100\n",
      "11/11 [==============================] - 3s 316ms/step - loss: 0.1860 - val_loss: 0.1758\n",
      "Epoch 84/100\n",
      "11/11 [==============================] - 3s 311ms/step - loss: 0.1857 - val_loss: 0.1753\n",
      "Epoch 85/100\n",
      "11/11 [==============================] - 3s 311ms/step - loss: 0.1860 - val_loss: 0.1755\n",
      "Epoch 86/100\n",
      "11/11 [==============================] - 3s 311ms/step - loss: 0.1860 - val_loss: 0.1753\n",
      "Epoch 87/100\n",
      "11/11 [==============================] - 3s 313ms/step - loss: 0.1861 - val_loss: 0.1752\n",
      "Epoch 88/100\n",
      "11/11 [==============================] - 3s 316ms/step - loss: 0.1860 - val_loss: 0.1750\n",
      "Epoch 89/100\n",
      "11/11 [==============================] - 3s 314ms/step - loss: 0.1862 - val_loss: 0.1751\n",
      "Epoch 90/100\n",
      "11/11 [==============================] - 3s 314ms/step - loss: 0.1861 - val_loss: 0.1744\n",
      "Epoch 91/100\n",
      "11/11 [==============================] - 3s 312ms/step - loss: 0.1862 - val_loss: 0.1747\n",
      "Epoch 92/100\n",
      "11/11 [==============================] - 3s 312ms/step - loss: 0.1862 - val_loss: 0.1737\n",
      "Epoch 93/100\n",
      "11/11 [==============================] - 3s 315ms/step - loss: 0.1863 - val_loss: 0.1744\n",
      "Epoch 94/100\n",
      "11/11 [==============================] - 4s 321ms/step - loss: 0.1856 - val_loss: 0.1746\n",
      "Epoch 95/100\n",
      "11/11 [==============================] - 3s 314ms/step - loss: 0.1840 - val_loss: 0.1778\n",
      "Epoch 96/100\n",
      "11/11 [==============================] - 3s 316ms/step - loss: 0.1829 - val_loss: 0.1771\n",
      "Epoch 97/100\n",
      "11/11 [==============================] - 3s 318ms/step - loss: 0.1829 - val_loss: 0.1750\n",
      "Epoch 98/100\n",
      "11/11 [==============================] - 3s 313ms/step - loss: 0.1836 - val_loss: 0.1769\n",
      "Epoch 99/100\n",
      "11/11 [==============================] - 3s 311ms/step - loss: 0.1833 - val_loss: 0.1762\n",
      "Epoch 100/100\n",
      "11/11 [==============================] - 3s 312ms/step - loss: 0.1829 - val_loss: 0.1707\n"
     ]
    }
   ],
   "source": [
    "BATCH_SIZE = 64\n",
    "\n",
    "history = model.fit(\n",
    "    X_train, \n",
    "    y_train, \n",
    "    epochs=50, \n",
    "    batch_size=BATCH_SIZE, \n",
    "    shuffle=False,\n",
    "    validation_split=0.1\n",
    ")"
   ]
  },
  {
   "cell_type": "code",
   "execution_count": 167,
   "id": "9bb52f4e-0efe-466a-abc7-ea7a84eff4b6",
   "metadata": {},
   "outputs": [
    {
     "name": "stdout",
     "output_type": "stream",
     "text": [
      "5/5 [==============================] - 0s 62ms/step - loss: 0.2021\n"
     ]
    },
    {
     "data": {
      "text/plain": [
       "0.20210771262645721"
      ]
     },
     "execution_count": 167,
     "metadata": {},
     "output_type": "execute_result"
    }
   ],
   "source": [
    "model.evaluate(X_test, y_test)"
   ]
  },
  {
   "cell_type": "code",
   "execution_count": 168,
   "id": "7a361c5a-5da5-40f9-80a4-b6b1d41ba2fc",
   "metadata": {},
   "outputs": [
    {
     "data": {
      "image/png": "[encoded data removed]",
      "text/plain": [
       "<Figure size 640x480 with 1 Axes>"
      ]
     },
     "metadata": {},
     "output_type": "display_data"
    }
   ],
   "source": [
    "plt.plot(history.history['loss'])\n",
    "plt.plot(history.history['val_loss'])\n",
    "plt.title('model loss')\n",
    "plt.ylabel('loss')\n",
    "plt.xlabel('epoch')\n",
    "plt.legend(['train', 'test'], loc='upper left')\n",
    "plt.show()"
   ]
  },
  {
   "cell_type": "markdown",
   "id": "e6e0a1e6-6995-482c-af1c-a4847b84b0bc",
   "metadata": {},
   "source": [
    "## Prediction"
   ]
  },
  {
   "cell_type": "code",
   "execution_count": 169,
   "id": "88a1bd4f-c53d-4d02-8f4c-50c8a18e8b75",
   "metadata": {},
   "outputs": [
    {
     "name": "stdout",
     "output_type": "stream",
     "text": [
      "5/5 [==============================] - 1s 61ms/step\n"
     ]
    },
    {
     "data": {
      "image/png": "[encoded data removed]",
      "text/plain": [
       "<Figure size 640x480 with 1 Axes>"
      ]
     },
     "metadata": {},
     "output_type": "display_data"
    }
   ],
   "source": [
    "y_hat = model.predict(X_test)\n",
    "\n",
    "y_test_inverse = scaler.inverse_transform(y_test)\n",
    "y_hat_inverse = scaler.inverse_transform(y_hat)\n",
    " \n",
    "plt.plot(y_test_inverse, label=\"Actual Price\", color='green')\n",
    "plt.plot(y_hat_inverse, label=\"Predicted Price\", color='red')\n",
    " \n",
    "plt.title('BNB price prediction')\n",
    "plt.xlabel('Time [candle of 5 minutes]')\n",
    "plt.ylabel('Price')\n",
    "plt.legend(loc='best')\n",
    " \n",
    "plt.show();"
   ]
  },
  {
   "cell_type": "code",
   "execution_count": 133,
   "id": "d675f4cc-fe68-4339-b5f2-fbf98d39c154",
   "metadata": {},
   "outputs": [
    {
     "name": "stderr",
     "output_type": "stream",
     "text": [
      "WARNING:absl:Found untraced functions such as lstm_cell_85_layer_call_fn, lstm_cell_85_layer_call_and_return_conditional_losses, lstm_cell_86_layer_call_fn, lstm_cell_86_layer_call_and_return_conditional_losses, lstm_cell_88_layer_call_fn while saving (showing 5 of 12). These functions will not be directly callable after loading.\n"
     ]
    },
    {
     "name": "stdout",
     "output_type": "stream",
     "text": [
      "INFO:tensorflow:Assets written to: saved_model/bnb-usd-prediction/assets\n"
     ]
    },
    {
     "name": "stderr",
     "output_type": "stream",
     "text": [
      "INFO:tensorflow:Assets written to: saved_model/bnb-usd-prediction/assets\n"
     ]
    }
   ],
   "source": [
    "# Save model using the SavedModel format\n",
    "!mkdir -p saved_model\n",
    "model.save('saved_model/bnb-usd-prediction')"
   ]
  },
  {
   "cell_type": "code",
   "execution_count": 134,
   "id": "54e6b801-f3d6-4feb-b9ff-3f84453e763c",
   "metadata": {},
   "outputs": [],
   "source": [
    "# Save model using the HDF5 format\n",
    "!mkdir -p hdf5\n",
    "\n",
    "# The '.h5' extension indicates that the model should be saved to HDF5\n",
    "model.save('hdf5/bnb-usd-prediction.h5')"
   ]
  },
  {
   "cell_type": "code",
   "execution_count": null,
   "id": "4cdbf66e-c8f1-408a-b2f6-56203c2dfbb8",
   "metadata": {},
   "outputs": [],
   "source": []
  }
 ],
 "metadata": {
  "kernelspec": {
   "display_name": "Python 3 (ipykernel)",
   "language": "python",
   "name": "python3"
  },
  "language_info": {
   "codemirror_mode": {
    "name": "ipython",
    "version": 3
   },
   "file_extension": ".py",
   "mimetype": "text/x-python",
   "name": "python",
   "nbconvert_exporter": "python",
   "pygments_lexer": "ipython3",
   "version": "3.10.6"
  }
 },
 "nbformat": 4,
 "nbformat_minor": 5
}
