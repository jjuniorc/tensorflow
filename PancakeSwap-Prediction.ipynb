{
 "cells": [
  {
   "cell_type": "markdown",
   "id": "b2bad1e9-1b64-4745-b96e-6011035c0242",
   "metadata": {},
   "source": [
    "# Pancake Swap Prediction Bot\n",
    "Ref Source: https://medium.com/@pierreia/make-an-ai-powered-bot-for-pancakeswap-prediction-part-1-ddc66819ad91\n"
   ]
  },
  {
   "cell_type": "code",
   "execution_count": 1,
   "id": "cb5742fc-6b8d-4668-b63d-e8f7e9ba8d87",
   "metadata": {},
   "outputs": [],
   "source": [
    "import pandas as pd\n",
    "import numpy as np\n",
    "from sklearn.preprocessing import StandardScaler\n",
    "from binance.client import Client\n",
    "import matplotlib.pyplot as plt"
   ]
  },
  {
   "cell_type": "code",
   "execution_count": 2,
   "id": "1779854f-feb8-4f89-8673-589d67232a60",
   "metadata": {},
   "outputs": [],
   "source": [
    "api = {'key':'mLSxbjwzPSlakxzOjqOiKg7cdlRWuyzhEwsrCj7WuxCbzCjrMstBmhIEBid55qtk','secret':'dvlIfurf3ckuVM8y1WEzkqtB6WB83Ty0x79dz9igNGqlitqlQQM4nQDv75l51Z6E'}"
   ]
  },
  {
   "cell_type": "code",
   "execution_count": 3,
   "id": "bbc3929f-7ed8-424d-9f26-4310890e21b5",
   "metadata": {},
   "outputs": [],
   "source": [
    "lenght_data = \"7 day\" #We get 1 minute data for the last 7 days\n",
    "client = Client(api['key'], api['secret'])\n",
    "klines = client.get_historical_klines(\"BNBUSDT\", Client.KLINE_INTERVAL_1MINUTE, lenght_data + \" UTC\")\n",
    "klines_close = [kline[1] for kline in klines]  # close value is column 1"
   ]
  },
  {
   "cell_type": "code",
   "execution_count": 4,
   "id": "3a18cba2-2ac0-41b0-b0ef-8db106bedb12",
   "metadata": {},
   "outputs": [],
   "source": [
    "X_l = []\n",
    "Y_l = []\n",
    "lookback = 10 #our lookback is 10 last prices\n",
    "\n",
    "for i in range(lookback,len(klines_close)-lookback):\n",
    "    if klines_close[i] < klines_close[i+5]:\n",
    "        Y_l.append(1)\n",
    "    else:\n",
    "        Y_l.append(0)\n",
    "    X_l.append(klines_close[i-lookback:i])\n"
   ]
  },
  {
   "cell_type": "code",
   "execution_count": 5,
   "id": "5104eba6-11ec-4014-ad10-65931a5f48db",
   "metadata": {},
   "outputs": [],
   "source": [
    "X = np.array(X_l) #We convert our data into numpy arrays\n",
    "Y = np.array(Y_l)"
   ]
  },
  {
   "cell_type": "code",
   "execution_count": 6,
   "id": "0945b4dd-2f82-4cd4-8920-8a070b5c1df5",
   "metadata": {},
   "outputs": [
    {
     "data": {
      "text/html": [
       "<style>#sk-container-id-1 {color: black;background-color: white;}#sk-container-id-1 pre{padding: 0;}#sk-container-id-1 div.sk-toggleable {background-color: white;}#sk-container-id-1 label.sk-toggleable__label {cursor: pointer;display: block;width: 100%;margin-bottom: 0;padding: 0.3em;box-sizing: border-box;text-align: center;}#sk-container-id-1 label.sk-toggleable__label-arrow:before {content: \"▸\";float: left;margin-right: 0.25em;color: #696969;}#sk-container-id-1 label.sk-toggleable__label-arrow:hover:before {color: black;}#sk-container-id-1 div.sk-estimator:hover label.sk-toggleable__label-arrow:before {color: black;}#sk-container-id-1 div.sk-toggleable__content {max-height: 0;max-width: 0;overflow: hidden;text-align: left;background-color: #f0f8ff;}#sk-container-id-1 div.sk-toggleable__content pre {margin: 0.2em;color: black;border-radius: 0.25em;background-color: #f0f8ff;}#sk-container-id-1 input.sk-toggleable__control:checked~div.sk-toggleable__content {max-height: 200px;max-width: 100%;overflow: auto;}#sk-container-id-1 input.sk-toggleable__control:checked~label.sk-toggleable__label-arrow:before {content: \"▾\";}#sk-container-id-1 div.sk-estimator input.sk-toggleable__control:checked~label.sk-toggleable__label {background-color: #d4ebff;}#sk-container-id-1 div.sk-label input.sk-toggleable__control:checked~label.sk-toggleable__label {background-color: #d4ebff;}#sk-container-id-1 input.sk-hidden--visually {border: 0;clip: rect(1px 1px 1px 1px);clip: rect(1px, 1px, 1px, 1px);height: 1px;margin: -1px;overflow: hidden;padding: 0;position: absolute;width: 1px;}#sk-container-id-1 div.sk-estimator {font-family: monospace;background-color: #f0f8ff;border: 1px dotted black;border-radius: 0.25em;box-sizing: border-box;margin-bottom: 0.5em;}#sk-container-id-1 div.sk-estimator:hover {background-color: #d4ebff;}#sk-container-id-1 div.sk-parallel-item::after {content: \"\";width: 100%;border-bottom: 1px solid gray;flex-grow: 1;}#sk-container-id-1 div.sk-label:hover label.sk-toggleable__label {background-color: #d4ebff;}#sk-container-id-1 div.sk-serial::before {content: \"\";position: absolute;border-left: 1px solid gray;box-sizing: border-box;top: 0;bottom: 0;left: 50%;z-index: 0;}#sk-container-id-1 div.sk-serial {display: flex;flex-direction: column;align-items: center;background-color: white;padding-right: 0.2em;padding-left: 0.2em;position: relative;}#sk-container-id-1 div.sk-item {position: relative;z-index: 1;}#sk-container-id-1 div.sk-parallel {display: flex;align-items: stretch;justify-content: center;background-color: white;position: relative;}#sk-container-id-1 div.sk-item::before, #sk-container-id-1 div.sk-parallel-item::before {content: \"\";position: absolute;border-left: 1px solid gray;box-sizing: border-box;top: 0;bottom: 0;left: 50%;z-index: -1;}#sk-container-id-1 div.sk-parallel-item {display: flex;flex-direction: column;z-index: 1;position: relative;background-color: white;}#sk-container-id-1 div.sk-parallel-item:first-child::after {align-self: flex-end;width: 50%;}#sk-container-id-1 div.sk-parallel-item:last-child::after {align-self: flex-start;width: 50%;}#sk-container-id-1 div.sk-parallel-item:only-child::after {width: 0;}#sk-container-id-1 div.sk-dashed-wrapped {border: 1px dashed gray;margin: 0 0.4em 0.5em 0.4em;box-sizing: border-box;padding-bottom: 0.4em;background-color: white;}#sk-container-id-1 div.sk-label label {font-family: monospace;font-weight: bold;display: inline-block;line-height: 1.2em;}#sk-container-id-1 div.sk-label-container {text-align: center;}#sk-container-id-1 div.sk-container {/* jupyter's `normalize.less` sets `[hidden] { display: none; }` but bootstrap.min.css set `[hidden] { display: none !important; }` so we also need the `!important` here to be able to override the default hidden behavior on the sphinx rendered scikit-learn.org. See: https://github.com/scikit-learn/scikit-learn/issues/21755 */display: inline-block !important;position: relative;}#sk-container-id-1 div.sk-text-repr-fallback {display: none;}</style><div id=\"sk-container-id-1\" class=\"sk-top-container\"><div class=\"sk-text-repr-fallback\"><pre>StandardScaler()</pre><b>In a Jupyter environment, please rerun this cell to show the HTML representation or trust the notebook. <br />On GitHub, the HTML representation is unable to render, please try loading this page with nbviewer.org.</b></div><div class=\"sk-container\" hidden><div class=\"sk-item\"><div class=\"sk-estimator sk-toggleable\"><input class=\"sk-toggleable__control sk-hidden--visually\" id=\"sk-estimator-id-1\" type=\"checkbox\" checked><label for=\"sk-estimator-id-1\" class=\"sk-toggleable__label sk-toggleable__label-arrow\">StandardScaler</label><div class=\"sk-toggleable__content\"><pre>StandardScaler()</pre></div></div></div></div></div>"
      ],
      "text/plain": [
       "StandardScaler()"
      ]
     },
     "execution_count": 6,
     "metadata": {},
     "output_type": "execute_result"
    }
   ],
   "source": [
    "scaler = StandardScaler()\n",
    "scaler.fit(X)"
   ]
  },
  {
   "cell_type": "code",
   "execution_count": 7,
   "id": "8897062b-d058-451c-a39c-5c4ad39c7fcd",
   "metadata": {},
   "outputs": [],
   "source": [
    "t = int(len(X)*0.8) #we keep 80% of the data for the training\n",
    "X_train, X_test = scaler.transform(X[:t]), scaler.transform(X[t:])\n",
    "Y_train, Y_test = Y[:t].copy(), Y[t:].copy()"
   ]
  },
  {
   "cell_type": "code",
   "execution_count": 8,
   "id": "4100d6fb-c419-44cf-9658-3d212e5ae11d",
   "metadata": {},
   "outputs": [],
   "source": [
    "from sklearn.ensemble import RandomForestClassifier, AdaBoostClassifier, GradientBoostingClassifier\n",
    "from sklearn.metrics import accuracy_score\n",
    "from sklearn.svm import SVC\n",
    "from sklearn.tree import DecisionTreeClassifier\n",
    "import matplotlib.pyplot as plt\n",
    "from sklearn.model_selection import cross_val_score"
   ]
  },
  {
   "cell_type": "code",
   "execution_count": 9,
   "id": "d032f88f-a2e1-4265-8230-8234ff16adff",
   "metadata": {},
   "outputs": [],
   "source": [
    "log_rfc = RandomForestClassifier(max_depth=20, n_estimators=500)\n",
    "log_svm = SVC(probability=True)\n",
    "ada_clf = AdaBoostClassifier(DecisionTreeClassifier(max_depth=20),n_estimators=1000)\n",
    "gbrc = GradientBoostingClassifier(max_depth=20, n_estimators=1000)"
   ]
  },
  {
   "cell_type": "code",
   "execution_count": 10,
   "id": "3af36c49-789d-41d2-a801-08f836f2bb8b",
   "metadata": {},
   "outputs": [],
   "source": [
    "model = log_rfc"
   ]
  },
  {
   "cell_type": "code",
   "execution_count": 11,
   "id": "fadc08a3-d752-4897-bbbd-85807ae6b00a",
   "metadata": {},
   "outputs": [],
   "source": [
    "model.fit(X_train,Y_train)\n",
    "Y_train_pred = model.predict(X_train)\n",
    "Y_pred = model.predict(X_test)"
   ]
  },
  {
   "cell_type": "code",
   "execution_count": 12,
   "id": "a0e590aa-0e00-4e58-a6c5-37ea1e19fabe",
   "metadata": {},
   "outputs": [
    {
     "name": "stdout",
     "output_type": "stream",
     "text": [
      "Accuracy: 0.5213717693836978\n"
     ]
    }
   ],
   "source": [
    "print(\"Accuracy: \" + str(accuracy_score(Y_pred,Y_test)))\n",
    "#scores = cross_val_score(model,X_train,Y_train,cv=10)"
   ]
  },
  {
   "cell_type": "code",
   "execution_count": 13,
   "id": "2e165c7f-e4c5-4bdb-b176-0b6b5743a846",
   "metadata": {},
   "outputs": [],
   "source": [
    "b = 1 #Start balance for RFC Strategy\n",
    "bet = 0.1 #Amount of bet\n",
    "fee = 0.001 #Transaction fees\n",
    "br = 1 #Start balance for Random Strategy"
   ]
  },
  {
   "cell_type": "code",
   "execution_count": 14,
   "id": "9a928409-9a48-4181-b04d-18392a13aa4c",
   "metadata": {},
   "outputs": [],
   "source": [
    "l_b = []\n",
    "l_br = []\n",
    "for i in range(len(Y_test)):\n",
    "    odd = np.random.randint(1200,3000)/1000\n",
    "    rand = np.random.randint(0,2)\n",
    "    if Y_pred[i] == Y_test[i]:\n",
    "        b += (odd-1)*bet - 2*fee\n",
    "    else:\n",
    "        b -= bet - fee\n",
    "\n",
    "    if 0 == Y_test[i]:\n",
    "        br += (odd-1)*bet - 2*fee\n",
    "    else:\n",
    "        br -= 1 - fee\n",
    "    l_b.append(b)\n",
    "    l_br.append(br)"
   ]
  },
  {
   "cell_type": "code",
   "execution_count": 15,
   "id": "7619761f-89d1-47a2-b575-3645192afa7c",
   "metadata": {},
   "outputs": [
    {
     "data": {
      "image/png": "[encoded data removed]",
      "text/plain": [
       "<Figure size 640x480 with 1 Axes>"
      ]
     },
     "metadata": {},
     "output_type": "display_data"
    }
   ],
   "source": [
    "rfc_line, = plt.plot(l_b,label='RFC Betting Strategy')\n",
    "random_line, = plt.plot(l_br,label=\"Random Betting Strategy\")\n",
    "plt.legend(handles=[rfc_line, random_line])\n",
    "plt.title(\"Comparing Betting Strategies\")\n",
    "plt.show()"
   ]
  },
  {
   "cell_type": "code",
   "execution_count": 35,
   "id": "cdd04e86-9778-4c4b-b899-8e66787c13ae",
   "metadata": {},
   "outputs": [],
   "source": [
    "modelX = None\n",
    "scalerX = None\n",
    "trained = False\n",
    "api = {'key':'mLSxbjwzPSlakxzOjqOiKg7cdlRWuyzhEwsrCj7WuxCbzCjrMstBmhIEBid55qtk','secret':'dvlIfurf3ckuVM8y1WEzkqtB6WB83Ty0x79dz9igNGqlitqlQQM4nQDv75l51Z6E'}\n",
    "\n",
    "def get_prices(window):\n",
    "    client = Client(api['key'], api['secret'])\n",
    "    klines = client.get_historical_klines(\"BNBUSDT\", Client.KLINE_INTERVAL_1MINUTE, window + \" UTC\")\n",
    "    klines_close = [kline[1] for kline in klines]  # la colomne des valeurs de clotures est la colonne 1\n",
    "\n",
    "    return klines_close\n",
    "    \n",
    "def train():\n",
    "    global modelX\n",
    "    global scalerX\n",
    "    global trained\n",
    "    \n",
    "    print(\"Creating model...\")\n",
    "    modelX = RandomForestClassifier(max_depth=20, n_estimators=500)\n",
    "    print(\"Scraping prices...\")\n",
    "\n",
    "    closep = get_prices(\"3 day\")\n",
    "    X_l = []\n",
    "    Y_l = []\n",
    "\n",
    "    length = 5\n",
    "    for i in range(length, len(closep) - length):\n",
    "        if closep[i] < closep[i + length]:\n",
    "            Y_l.append(1)\n",
    "        else:\n",
    "            Y_l.append(0)\n",
    "        X_l.append(closep[i - length:i])\n",
    "\n",
    "    X = np.array(X_l)\n",
    "    Y = np.array(Y_l)\n",
    "    scaler = StandardScaler()\n",
    "    X = scaler.fit_transform(X)\n",
    "    scalerX = scaler\n",
    "\n",
    "    print('Training model...')\n",
    "    modelX.fit(X,Y)\n",
    "    print(\"Model trained\")\n",
    "    \n",
    "    trained = True\n",
    "    \n",
    "def predict():\n",
    "    global modelX\n",
    "    global scalerX\n",
    "    global trained\n",
    "    \n",
    "    # X = data[id][\"last prices\"]\n",
    "    last_prices_brut = get_prices(\"5 minute\")\n",
    "    while len(last_prices_brut) < 5:\n",
    "        sleep(1)\n",
    "        print(\"Error while scraping prices\")\n",
    "        last_prices_brut = get_prices(\"5 minute\")\n",
    "    last_prices = scalerX.transform(np.array([last_prices_brut]))\n",
    "\n",
    "    X = last_prices\n",
    "    \n",
    "    prediction = modelX.predict(X)[0]\n",
    "    if prediction == 0:\n",
    "        print(\"Prediction : Down \")\n",
    "    else:\n",
    "        print(\"Prediction : Up \")\n"
   ]
  },
  {
   "cell_type": "code",
   "execution_count": 36,
   "id": "f0a863a6-2ffd-45ac-8293-e3283b988ef1",
   "metadata": {},
   "outputs": [
    {
     "data": {
      "text/plain": [
       "False"
      ]
     },
     "execution_count": 36,
     "metadata": {},
     "output_type": "execute_result"
    }
   ],
   "source": [
    "trained"
   ]
  },
  {
   "cell_type": "code",
   "execution_count": 37,
   "id": "6ec50702-4ebf-47b8-82af-b7c0d7bf7d50",
   "metadata": {},
   "outputs": [
    {
     "name": "stdout",
     "output_type": "stream",
     "text": [
      "Creating model...\n",
      "Scraping prices...\n",
      "Training model...\n",
      "Model trained\n"
     ]
    }
   ],
   "source": [
    "train()"
   ]
  },
  {
   "cell_type": "code",
   "execution_count": 38,
   "id": "be2fceab-7a2c-4f4c-95a7-83e91e7c3f69",
   "metadata": {},
   "outputs": [
    {
     "data": {
      "text/plain": [
       "True"
      ]
     },
     "execution_count": 38,
     "metadata": {},
     "output_type": "execute_result"
    }
   ],
   "source": [
    "trained"
   ]
  },
  {
   "cell_type": "code",
   "execution_count": 39,
   "id": "f4e3c09a-77ad-4ff2-a2f0-9f37fa75a650",
   "metadata": {},
   "outputs": [
    {
     "name": "stdout",
     "output_type": "stream",
     "text": [
      "Prediction : Up \n"
     ]
    }
   ],
   "source": [
    "predict()"
   ]
  },
  {
   "cell_type": "code",
   "execution_count": null,
   "id": "2dd78c59-af5d-4684-b032-359c5ad2c58d",
   "metadata": {},
   "outputs": [],
   "source": []
  }
 ],
 "metadata": {
  "kernelspec": {
   "display_name": "Python 3 (ipykernel)",
   "language": "python",
   "name": "python3"
  },
  "language_info": {
   "codemirror_mode": {
    "name": "ipython",
    "version": 3
   },
   "file_extension": ".py",
   "mimetype": "text/x-python",
   "name": "python",
   "nbconvert_exporter": "python",
   "pygments_lexer": "ipython3",
   "version": "3.10.6"
  }
 },
 "nbformat": 4,
 "nbformat_minor": 5
}
