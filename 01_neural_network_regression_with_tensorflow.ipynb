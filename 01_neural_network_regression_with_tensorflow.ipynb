{
 "cells": [
  {
   "cell_type": "markdown",
   "id": "7b127b2f-7f89-4548-b707-46718cf90115",
   "metadata": {},
   "source": [
    "# Introduction to Regression with Neural Networks in TensorFlow\n",
    "\n",
    "🟢 There are many definitions for a regression problem but in our case, we're going to simplify it: predicting a numerical variable based on some other combination of variables, even shorter... predicting a number."
   ]
  },
  {
   "cell_type": "code",
   "execution_count": 2,
   "id": "01cd0f6e-d7f2-4a11-b537-32806566c941",
   "metadata": {},
   "outputs": [
    {
     "name": "stdout",
     "output_type": "stream",
     "text": [
      "2.9.1\n"
     ]
    }
   ],
   "source": [
    "# Import Tensorflow\n",
    "import tensorflow as tf\n",
    "print(tf.__version__)"
   ]
  },
  {
   "cell_type": "markdown",
   "id": "9fd4a0eb-aa59-424c-b5f4-331a886551e4",
   "metadata": {},
   "source": [
    "## Regression analysis\n",
    "**Source**: https://en.wikipedia.org/wiki/Regression_analysis\n",
    "\n",
    "![Regression Analysis](https://upload.wikimedia.org/wikipedia/commons/3/3a/Linear_regression.svg)\n",
    "\n",
    "In statistical modeling, regression analysis is a set of statistical processes for estimating the relationships between a dependent variable (often called the 'outcome' or 'response' variable, or a 'label' in machine learning parlance) and one or more independent variables (often called 'predictors', 'covariates', 'explanatory variables' or 'features')."
   ]
  },
  {
   "cell_type": "markdown",
   "id": "d4715cd6-9c6b-4cc4-8191-8f60cfbd40f2",
   "metadata": {},
   "source": [
    "## Creating data to view and fit"
   ]
  },
  {
   "cell_type": "code",
   "execution_count": 13,
   "id": "9071603a-0f6d-45cb-9d9a-c406a33ae057",
   "metadata": {},
   "outputs": [
    {
     "data": {
      "image/png": "[encoded data removed]",
      "text/plain": [
       "<Figure size 640x480 with 1 Axes>"
      ]
     },
     "metadata": {},
     "output_type": "display_data"
    }
   ],
   "source": [
    "import numpy as np\n",
    "import matplotlib.pyplot as plt\n",
    "\n",
    "# Create features (Indepent variables)\n",
    "X = np.array([-7.0, -4.0, -1.0, 2.0, 5.0, 8.0, 11.0, 14.0])\n",
    "\n",
    "# Create labels (Dependent variables)\n",
    "y = np.array([3.0, 6.0, 9.0, 12.0, 15.0, 18.0, 21.0, 24.0])\n",
    "\n",
    "# Visualize it\n",
    "plt.scatter(X, y);"
   ]
  },
  {
   "cell_type": "code",
   "execution_count": 11,
   "id": "be29fe7d-0454-4671-a6f0-9344f8b74cd4",
   "metadata": {},
   "outputs": [
    {
     "data": {
      "text/plain": [
       "array([ 3.,  6.,  9., 12., 15., 18., 21., 24.])"
      ]
     },
     "execution_count": 11,
     "metadata": {},
     "output_type": "execute_result"
    }
   ],
   "source": [
    "# We created the definition above with a relationship \n",
    "# between X and y as the function X + 10:\n",
    "X + 10"
   ]
  },
  {
   "cell_type": "code",
   "execution_count": 9,
   "id": "fccf928d-f8d9-41ab-91af-01ff0fa05919",
   "metadata": {},
   "outputs": [
    {
     "data": {
      "text/plain": [
       "array([ True,  True,  True,  True,  True,  True,  True,  True])"
      ]
     },
     "execution_count": 9,
     "metadata": {},
     "output_type": "execute_result"
    }
   ],
   "source": [
    "# Validating if y == X + 10\n",
    "y == X + 10"
   ]
  },
  {
   "cell_type": "markdown",
   "id": "1143be0f-0ae4-40fd-b3e8-a6e18e75bf6a",
   "metadata": {},
   "source": [
    "## Input and output shapes"
   ]
  },
  {
   "cell_type": "code",
   "execution_count": 17,
   "id": "7e2173b7-07e4-484b-a1db-d851327462d7",
   "metadata": {},
   "outputs": [
    {
     "data": {
      "text/plain": [
       "(<tf.Tensor: shape=(3,), dtype=string, numpy=array([b'bedroom', b'bathroom', b'garage'], dtype=object)>,\n",
       " <tf.Tensor: shape=(1,), dtype=int32, numpy=array([939700], dtype=int32)>)"
      ]
     },
     "execution_count": 17,
     "metadata": {},
     "output_type": "execute_result"
    }
   ],
   "source": [
    "# Create a fast demo tensor for our housing price prediction \n",
    "# problem # to understand how input and output shape is\n",
    "house_info = tf.constant([\"bedroom\", \"bathroom\", \"garage\"])\n",
    "house_price = tf.constant([939700])\n",
    "house_info, house_price"
   ]
  },
  {
   "cell_type": "code",
   "execution_count": 19,
   "id": "d49abb2a-64ea-42a2-ba2b-500e86b0d755",
   "metadata": {},
   "outputs": [
    {
     "data": {
      "text/plain": [
       "((), ())"
      ]
     },
     "execution_count": 19,
     "metadata": {},
     "output_type": "execute_result"
    }
   ],
   "source": [
    "input_shape = X[0].shape\n",
    "output_shape = y[0].shape\n",
    "input_shape, output_shape"
   ]
  },
  {
   "cell_type": "markdown",
   "id": "aa318840-f8f7-4e22-96a9-e0576e009be6",
   "metadata": {},
   "source": [
    "⚠️ If some error like Input 0 of layer \"dense\" is incompatible with the layer....\n",
    "\n",
    "This happens because model.fit() no longer automatically upscales inputs from shape (batch_size, ) to (batch_size, 1).\n",
    "\n",
    "OLD\n",
    "model.fit(X, y, epochs=5)\n",
    "\n",
    "NEW\n",
    "model.fit( tf.expand_dims(X, axis=-1), y, epochs=5)"
   ]
  },
  {
   "cell_type": "code",
   "execution_count": 20,
   "id": "edf7093c-826a-49c0-912d-8ab5db68f974",
   "metadata": {},
   "outputs": [
    {
     "data": {
      "text/plain": [
       "(<tf.Tensor: shape=(8,), dtype=float64, numpy=array([-7., -4., -1.,  2.,  5.,  8., 11., 14.])>,\n",
       " <tf.Tensor: shape=(8,), dtype=float64, numpy=array([ 3.,  6.,  9., 12., 15., 18., 21., 24.])>)"
      ]
     },
     "execution_count": 20,
     "metadata": {},
     "output_type": "execute_result"
    }
   ],
   "source": [
    "# Turn our NumPy arrays into tensors\n",
    "X = tf.constant(X)\n",
    "y = tf.constant(y)\n",
    "X, y"
   ]
  },
  {
   "cell_type": "code",
   "execution_count": 21,
   "id": "b2b48962-9630-4472-897c-86c1467f06f1",
   "metadata": {},
   "outputs": [
    {
     "data": {
      "text/plain": [
       "(TensorShape([]), TensorShape([]))"
      ]
     },
     "execution_count": 21,
     "metadata": {},
     "output_type": "execute_result"
    }
   ],
   "source": [
    "input_shape = X[0].shape\n",
    "output_shape = y[0].shape\n",
    "input_shape, output_shape"
   ]
  },
  {
   "cell_type": "code",
   "execution_count": 22,
   "id": "f1a5ca93-4c08-4829-8965-2ea782021e0c",
   "metadata": {},
   "outputs": [
    {
     "data": {
      "image/png": "[encoded data removed]",
      "text/plain": [
       "<Figure size 640x480 with 1 Axes>"
      ]
     },
     "metadata": {},
     "output_type": "display_data"
    }
   ],
   "source": [
    "plt.scatter(X, y);"
   ]
  },
  {
   "cell_type": "markdown",
   "id": "cf880627-fa10-4bf3-aef0-891d6104a5a5",
   "metadata": {},
   "source": [
    "## Steps in modelling with TensorFlow\n",
    "\n",
    "1. **Creating a model** - define the input and output layers, as well as the hidden layers of a deep learning model.\n",
    "2. **Compile a model** - define the loss function (in other words, the function which tells our model how wrong it is) and the optimizer (tells our model how to improve the patterns its learning) and evaluation metrics (what we can use to interpret the performance of our model).\n",
    "3. **Fitting a model** - letting the model try to find patterns between X & y (features and labels)."
   ]
  },
  {
   "cell_type": "code",
   "execution_count": 28,
   "id": "858672fd-d616-4c91-9490-2dfc87a03259",
   "metadata": {},
   "outputs": [
    {
     "name": "stdout",
     "output_type": "stream",
     "text": [
      "Epoch 1/5\n",
      "1/1 [==============================] - 0s 129ms/step - loss: 11.5048 - mae: 11.5048\n",
      "Epoch 2/5\n",
      "1/1 [==============================] - 0s 2ms/step - loss: 11.3723 - mae: 11.3723\n",
      "Epoch 3/5\n",
      "1/1 [==============================] - 0s 2ms/step - loss: 11.2398 - mae: 11.2398\n",
      "Epoch 4/5\n",
      "1/1 [==============================] - 0s 2ms/step - loss: 11.1073 - mae: 11.1073\n",
      "Epoch 5/5\n",
      "1/1 [==============================] - 0s 2ms/step - loss: 10.9748 - mae: 10.9748\n"
     ]
    },
    {
     "data": {
      "text/plain": [
       "<keras.callbacks.History at 0x7fb2509e2c20>"
      ]
     },
     "execution_count": 28,
     "metadata": {},
     "output_type": "execute_result"
    }
   ],
   "source": [
    "# Set random seed\n",
    "tf.random.set_seed(42)\n",
    "\n",
    "# 1. Create a model using the Sequential API\n",
    "# model = tf.keras.Sequential([\n",
    "#     tf.keras.layers.Dense(1)\n",
    "# ])\n",
    "model = tf.keras.Sequential()\n",
    "model.add(tf.keras.layers.Dense(1))\n",
    "\n",
    "# 2. Compile the model\n",
    "# Note: Loss MAE is used for comparisons of predicted versus observed\n",
    "\n",
    "model.compile(\n",
    "    loss=tf.keras.losses.mae, # mae is short for mean absolute error\n",
    "    optimizer=tf.keras.optimizers.SGD(), # SGD is short for stochastic gradient descent\n",
    "    metrics=[\"mae\"]\n",
    ")\n",
    "\n",
    "# 3. Fit the model\n",
    "model.fit(tf.expand_dims(X, axis=-1), y, epochs=5)"
   ]
  },
  {
   "cell_type": "code",
   "execution_count": 29,
   "id": "f9b54b21-893f-46b6-b70b-08844d6ab3cb",
   "metadata": {},
   "outputs": [
    {
     "data": {
      "text/plain": [
       "(<tf.Tensor: shape=(8,), dtype=float64, numpy=array([-7., -4., -1.,  2.,  5.,  8., 11., 14.])>,\n",
       " <tf.Tensor: shape=(8,), dtype=float64, numpy=array([ 3.,  6.,  9., 12., 15., 18., 21., 24.])>)"
      ]
     },
     "execution_count": 29,
     "metadata": {},
     "output_type": "execute_result"
    }
   ],
   "source": [
    "# Check out X an y\n",
    "X, y"
   ]
  },
  {
   "cell_type": "code",
   "execution_count": 31,
   "id": "ef2ca5e1-27e7-499b-b6cb-249d2617ab94",
   "metadata": {},
   "outputs": [
    {
     "name": "stdout",
     "output_type": "stream",
     "text": [
      "1/1 [==============================] - 0s 20ms/step\n"
     ]
    },
    {
     "data": {
      "text/plain": [
       "array([[12.716021]], dtype=float32)"
      ]
     },
     "execution_count": 31,
     "metadata": {},
     "output_type": "execute_result"
    }
   ],
   "source": [
    "# Try and make a prediction using our model\n",
    "y_pred = model.predict([17.0])\n",
    "y_pred"
   ]
  },
  {
   "cell_type": "markdown",
   "id": "97994375-68d6-4982-95fa-4189b503f780",
   "metadata": {},
   "source": [
    "### Improving our model\n",
    "\n",
    "We can improve our model, by altering the steps we took to create a model.\n",
    "\n",
    "1. **Creating a model** - here we might add more layers, increate the number of hidden units (all called neurons) within each of the hidden layers, change the activation function of each layer.\n",
    "2. **Compiling a model** - here we might change the optimization function or perhaps the **learning rate** of the optimization function.\n",
    "3. **Fitting a model** - here we might fit a model for more **ephocs** (leave it training for longer) or on more data (give the model more examples to learn from)."
   ]
  },
  {
   "cell_type": "code",
   "execution_count": 61,
   "id": "0a17d94e-5891-44fb-aee9-08b480a4c9b4",
   "metadata": {},
   "outputs": [
    {
     "name": "stdout",
     "output_type": "stream",
     "text": [
      "Epoch 1/100\n",
      "1/1 [==============================] - 0s 131ms/step - loss: 8.2328 - mae: 8.2328\n",
      "Epoch 2/100\n",
      "1/1 [==============================] - 0s 2ms/step - loss: 8.1003 - mae: 8.1003\n",
      "Epoch 3/100\n",
      "1/1 [==============================] - 0s 2ms/step - loss: 7.9678 - mae: 7.9678\n",
      "Epoch 4/100\n",
      "1/1 [==============================] - 0s 2ms/step - loss: 7.8353 - mae: 7.8353\n",
      "Epoch 5/100\n",
      "1/1 [==============================] - 0s 2ms/step - loss: 7.7028 - mae: 7.7028\n",
      "Epoch 6/100\n",
      "1/1 [==============================] - 0s 2ms/step - loss: 7.5703 - mae: 7.5703\n",
      "Epoch 7/100\n",
      "1/1 [==============================] - 0s 2ms/step - loss: 7.4550 - mae: 7.4550\n",
      "Epoch 8/100\n",
      "1/1 [==============================] - 0s 2ms/step - loss: 7.4494 - mae: 7.4494\n",
      "Epoch 9/100\n",
      "1/1 [==============================] - 0s 2ms/step - loss: 7.4438 - mae: 7.4438\n",
      "Epoch 10/100\n",
      "1/1 [==============================] - 0s 2ms/step - loss: 7.4381 - mae: 7.4381\n",
      "Epoch 11/100\n",
      "1/1 [==============================] - 0s 2ms/step - loss: 7.4325 - mae: 7.4325\n",
      "Epoch 12/100\n",
      "1/1 [==============================] - 0s 2ms/step - loss: 7.4269 - mae: 7.4269\n",
      "Epoch 13/100\n",
      "1/1 [==============================] - 0s 2ms/step - loss: 7.4212 - mae: 7.4212\n",
      "Epoch 14/100\n",
      "1/1 [==============================] - 0s 2ms/step - loss: 7.4156 - mae: 7.4156\n",
      "Epoch 15/100\n",
      "1/1 [==============================] - 0s 2ms/step - loss: 7.4100 - mae: 7.4100\n",
      "Epoch 16/100\n",
      "1/1 [==============================] - 0s 2ms/step - loss: 7.4044 - mae: 7.4044\n",
      "Epoch 17/100\n",
      "1/1 [==============================] - 0s 2ms/step - loss: 7.3987 - mae: 7.3987\n",
      "Epoch 18/100\n",
      "1/1 [==============================] - 0s 2ms/step - loss: 7.3931 - mae: 7.3931\n",
      "Epoch 19/100\n",
      "1/1 [==============================] - 0s 2ms/step - loss: 7.3875 - mae: 7.3875\n",
      "Epoch 20/100\n",
      "1/1 [==============================] - 0s 2ms/step - loss: 7.3819 - mae: 7.3819\n",
      "Epoch 21/100\n",
      "1/1 [==============================] - 0s 2ms/step - loss: 7.3763 - mae: 7.3763\n",
      "Epoch 22/100\n",
      "1/1 [==============================] - 0s 2ms/step - loss: 7.3706 - mae: 7.3706\n",
      "Epoch 23/100\n",
      "1/1 [==============================] - 0s 2ms/step - loss: 7.3650 - mae: 7.3650\n",
      "Epoch 24/100\n",
      "1/1 [==============================] - 0s 2ms/step - loss: 7.3594 - mae: 7.3594\n",
      "Epoch 25/100\n",
      "1/1 [==============================] - 0s 2ms/step - loss: 7.3538 - mae: 7.3538\n",
      "Epoch 26/100\n",
      "1/1 [==============================] - 0s 2ms/step - loss: 7.3481 - mae: 7.3481\n",
      "Epoch 27/100\n",
      "1/1 [==============================] - 0s 2ms/step - loss: 7.3425 - mae: 7.3425\n",
      "Epoch 28/100\n",
      "1/1 [==============================] - 0s 2ms/step - loss: 7.3369 - mae: 7.3369\n",
      "Epoch 29/100\n",
      "1/1 [==============================] - 0s 2ms/step - loss: 7.3312 - mae: 7.3312\n",
      "Epoch 30/100\n",
      "1/1 [==============================] - 0s 2ms/step - loss: 7.3256 - mae: 7.3256\n",
      "Epoch 31/100\n",
      "1/1 [==============================] - 0s 2ms/step - loss: 7.3200 - mae: 7.3200\n",
      "Epoch 32/100\n",
      "1/1 [==============================] - 0s 2ms/step - loss: 7.3144 - mae: 7.3144\n",
      "Epoch 33/100\n",
      "1/1 [==============================] - 0s 2ms/step - loss: 7.3088 - mae: 7.3088\n",
      "Epoch 34/100\n",
      "1/1 [==============================] - 0s 2ms/step - loss: 7.3031 - mae: 7.3031\n",
      "Epoch 35/100\n",
      "1/1 [==============================] - 0s 2ms/step - loss: 7.2975 - mae: 7.2975\n",
      "Epoch 36/100\n",
      "1/1 [==============================] - 0s 2ms/step - loss: 7.2919 - mae: 7.2919\n",
      "Epoch 37/100\n",
      "1/1 [==============================] - 0s 2ms/step - loss: 7.2863 - mae: 7.2863\n",
      "Epoch 38/100\n",
      "1/1 [==============================] - 0s 2ms/step - loss: 7.2806 - mae: 7.2806\n",
      "Epoch 39/100\n",
      "1/1 [==============================] - 0s 2ms/step - loss: 7.2750 - mae: 7.2750\n",
      "Epoch 40/100\n",
      "1/1 [==============================] - 0s 2ms/step - loss: 7.2694 - mae: 7.2694\n",
      "Epoch 41/100\n",
      "1/1 [==============================] - 0s 2ms/step - loss: 7.2638 - mae: 7.2638\n",
      "Epoch 42/100\n",
      "1/1 [==============================] - 0s 2ms/step - loss: 7.2581 - mae: 7.2581\n",
      "Epoch 43/100\n",
      "1/1 [==============================] - 0s 2ms/step - loss: 7.2525 - mae: 7.2525\n",
      "Epoch 44/100\n",
      "1/1 [==============================] - 0s 2ms/step - loss: 7.2469 - mae: 7.2469\n",
      "Epoch 45/100\n",
      "1/1 [==============================] - 0s 2ms/step - loss: 7.2413 - mae: 7.2413\n",
      "Epoch 46/100\n",
      "1/1 [==============================] - 0s 3ms/step - loss: 7.2356 - mae: 7.2356\n",
      "Epoch 47/100\n",
      "1/1 [==============================] - 0s 2ms/step - loss: 7.2300 - mae: 7.2300\n",
      "Epoch 48/100\n",
      "1/1 [==============================] - 0s 2ms/step - loss: 7.2244 - mae: 7.2244\n",
      "Epoch 49/100\n",
      "1/1 [==============================] - 0s 2ms/step - loss: 7.2188 - mae: 7.2188\n",
      "Epoch 50/100\n",
      "1/1 [==============================] - 0s 2ms/step - loss: 7.2131 - mae: 7.2131\n",
      "Epoch 51/100\n",
      "1/1 [==============================] - 0s 2ms/step - loss: 7.2075 - mae: 7.2075\n",
      "Epoch 52/100\n",
      "1/1 [==============================] - 0s 2ms/step - loss: 7.2019 - mae: 7.2019\n",
      "Epoch 53/100\n",
      "1/1 [==============================] - 0s 2ms/step - loss: 7.1963 - mae: 7.1963\n",
      "Epoch 54/100\n",
      "1/1 [==============================] - 0s 2ms/step - loss: 7.1906 - mae: 7.1906\n",
      "Epoch 55/100\n",
      "1/1 [==============================] - 0s 2ms/step - loss: 7.1850 - mae: 7.1850\n",
      "Epoch 56/100\n",
      "1/1 [==============================] - 0s 2ms/step - loss: 7.1794 - mae: 7.1794\n",
      "Epoch 57/100\n",
      "1/1 [==============================] - 0s 2ms/step - loss: 7.1737 - mae: 7.1737\n",
      "Epoch 58/100\n",
      "1/1 [==============================] - 0s 3ms/step - loss: 7.1681 - mae: 7.1681\n",
      "Epoch 59/100\n",
      "1/1 [==============================] - 0s 2ms/step - loss: 7.1625 - mae: 7.1625\n",
      "Epoch 60/100\n",
      "1/1 [==============================] - 0s 2ms/step - loss: 7.1569 - mae: 7.1569\n",
      "Epoch 61/100\n",
      "1/1 [==============================] - 0s 2ms/step - loss: 7.1513 - mae: 7.1513\n",
      "Epoch 62/100\n",
      "1/1 [==============================] - 0s 2ms/step - loss: 7.1456 - mae: 7.1456\n",
      "Epoch 63/100\n",
      "1/1 [==============================] - 0s 2ms/step - loss: 7.1400 - mae: 7.1400\n",
      "Epoch 64/100\n",
      "1/1 [==============================] - 0s 2ms/step - loss: 7.1344 - mae: 7.1344\n",
      "Epoch 65/100\n",
      "1/1 [==============================] - 0s 2ms/step - loss: 7.1288 - mae: 7.1288\n",
      "Epoch 66/100\n",
      "1/1 [==============================] - 0s 2ms/step - loss: 7.1231 - mae: 7.1231\n",
      "Epoch 67/100\n",
      "1/1 [==============================] - 0s 3ms/step - loss: 7.1175 - mae: 7.1175\n",
      "Epoch 68/100\n",
      "1/1 [==============================] - 0s 3ms/step - loss: 7.1119 - mae: 7.1119\n",
      "Epoch 69/100\n",
      "1/1 [==============================] - 0s 1ms/step - loss: 7.1063 - mae: 7.1063\n",
      "Epoch 70/100\n",
      "1/1 [==============================] - 0s 2ms/step - loss: 7.1006 - mae: 7.1006\n",
      "Epoch 71/100\n",
      "1/1 [==============================] - 0s 2ms/step - loss: 7.0950 - mae: 7.0950\n",
      "Epoch 72/100\n",
      "1/1 [==============================] - 0s 2ms/step - loss: 7.0894 - mae: 7.0894\n",
      "Epoch 73/100\n",
      "1/1 [==============================] - 0s 2ms/step - loss: 7.0838 - mae: 7.0838\n",
      "Epoch 74/100\n",
      "1/1 [==============================] - 0s 2ms/step - loss: 7.0781 - mae: 7.0781\n",
      "Epoch 75/100\n",
      "1/1 [==============================] - 0s 2ms/step - loss: 7.0725 - mae: 7.0725\n",
      "Epoch 76/100\n",
      "1/1 [==============================] - 0s 2ms/step - loss: 7.0669 - mae: 7.0669\n",
      "Epoch 77/100\n",
      "1/1 [==============================] - 0s 2ms/step - loss: 7.0612 - mae: 7.0612\n",
      "Epoch 78/100\n",
      "1/1 [==============================] - 0s 2ms/step - loss: 7.0556 - mae: 7.0556\n",
      "Epoch 79/100\n",
      "1/1 [==============================] - 0s 2ms/step - loss: 7.0500 - mae: 7.0500\n",
      "Epoch 80/100\n",
      "1/1 [==============================] - 0s 2ms/step - loss: 7.0444 - mae: 7.0444\n",
      "Epoch 81/100\n",
      "1/1 [==============================] - 0s 2ms/step - loss: 7.0388 - mae: 7.0388\n",
      "Epoch 82/100\n",
      "1/1 [==============================] - 0s 2ms/step - loss: 7.0331 - mae: 7.0331\n",
      "Epoch 83/100\n",
      "1/1 [==============================] - 0s 2ms/step - loss: 7.0275 - mae: 7.0275\n",
      "Epoch 84/100\n",
      "1/1 [==============================] - 0s 2ms/step - loss: 7.0219 - mae: 7.0219\n",
      "Epoch 85/100\n",
      "1/1 [==============================] - 0s 2ms/step - loss: 7.0163 - mae: 7.0163\n",
      "Epoch 86/100\n",
      "1/1 [==============================] - 0s 2ms/step - loss: 7.0106 - mae: 7.0106\n",
      "Epoch 87/100\n",
      "1/1 [==============================] - 0s 2ms/step - loss: 7.0050 - mae: 7.0050\n",
      "Epoch 88/100\n",
      "1/1 [==============================] - 0s 2ms/step - loss: 6.9994 - mae: 6.9994\n",
      "Epoch 89/100\n",
      "1/1 [==============================] - 0s 2ms/step - loss: 6.9938 - mae: 6.9938\n",
      "Epoch 90/100\n",
      "1/1 [==============================] - 0s 2ms/step - loss: 6.9881 - mae: 6.9881\n",
      "Epoch 91/100\n",
      "1/1 [==============================] - 0s 2ms/step - loss: 6.9825 - mae: 6.9825\n",
      "Epoch 92/100\n",
      "1/1 [==============================] - 0s 2ms/step - loss: 6.9769 - mae: 6.9769\n",
      "Epoch 93/100\n",
      "1/1 [==============================] - 0s 2ms/step - loss: 6.9713 - mae: 6.9713\n",
      "Epoch 94/100\n",
      "1/1 [==============================] - 0s 2ms/step - loss: 6.9656 - mae: 6.9656\n",
      "Epoch 95/100\n",
      "1/1 [==============================] - 0s 2ms/step - loss: 6.9600 - mae: 6.9600\n",
      "Epoch 96/100\n",
      "1/1 [==============================] - 0s 2ms/step - loss: 6.9544 - mae: 6.9544\n",
      "Epoch 97/100\n",
      "1/1 [==============================] - 0s 2ms/step - loss: 6.9488 - mae: 6.9488\n",
      "Epoch 98/100\n",
      "1/1 [==============================] - 0s 2ms/step - loss: 6.9431 - mae: 6.9431\n",
      "Epoch 99/100\n",
      "1/1 [==============================] - 0s 2ms/step - loss: 6.9375 - mae: 6.9375\n",
      "Epoch 100/100\n",
      "1/1 [==============================] - 0s 1ms/step - loss: 6.9319 - mae: 6.9319\n"
     ]
    },
    {
     "data": {
      "text/plain": [
       "<keras.callbacks.History at 0x7fb27032e080>"
      ]
     },
     "execution_count": 61,
     "metadata": {},
     "output_type": "execute_result"
    }
   ],
   "source": [
    "# Let's rebuild the model\n",
    "\n",
    "# 1. Create a model (again)\n",
    "model = tf.keras.Sequential([\n",
    "    tf.keras.layers.Dense(1)\n",
    "])\n",
    "\n",
    "# 2. Compile the model\n",
    "model.compile(loss=tf.keras.losses.mae,\n",
    "              optimizer=tf.keras.optimizers.SGD(),\n",
    "             metrics=[\"mae\"])\n",
    "\n",
    "# 3. Fit the model (this time we'll train for longer)\n",
    "model.fit(tf.expand_dims(X, axis=-1), y, epochs=100)\n"
   ]
  },
  {
   "cell_type": "code",
   "execution_count": 62,
   "id": "66976a50-c331-466e-bfef-5bedfea6352d",
   "metadata": {},
   "outputs": [
    {
     "data": {
      "text/plain": [
       "(<tf.Tensor: shape=(8,), dtype=float64, numpy=array([-7., -4., -1.,  2.,  5.,  8., 11., 14.])>,\n",
       " <tf.Tensor: shape=(8,), dtype=float64, numpy=array([ 3.,  6.,  9., 12., 15., 18., 21., 24.])>)"
      ]
     },
     "execution_count": 62,
     "metadata": {},
     "output_type": "execute_result"
    }
   ],
   "source": [
    "# Remind ourselves of the data\n",
    "X, y"
   ]
  },
  {
   "cell_type": "code",
   "execution_count": 63,
   "id": "7d66d8a0-baf3-485e-92ff-c37b69dc0806",
   "metadata": {},
   "outputs": [
    {
     "name": "stdout",
     "output_type": "stream",
     "text": [
      "1/1 [==============================] - 0s 36ms/step\n"
     ]
    },
    {
     "data": {
      "text/plain": [
       "array([[29.918747]], dtype=float32)"
      ]
     },
     "execution_count": 63,
     "metadata": {},
     "output_type": "execute_result"
    }
   ],
   "source": [
    "# Let's see if our model's prediction has improved\n",
    "model.predict([17.0])"
   ]
  },
  {
   "cell_type": "code",
   "execution_count": 79,
   "id": "207a4c71-67e0-488a-be18-28509634044b",
   "metadata": {},
   "outputs": [
    {
     "name": "stdout",
     "output_type": "stream",
     "text": [
      "Epoch 1/100\n",
      "1/1 [==============================] - 0s 172ms/step - loss: 11.9261 - mae: 11.9261\n",
      "Epoch 2/100\n",
      "1/1 [==============================] - 0s 2ms/step - loss: 11.2699 - mae: 11.2699\n",
      "Epoch 3/100\n",
      "1/1 [==============================] - 0s 2ms/step - loss: 10.6004 - mae: 10.6004\n",
      "Epoch 4/100\n",
      "1/1 [==============================] - 0s 2ms/step - loss: 9.9161 - mae: 9.9161\n",
      "Epoch 5/100\n",
      "1/1 [==============================] - 0s 2ms/step - loss: 9.2152 - mae: 9.2152\n",
      "Epoch 6/100\n",
      "1/1 [==============================] - 0s 2ms/step - loss: 8.4948 - mae: 8.4948\n",
      "Epoch 7/100\n",
      "1/1 [==============================] - 0s 2ms/step - loss: 7.7526 - mae: 7.7526\n",
      "Epoch 8/100\n",
      "1/1 [==============================] - 0s 2ms/step - loss: 6.9864 - mae: 6.9864\n",
      "Epoch 9/100\n",
      "1/1 [==============================] - 0s 2ms/step - loss: 6.9323 - mae: 6.9323\n",
      "Epoch 10/100\n",
      "1/1 [==============================] - 0s 2ms/step - loss: 7.2533 - mae: 7.2533\n",
      "Epoch 11/100\n",
      "1/1 [==============================] - 0s 2ms/step - loss: 7.4483 - mae: 7.4483\n",
      "Epoch 12/100\n",
      "1/1 [==============================] - 0s 2ms/step - loss: 7.5902 - mae: 7.5902\n",
      "Epoch 13/100\n",
      "1/1 [==============================] - 0s 2ms/step - loss: 7.5599 - mae: 7.5599\n",
      "Epoch 14/100\n",
      "1/1 [==============================] - 0s 1ms/step - loss: 7.3515 - mae: 7.3515\n",
      "Epoch 15/100\n",
      "1/1 [==============================] - 0s 2ms/step - loss: 7.1161 - mae: 7.1161\n",
      "Epoch 16/100\n",
      "1/1 [==============================] - 0s 2ms/step - loss: 6.8697 - mae: 6.8697\n",
      "Epoch 17/100\n",
      "1/1 [==============================] - 0s 2ms/step - loss: 6.6037 - mae: 6.6037\n",
      "Epoch 18/100\n",
      "1/1 [==============================] - 0s 2ms/step - loss: 6.3232 - mae: 6.3232\n",
      "Epoch 19/100\n",
      "1/1 [==============================] - 0s 2ms/step - loss: 6.2650 - mae: 6.2650\n",
      "Epoch 20/100\n",
      "1/1 [==============================] - 0s 2ms/step - loss: 6.2223 - mae: 6.2223\n",
      "Epoch 21/100\n",
      "1/1 [==============================] - 0s 2ms/step - loss: 6.3257 - mae: 6.3257\n",
      "Epoch 22/100\n",
      "1/1 [==============================] - 0s 2ms/step - loss: 6.3222 - mae: 6.3222\n",
      "Epoch 23/100\n",
      "1/1 [==============================] - 0s 2ms/step - loss: 6.2263 - mae: 6.2263\n",
      "Epoch 24/100\n",
      "1/1 [==============================] - 0s 2ms/step - loss: 6.0484 - mae: 6.0484\n",
      "Epoch 25/100\n",
      "1/1 [==============================] - 0s 2ms/step - loss: 5.8408 - mae: 5.8408\n",
      "Epoch 26/100\n",
      "1/1 [==============================] - 0s 2ms/step - loss: 5.7445 - mae: 5.7445\n",
      "Epoch 27/100\n",
      "1/1 [==============================] - 0s 2ms/step - loss: 5.6456 - mae: 5.6456\n",
      "Epoch 28/100\n",
      "1/1 [==============================] - 0s 2ms/step - loss: 5.5439 - mae: 5.5439\n",
      "Epoch 29/100\n",
      "1/1 [==============================] - 0s 2ms/step - loss: 5.5545 - mae: 5.5545\n",
      "Epoch 30/100\n",
      "1/1 [==============================] - 0s 4ms/step - loss: 5.5251 - mae: 5.5251\n",
      "Epoch 31/100\n",
      "1/1 [==============================] - 0s 6ms/step - loss: 5.4533 - mae: 5.4533\n",
      "Epoch 32/100\n",
      "1/1 [==============================] - 0s 3ms/step - loss: 5.3429 - mae: 5.3429\n",
      "Epoch 33/100\n",
      "1/1 [==============================] - 0s 3ms/step - loss: 5.1977 - mae: 5.1977\n",
      "Epoch 34/100\n",
      "1/1 [==============================] - 0s 2ms/step - loss: 5.0212 - mae: 5.0212\n",
      "Epoch 35/100\n",
      "1/1 [==============================] - 0s 2ms/step - loss: 4.9075 - mae: 4.9075\n",
      "Epoch 36/100\n",
      "1/1 [==============================] - 0s 2ms/step - loss: 4.8218 - mae: 4.8218\n",
      "Epoch 37/100\n",
      "1/1 [==============================] - 0s 2ms/step - loss: 4.7290 - mae: 4.7290\n",
      "Epoch 38/100\n",
      "1/1 [==============================] - 0s 2ms/step - loss: 4.6568 - mae: 4.6568\n",
      "Epoch 39/100\n",
      "1/1 [==============================] - 0s 2ms/step - loss: 4.5336 - mae: 4.5336\n",
      "Epoch 40/100\n",
      "1/1 [==============================] - 0s 2ms/step - loss: 4.3764 - mae: 4.3764\n",
      "Epoch 41/100\n",
      "1/1 [==============================] - 0s 2ms/step - loss: 4.2354 - mae: 4.2354\n",
      "Epoch 42/100\n",
      "1/1 [==============================] - 0s 2ms/step - loss: 4.0880 - mae: 4.0880\n",
      "Epoch 43/100\n",
      "1/1 [==============================] - 0s 2ms/step - loss: 3.9645 - mae: 3.9645\n",
      "Epoch 44/100\n",
      "1/1 [==============================] - 0s 2ms/step - loss: 3.8579 - mae: 3.8579\n",
      "Epoch 45/100\n",
      "1/1 [==============================] - 0s 2ms/step - loss: 3.7033 - mae: 3.7033\n",
      "Epoch 46/100\n",
      "1/1 [==============================] - 0s 2ms/step - loss: 3.5037 - mae: 3.5037\n",
      "Epoch 47/100\n",
      "1/1 [==============================] - 0s 2ms/step - loss: 3.3579 - mae: 3.3579\n",
      "Epoch 48/100\n",
      "1/1 [==============================] - 0s 2ms/step - loss: 3.2078 - mae: 3.2078\n",
      "Epoch 49/100\n",
      "1/1 [==============================] - 0s 2ms/step - loss: 3.0823 - mae: 3.0823\n",
      "Epoch 50/100\n",
      "1/1 [==============================] - 0s 2ms/step - loss: 2.8690 - mae: 2.8690\n",
      "Epoch 51/100\n",
      "1/1 [==============================] - 0s 2ms/step - loss: 2.6556 - mae: 2.6556\n",
      "Epoch 52/100\n",
      "1/1 [==============================] - 0s 2ms/step - loss: 2.4907 - mae: 2.4907\n",
      "Epoch 53/100\n",
      "1/1 [==============================] - 0s 2ms/step - loss: 2.3428 - mae: 2.3428\n",
      "Epoch 54/100\n",
      "1/1 [==============================] - 0s 2ms/step - loss: 2.1337 - mae: 2.1337\n",
      "Epoch 55/100\n",
      "1/1 [==============================] - 0s 2ms/step - loss: 1.8665 - mae: 1.8665\n",
      "Epoch 56/100\n",
      "1/1 [==============================] - 0s 2ms/step - loss: 1.6065 - mae: 1.6065\n",
      "Epoch 57/100\n",
      "1/1 [==============================] - 0s 2ms/step - loss: 1.4626 - mae: 1.4626\n",
      "Epoch 58/100\n",
      "1/1 [==============================] - 0s 2ms/step - loss: 1.2043 - mae: 1.2043\n",
      "Epoch 59/100\n",
      "1/1 [==============================] - 0s 2ms/step - loss: 0.8719 - mae: 0.8719\n",
      "Epoch 60/100\n",
      "1/1 [==============================] - 0s 2ms/step - loss: 0.6617 - mae: 0.6617\n",
      "Epoch 61/100\n",
      "1/1 [==============================] - 0s 2ms/step - loss: 0.3891 - mae: 0.3891\n",
      "Epoch 62/100\n",
      "1/1 [==============================] - 0s 2ms/step - loss: 0.1859 - mae: 0.1859\n",
      "Epoch 63/100\n",
      "1/1 [==============================] - 0s 2ms/step - loss: 0.2546 - mae: 0.2546\n",
      "Epoch 64/100\n",
      "1/1 [==============================] - 0s 3ms/step - loss: 0.5663 - mae: 0.5663\n",
      "Epoch 65/100\n",
      "1/1 [==============================] - 0s 2ms/step - loss: 0.7464 - mae: 0.7464\n",
      "Epoch 66/100\n",
      "1/1 [==============================] - 0s 2ms/step - loss: 0.7003 - mae: 0.7003\n",
      "Epoch 67/100\n",
      "1/1 [==============================] - 0s 3ms/step - loss: 0.8778 - mae: 0.8778\n",
      "Epoch 68/100\n",
      "1/1 [==============================] - 0s 3ms/step - loss: 0.9753 - mae: 0.9753\n",
      "Epoch 69/100\n",
      "1/1 [==============================] - 0s 2ms/step - loss: 0.8506 - mae: 0.8506\n",
      "Epoch 70/100\n",
      "1/1 [==============================] - 0s 3ms/step - loss: 0.6772 - mae: 0.6772\n",
      "Epoch 71/100\n",
      "1/1 [==============================] - 0s 2ms/step - loss: 0.8007 - mae: 0.8007\n",
      "Epoch 72/100\n",
      "1/1 [==============================] - 0s 3ms/step - loss: 0.7242 - mae: 0.7242\n",
      "Epoch 73/100\n",
      "1/1 [==============================] - 0s 3ms/step - loss: 0.4725 - mae: 0.4725\n",
      "Epoch 74/100\n",
      "1/1 [==============================] - 0s 3ms/step - loss: 0.3062 - mae: 0.3062\n",
      "Epoch 75/100\n",
      "1/1 [==============================] - 0s 3ms/step - loss: 0.2618 - mae: 0.2618\n",
      "Epoch 76/100\n",
      "1/1 [==============================] - 0s 4ms/step - loss: 0.0995 - mae: 0.0995\n",
      "Epoch 77/100\n",
      "1/1 [==============================] - 0s 5ms/step - loss: 0.2073 - mae: 0.2073\n",
      "Epoch 78/100\n",
      "1/1 [==============================] - 0s 2ms/step - loss: 0.2586 - mae: 0.2586\n",
      "Epoch 79/100\n",
      "1/1 [==============================] - 0s 2ms/step - loss: 0.3103 - mae: 0.3103\n",
      "Epoch 80/100\n",
      "1/1 [==============================] - 0s 2ms/step - loss: 0.2797 - mae: 0.2797\n",
      "Epoch 81/100\n",
      "1/1 [==============================] - 0s 1ms/step - loss: 0.2641 - mae: 0.2641\n",
      "Epoch 82/100\n",
      "1/1 [==============================] - 0s 2ms/step - loss: 0.2396 - mae: 0.2396\n",
      "Epoch 83/100\n",
      "1/1 [==============================] - 0s 2ms/step - loss: 0.1282 - mae: 0.1282\n",
      "Epoch 84/100\n",
      "1/1 [==============================] - 0s 2ms/step - loss: 0.2202 - mae: 0.2202\n",
      "Epoch 85/100\n",
      "1/1 [==============================] - 0s 3ms/step - loss: 0.1827 - mae: 0.1827\n",
      "Epoch 86/100\n",
      "1/1 [==============================] - 0s 2ms/step - loss: 0.2306 - mae: 0.2306\n",
      "Epoch 87/100\n",
      "1/1 [==============================] - 0s 2ms/step - loss: 0.3130 - mae: 0.3130\n",
      "Epoch 88/100\n",
      "1/1 [==============================] - 0s 2ms/step - loss: 0.2276 - mae: 0.2276\n",
      "Epoch 89/100\n",
      "1/1 [==============================] - 0s 2ms/step - loss: 0.1913 - mae: 0.1913\n",
      "Epoch 90/100\n",
      "1/1 [==============================] - 0s 2ms/step - loss: 0.1634 - mae: 0.1634\n",
      "Epoch 91/100\n",
      "1/1 [==============================] - 0s 2ms/step - loss: 0.1391 - mae: 0.1391\n",
      "Epoch 92/100\n",
      "1/1 [==============================] - 0s 1ms/step - loss: 0.1301 - mae: 0.1301\n",
      "Epoch 93/100\n",
      "1/1 [==============================] - 0s 2ms/step - loss: 0.1990 - mae: 0.1990\n",
      "Epoch 94/100\n",
      "1/1 [==============================] - 0s 2ms/step - loss: 0.2453 - mae: 0.2453\n",
      "Epoch 95/100\n",
      "1/1 [==============================] - 0s 1ms/step - loss: 0.0909 - mae: 0.0909\n",
      "Epoch 96/100\n",
      "1/1 [==============================] - 0s 2ms/step - loss: 0.2893 - mae: 0.2893\n",
      "Epoch 97/100\n",
      "1/1 [==============================] - 0s 2ms/step - loss: 0.3231 - mae: 0.3231\n",
      "Epoch 98/100\n",
      "1/1 [==============================] - 0s 2ms/step - loss: 0.1479 - mae: 0.1479\n",
      "Epoch 99/100\n",
      "1/1 [==============================] - 0s 1ms/step - loss: 0.3388 - mae: 0.3388\n",
      "Epoch 100/100\n",
      "1/1 [==============================] - 0s 2ms/step - loss: 0.4217 - mae: 0.4217\n"
     ]
    },
    {
     "data": {
      "text/plain": [
       "<keras.callbacks.History at 0x7fb2356d11e0>"
      ]
     },
     "execution_count": 79,
     "metadata": {},
     "output_type": "execute_result"
    }
   ],
   "source": [
    "# Let's see if we can make another change to improve our model\n",
    "\n",
    "# 1. Create the model (this time with an extra hidden layer with 100 hidden units)\n",
    "model = tf.keras.Sequential([\n",
    "    tf.keras.layers.Dense(50, activation=None),\n",
    "    tf.keras.layers.Dense(1)\n",
    "])\n",
    "\n",
    "# 2 . Compile the model\n",
    "model.compile(loss=tf.keras.losses.mae,\n",
    "              optimizer=tf.keras.optimizers.Adam(learning_rate=0.01),\n",
    "              metrics=[\"mae\"])\n",
    "\n",
    "# 3. Fit the model\n",
    "model.fit(tf.expand_dims(X, axis=1), y, epochs=100)"
   ]
  },
  {
   "cell_type": "code",
   "execution_count": 67,
   "id": "d2fa9b1d-6d83-4312-b6af-bd0b80cb8531",
   "metadata": {},
   "outputs": [
    {
     "data": {
      "text/plain": [
       "(<tf.Tensor: shape=(8,), dtype=float64, numpy=array([-7., -4., -1.,  2.,  5.,  8., 11., 14.])>,\n",
       " <tf.Tensor: shape=(8,), dtype=float64, numpy=array([ 3.,  6.,  9., 12., 15., 18., 21., 24.])>)"
      ]
     },
     "execution_count": 67,
     "metadata": {},
     "output_type": "execute_result"
    }
   ],
   "source": [
    "# Let's remind ourselves of the data\n",
    "X, y"
   ]
  },
  {
   "cell_type": "code",
   "execution_count": 80,
   "id": "2dce19ef-156a-419c-a772-e52253fd0722",
   "metadata": {},
   "outputs": [
    {
     "name": "stdout",
     "output_type": "stream",
     "text": [
      "1/1 [==============================] - 0s 40ms/step\n"
     ]
    },
    {
     "data": {
      "text/plain": [
       "array([[26.426199]], dtype=float32)"
      ]
     },
     "execution_count": 80,
     "metadata": {},
     "output_type": "execute_result"
    }
   ],
   "source": [
    "model.predict([17.0])"
   ]
  },
  {
   "cell_type": "markdown",
   "id": "5a70183f-1e48-4692-8175-5510f1b4c2ba",
   "metadata": {},
   "source": [
    "### ⭐️ Common ways to improve a deep model\n",
    "* Adding layers\n",
    "* Increase the number of hidden units\n",
    "* Change the activation functions\n",
    "* Change the optimization function\n",
    "* Change the learning rate\n",
    "* Fitting on more data\n",
    "* Fitting for longer (epochs)"
   ]
  },
  {
   "cell_type": "markdown",
   "id": "a7bcc1d5-ef55-4626-918f-2c7c17ebbbef",
   "metadata": {},
   "source": [
    "## Evaluating a model"
   ]
  },
  {
   "cell_type": "code",
   "execution_count": null,
   "id": "9d1f2502-163e-4eb0-888c-abc02be5d62f",
   "metadata": {},
   "outputs": [],
   "source": []
  }
 ],
 "metadata": {
  "kernelspec": {
   "display_name": "Python 3 (ipykernel)",
   "language": "python",
   "name": "python3"
  },
  "language_info": {
   "codemirror_mode": {
    "name": "ipython",
    "version": 3
   },
   "file_extension": ".py",
   "mimetype": "text/x-python",
   "name": "python",
   "nbconvert_exporter": "python",
   "pygments_lexer": "ipython3",
   "version": "3.10.6"
  }
 },
 "nbformat": 4,
 "nbformat_minor": 5
}
