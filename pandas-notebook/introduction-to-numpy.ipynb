{
 "cells": [
  {
   "cell_type": "code",
   "execution_count": 1,
   "id": "406bf3e8-fd9d-4455-9211-6b26032d9f65",
   "metadata": {},
   "outputs": [],
   "source": [
    "import numpy as np"
   ]
  },
  {
   "cell_type": "markdown",
   "id": "eefc0177-016f-4213-b1d0-2e2e4e9d4eb5",
   "metadata": {},
   "source": [
    "## Data Types and Attributes"
   ]
  },
  {
   "cell_type": "code",
   "execution_count": 2,
   "id": "bec2a61c-194e-4cb5-98e1-506bdf860b1e",
   "metadata": {},
   "outputs": [
    {
     "data": {
      "text/plain": [
       "array([1, 2, 3])"
      ]
     },
     "execution_count": 2,
     "metadata": {},
     "output_type": "execute_result"
    }
   ],
   "source": [
    "#Numpy's main datatype is ndarray\n",
    "\n",
    "# One-dimensional array\n",
    "a1 = np.array([1, 2, 3])\n",
    "a1"
   ]
  },
  {
   "cell_type": "code",
   "execution_count": 3,
   "id": "124b333a-36d6-45e2-a9fa-e38cfb977f6d",
   "metadata": {},
   "outputs": [
    {
     "data": {
      "text/plain": [
       "numpy.ndarray"
      ]
     },
     "execution_count": 3,
     "metadata": {},
     "output_type": "execute_result"
    }
   ],
   "source": [
    "type(a1)"
   ]
  },
  {
   "cell_type": "code",
   "execution_count": 4,
   "id": "99140617-2655-425d-86a7-05405f570c24",
   "metadata": {},
   "outputs": [],
   "source": [
    "# 2-dimensional array\n",
    "a2 = np.array([\n",
    "    [1, 2.0, 3.3],\n",
    "    [4, 5, 6.5]])\n",
    "\n",
    "# 3-dimensional array\n",
    "a3 = np.array([[[1, 2, 3],\n",
    "                 [4, 5, 6],\n",
    "                 [7, 8, 9]],\n",
    "                [[10, 11, 12],\n",
    "                 [13, 14, 15],\n",
    "                 [16, 17, 18]]])"
   ]
  },
  {
   "cell_type": "code",
   "execution_count": 5,
   "id": "3961f405-4a94-449b-9d91-e0ff2098ae5d",
   "metadata": {},
   "outputs": [
    {
     "data": {
      "text/plain": [
       "array([[1. , 2. , 3.3],\n",
       "       [4. , 5. , 6.5]])"
      ]
     },
     "execution_count": 5,
     "metadata": {},
     "output_type": "execute_result"
    }
   ],
   "source": [
    "a2"
   ]
  },
  {
   "cell_type": "code",
   "execution_count": 6,
   "id": "b2d7afff-43ed-4614-a3a9-3e1e5028dda0",
   "metadata": {},
   "outputs": [
    {
     "data": {
      "text/plain": [
       "array([[[ 1,  2,  3],\n",
       "        [ 4,  5,  6],\n",
       "        [ 7,  8,  9]],\n",
       "\n",
       "       [[10, 11, 12],\n",
       "        [13, 14, 15],\n",
       "        [16, 17, 18]]])"
      ]
     },
     "execution_count": 6,
     "metadata": {},
     "output_type": "execute_result"
    }
   ],
   "source": [
    "a3"
   ]
  },
  {
   "cell_type": "code",
   "execution_count": 8,
   "id": "88558d8d-443a-4ca8-8e76-9db38abff9bf",
   "metadata": {},
   "outputs": [
    {
     "data": {
      "text/plain": [
       "(3,)"
      ]
     },
     "execution_count": 8,
     "metadata": {},
     "output_type": "execute_result"
    }
   ],
   "source": [
    "a1.shape"
   ]
  },
  {
   "cell_type": "code",
   "execution_count": 9,
   "id": "2e6e0736-dd60-4d27-be54-f7650f2143bf",
   "metadata": {},
   "outputs": [
    {
     "data": {
      "text/plain": [
       "(2, 3)"
      ]
     },
     "execution_count": 9,
     "metadata": {},
     "output_type": "execute_result"
    }
   ],
   "source": [
    "a2.shape"
   ]
  },
  {
   "cell_type": "code",
   "execution_count": 10,
   "id": "250d2bcb-cc25-4819-8b12-1f0dd0df0e1d",
   "metadata": {},
   "outputs": [
    {
     "data": {
      "text/plain": [
       "(2, 3, 3)"
      ]
     },
     "execution_count": 10,
     "metadata": {},
     "output_type": "execute_result"
    }
   ],
   "source": [
    "a3.shape"
   ]
  },
  {
   "cell_type": "code",
   "execution_count": 11,
   "id": "74b2c82f-175d-41a5-a46d-400a73c8d98a",
   "metadata": {},
   "outputs": [
    {
     "data": {
      "text/plain": [
       "(1, 2, 3)"
      ]
     },
     "execution_count": 11,
     "metadata": {},
     "output_type": "execute_result"
    }
   ],
   "source": [
    "a1.ndim, a2.ndim, a3.ndim"
   ]
  },
  {
   "cell_type": "code",
   "execution_count": 12,
   "id": "ff0943f0-f023-4b9d-b171-c1453b1fe6e5",
   "metadata": {},
   "outputs": [
    {
     "data": {
      "text/plain": [
       "(dtype('int64'), dtype('float64'), dtype('int64'))"
      ]
     },
     "execution_count": 12,
     "metadata": {},
     "output_type": "execute_result"
    }
   ],
   "source": [
    "a1.dtype, a2.dtype, a3.dtype"
   ]
  },
  {
   "cell_type": "code",
   "execution_count": 13,
   "id": "44192b10-f349-4880-acf7-a466d50e87fd",
   "metadata": {},
   "outputs": [
    {
     "data": {
      "text/plain": [
       "(3, 6, 18)"
      ]
     },
     "execution_count": 13,
     "metadata": {},
     "output_type": "execute_result"
    }
   ],
   "source": [
    "# Amount of elements in each array\n",
    "a1.size, a2.size, a3.size"
   ]
  },
  {
   "cell_type": "code",
   "execution_count": 14,
   "id": "d376e9cd-6c16-4574-92a5-aae0d5107156",
   "metadata": {},
   "outputs": [
    {
     "data": {
      "text/html": [
       "<div>\n",
       "<style scoped>\n",
       "    .dataframe tbody tr th:only-of-type {\n",
       "        vertical-align: middle;\n",
       "    }\n",
       "\n",
       "    .dataframe tbody tr th {\n",
       "        vertical-align: top;\n",
       "    }\n",
       "\n",
       "    .dataframe thead th {\n",
       "        text-align: right;\n",
       "    }\n",
       "</style>\n",
       "<table border=\"1\" class=\"dataframe\">\n",
       "  <thead>\n",
       "    <tr style=\"text-align: right;\">\n",
       "      <th></th>\n",
       "      <th>0</th>\n",
       "      <th>1</th>\n",
       "      <th>2</th>\n",
       "    </tr>\n",
       "  </thead>\n",
       "  <tbody>\n",
       "    <tr>\n",
       "      <th>0</th>\n",
       "      <td>1.0</td>\n",
       "      <td>2.0</td>\n",
       "      <td>3.3</td>\n",
       "    </tr>\n",
       "    <tr>\n",
       "      <th>1</th>\n",
       "      <td>4.0</td>\n",
       "      <td>5.0</td>\n",
       "      <td>6.5</td>\n",
       "    </tr>\n",
       "  </tbody>\n",
       "</table>\n",
       "</div>"
      ],
      "text/plain": [
       "     0    1    2\n",
       "0  1.0  2.0  3.3\n",
       "1  4.0  5.0  6.5"
      ]
     },
     "execution_count": 14,
     "metadata": {},
     "output_type": "execute_result"
    }
   ],
   "source": [
    "# Create a DataFrame from a NumPy array\n",
    "import pandas as pd\n",
    "\n",
    "df = pd.DataFrame(a2)\n",
    "df"
   ]
  },
  {
   "cell_type": "markdown",
   "id": "4bd5aab7-32a8-4685-90be-ba6715f6e02d",
   "metadata": {},
   "source": [
    "## Creating Arrays"
   ]
  },
  {
   "cell_type": "code",
   "execution_count": 15,
   "id": "6974e331-81d4-4b7c-9f33-dcabb93e3df2",
   "metadata": {},
   "outputs": [
    {
     "data": {
      "text/plain": [
       "array([1, 2, 3])"
      ]
     },
     "execution_count": 15,
     "metadata": {},
     "output_type": "execute_result"
    }
   ],
   "source": [
    "sample_array = np.array([1, 2, 3])\n",
    "sample_array"
   ]
  },
  {
   "cell_type": "code",
   "execution_count": 16,
   "id": "89b16657-2e90-484c-b62f-5fc84af60aef",
   "metadata": {},
   "outputs": [
    {
     "data": {
      "text/plain": [
       "array([[1., 1., 1.],\n",
       "       [1., 1., 1.]])"
      ]
     },
     "execution_count": 16,
     "metadata": {},
     "output_type": "execute_result"
    }
   ],
   "source": [
    "# Creating an array filled with ones with shape 2,3\n",
    "ones = np.ones( (2, 3) )\n",
    "ones"
   ]
  },
  {
   "cell_type": "code",
   "execution_count": 17,
   "id": "e14414d7-3df9-42d0-8aa0-7ae1ea79fa11",
   "metadata": {},
   "outputs": [
    {
     "data": {
      "text/plain": [
       "array([[0., 0., 0.],\n",
       "       [0., 0., 0.]])"
      ]
     },
     "execution_count": 17,
     "metadata": {},
     "output_type": "execute_result"
    }
   ],
   "source": [
    "# Creating an Array filled with zeros with shape (2, 3)\n",
    "zeros = np.zeros((2, 3))\n",
    "zeros"
   ]
  },
  {
   "cell_type": "code",
   "execution_count": 18,
   "id": "9cc99e4a-01f0-4cce-86ce-7ed03639f34b",
   "metadata": {},
   "outputs": [
    {
     "data": {
      "text/plain": [
       "array([0, 2, 4, 6, 8])"
      ]
     },
     "execution_count": 18,
     "metadata": {},
     "output_type": "execute_result"
    }
   ],
   "source": [
    "# Creating a range array with start=0, stop=10 and step=2\n",
    "range_array = np.arange(0, 10, 2)\n",
    "range_array"
   ]
  },
  {
   "cell_type": "code",
   "execution_count": 19,
   "id": "a75ba432-74dc-49d9-8aec-ef0167a12d46",
   "metadata": {},
   "outputs": [
    {
     "data": {
      "text/plain": [
       "array([[3, 1, 5, 3, 1],\n",
       "       [0, 1, 5, 3, 6],\n",
       "       [6, 6, 1, 8, 1]])"
      ]
     },
     "execution_count": 19,
     "metadata": {},
     "output_type": "execute_result"
    }
   ],
   "source": [
    "# Creating a random data array with low=0, high=10 and size=(3, 5)\n",
    "random_array = np.random.randint(0, 10, size=(3,5))\n",
    "random_array"
   ]
  },
  {
   "cell_type": "code",
   "execution_count": 25,
   "id": "72407636-cad8-4999-8d3d-86aba8dcb20d",
   "metadata": {},
   "outputs": [
    {
     "data": {
      "text/plain": [
       "array([[0.77192462, 0.40244656, 0.26135399],\n",
       "       [0.07881819, 0.99485782, 0.54582898],\n",
       "       [0.16450547, 0.90225992, 0.98754273],\n",
       "       [0.00617057, 0.84660444, 0.92489168],\n",
       "       [0.69677974, 0.25151348, 0.3162664 ]])"
      ]
     },
     "execution_count": 25,
     "metadata": {},
     "output_type": "execute_result"
    }
   ],
   "source": [
    "# Creating a random float array with values between 0~1 by size\n",
    "random_array_2 = np.random.random((5, 3))\n",
    "random_array_2"
   ]
  },
  {
   "cell_type": "code",
   "execution_count": 29,
   "id": "55db5657-640c-4a68-a6d3-d04a92c7441b",
   "metadata": {},
   "outputs": [
    {
     "data": {
      "text/plain": [
       "array([[0.08006446, 0.89764165, 0.73139347],\n",
       "       [0.66033557, 0.77124527, 0.81137688],\n",
       "       [0.39110579, 0.17288873, 0.74554837],\n",
       "       [0.67464301, 0.78104964, 0.81739067],\n",
       "       [0.35923687, 0.81075247, 0.9890332 ]])"
      ]
     },
     "execution_count": 29,
     "metadata": {},
     "output_type": "execute_result"
    }
   ],
   "source": [
    "# Creating a random float array by shape\n",
    "# axis 1: Refers to rows = 5\n",
    "# axis 2: Refers to cols = 3\n",
    "# axis n: Refers to dimensions = none in this case\n",
    "\n",
    "random_array_3 = np.random.rand(5, 3)\n",
    "random_array_3"
   ]
  },
  {
   "cell_type": "code",
   "execution_count": 50,
   "id": "aaa03143-9baa-4789-ac58-08ee6c4c1b7d",
   "metadata": {},
   "outputs": [
    {
     "data": {
      "text/plain": [
       "array([[0, 3, 1],\n",
       "       [8, 1, 3],\n",
       "       [8, 5, 6],\n",
       "       [0, 6, 0],\n",
       "       [4, 0, 9]])"
      ]
     },
     "execution_count": 50,
     "metadata": {},
     "output_type": "execute_result"
    }
   ],
   "source": [
    "# Pseudo-random numbers - random will use always same value base on seed parameter even running again\n",
    "# Useful to reproduce same random values in experiments\n",
    "# But it is not really random, is a pseudo-random\n",
    "np.random.seed(seed=99999)\n",
    "random_array_4 = np.random.randint(10, size=(5, 3))\n",
    "random_array_4"
   ]
  },
  {
   "cell_type": "code",
   "execution_count": 51,
   "id": "67d7cc2e-0f34-49db-91e9-3a4656a3e1ac",
   "metadata": {},
   "outputs": [
    {
     "data": {
      "text/plain": [
       "array([[0.07630829, 0.77991879, 0.43840923],\n",
       "       [0.72346518, 0.97798951, 0.53849587],\n",
       "       [0.50112046, 0.07205113, 0.26843898],\n",
       "       [0.4998825 , 0.67923   , 0.80373904],\n",
       "       [0.38094113, 0.06593635, 0.2881456 ]])"
      ]
     },
     "execution_count": 51,
     "metadata": {},
     "output_type": "execute_result"
    }
   ],
   "source": [
    "# random_array_5 in pseudo-random\n",
    "np.random.seed(seed=7)\n",
    "random_array_5 = np.random.random((5, 3))\n",
    "random_array_5"
   ]
  },
  {
   "cell_type": "code",
   "execution_count": 53,
   "id": "4c10c987-8b01-4d0a-ac0a-ee97ec27ffdb",
   "metadata": {},
   "outputs": [
    {
     "data": {
      "text/plain": [
       "array([[0.20484909, 0.49076589, 0.37238469],\n",
       "       [0.47740115, 0.36589039, 0.83791799],\n",
       "       [0.76864751, 0.31399468, 0.57262533],\n",
       "       [0.27604905, 0.45284293, 0.35297837],\n",
       "       [0.65739946, 0.37035108, 0.45909298]])"
      ]
     },
     "execution_count": 53,
     "metadata": {},
     "output_type": "execute_result"
    }
   ],
   "source": [
    "# random_array_5 back to generate real random\n",
    "random_array_5 = np.random.random((5, 3))\n",
    "random_array_5"
   ]
  },
  {
   "cell_type": "markdown",
   "id": "88d8457a-840f-415c-a984-a66a1b81845f",
   "metadata": {},
   "source": [
    "## Viewing arrays and matrices"
   ]
  },
  {
   "cell_type": "code",
   "execution_count": 54,
   "id": "c3668c6f-a09e-47bd-83e6-0e730f8c6d60",
   "metadata": {},
   "outputs": [
    {
     "data": {
      "text/plain": [
       "array([1, 2, 3])"
      ]
     },
     "execution_count": 54,
     "metadata": {},
     "output_type": "execute_result"
    }
   ],
   "source": [
    "# Show unique values in an array\n",
    "np.unique([1, 1, 2, 2, 3, 3])"
   ]
  },
  {
   "cell_type": "code",
   "execution_count": 55,
   "id": "36bfea0c-4d4b-4956-9288-c4d6252afb34",
   "metadata": {},
   "outputs": [
    {
     "data": {
      "text/plain": [
       "array([0, 1, 3, 4, 5, 6, 8, 9])"
      ]
     },
     "execution_count": 55,
     "metadata": {},
     "output_type": "execute_result"
    }
   ],
   "source": [
    "np.unique(random_array_4)"
   ]
  },
  {
   "cell_type": "code",
   "execution_count": 57,
   "id": "ee8586b3-4046-420a-b972-3c691071542f",
   "metadata": {},
   "outputs": [
    {
     "data": {
      "text/plain": [
       "array([[1, 2, 3],\n",
       "       [4, 5, 6],\n",
       "       [7, 8, 9]])"
      ]
     },
     "execution_count": 57,
     "metadata": {},
     "output_type": "execute_result"
    }
   ],
   "source": [
    "# Read array or matrix by index\n",
    "a3[0]"
   ]
  },
  {
   "cell_type": "code",
   "execution_count": 58,
   "id": "b659630f-6357-41ac-817f-f64dbde496e1",
   "metadata": {},
   "outputs": [
    {
     "data": {
      "text/plain": [
       "array([[[ 1,  2],\n",
       "        [ 4,  5]],\n",
       "\n",
       "       [[10, 11],\n",
       "        [13, 14]]])"
      ]
     },
     "execution_count": 58,
     "metadata": {},
     "output_type": "execute_result"
    }
   ],
   "source": [
    "# Get first 2 elements in matrix\n",
    "a3[:2, :2, :2]"
   ]
  },
  {
   "cell_type": "code",
   "execution_count": 59,
   "id": "4336427a-b12d-4708-84dd-565fd124992f",
   "metadata": {},
   "outputs": [
    {
     "data": {
      "text/plain": [
       "array([[[[1, 9, 5, 9, 1],\n",
       "         [2, 3, 2, 2, 5],\n",
       "         [7, 3, 0, 9, 9],\n",
       "         [3, 4, 5, 3, 0]],\n",
       "\n",
       "        [[4, 8, 6, 7, 2],\n",
       "         [7, 3, 8, 6, 6],\n",
       "         [5, 6, 5, 7, 1],\n",
       "         [5, 4, 4, 9, 9]],\n",
       "\n",
       "        [[0, 6, 2, 6, 8],\n",
       "         [2, 4, 1, 6, 1],\n",
       "         [5, 1, 6, 9, 8],\n",
       "         [6, 5, 9, 7, 5]]],\n",
       "\n",
       "\n",
       "       [[[4, 9, 6, 8, 1],\n",
       "         [5, 5, 8, 3, 7],\n",
       "         [7, 9, 4, 7, 5],\n",
       "         [9, 6, 2, 0, 5]],\n",
       "\n",
       "        [[3, 0, 5, 7, 1],\n",
       "         [8, 4, 9, 0, 2],\n",
       "         [0, 7, 6, 2, 9],\n",
       "         [9, 5, 1, 0, 0]],\n",
       "\n",
       "        [[9, 1, 1, 5, 3],\n",
       "         [2, 0, 4, 8, 7],\n",
       "         [1, 4, 9, 3, 6],\n",
       "         [7, 1, 0, 2, 7]]]])"
      ]
     },
     "execution_count": 59,
     "metadata": {},
     "output_type": "execute_result"
    }
   ],
   "source": [
    "# Viewing a 4-dimension matrix with 5 rows, 4 columns, 3 matrices into 2 matrices\n",
    "a4 = np.random.randint(10, size=(2, 3, 4, 5))\n",
    "a4"
   ]
  },
  {
   "cell_type": "code",
   "execution_count": 62,
   "id": "fea05756-acab-489a-8667-a7dbfcdb2654",
   "metadata": {},
   "outputs": [
    {
     "data": {
      "text/plain": [
       "array([[[[1, 9, 5],\n",
       "         [2, 3, 2],\n",
       "         [7, 3, 0],\n",
       "         [3, 4, 5]],\n",
       "\n",
       "        [[4, 8, 6],\n",
       "         [7, 3, 8],\n",
       "         [5, 6, 5],\n",
       "         [5, 4, 4]],\n",
       "\n",
       "        [[0, 6, 2],\n",
       "         [2, 4, 1],\n",
       "         [5, 1, 6],\n",
       "         [6, 5, 9]]],\n",
       "\n",
       "\n",
       "       [[[4, 9, 6],\n",
       "         [5, 5, 8],\n",
       "         [7, 9, 4],\n",
       "         [9, 6, 2]],\n",
       "\n",
       "        [[3, 0, 5],\n",
       "         [8, 4, 9],\n",
       "         [0, 7, 6],\n",
       "         [9, 5, 1]],\n",
       "\n",
       "        [[9, 1, 1],\n",
       "         [2, 0, 4],\n",
       "         [1, 4, 9],\n",
       "         [7, 1, 0]]]])"
      ]
     },
     "execution_count": 62,
     "metadata": {},
     "output_type": "execute_result"
    }
   ],
   "source": [
    "# Get the first 3 numbers of the inner most arrays in the 4-dimensional\n",
    "a4[:, :, :, :3]"
   ]
  },
  {
   "cell_type": "markdown",
   "id": "5c422d4d-88e5-4f7c-a3ed-0df5b6d0fff0",
   "metadata": {},
   "source": [
    "## Manipulating & comparing arrays"
   ]
  },
  {
   "cell_type": "markdown",
   "id": "30348daf-254e-4976-9f76-c5f7f2752286",
   "metadata": {},
   "source": [
    "### Arithmetic"
   ]
  },
  {
   "cell_type": "code",
   "execution_count": 63,
   "id": "7e6315b0-f6c8-4b6e-aceb-a68b0a60014b",
   "metadata": {},
   "outputs": [
    {
     "data": {
      "text/plain": [
       "array([1., 1., 1.])"
      ]
     },
     "execution_count": 63,
     "metadata": {},
     "output_type": "execute_result"
    }
   ],
   "source": [
    "ones = np.ones(3)\n",
    "ones"
   ]
  },
  {
   "cell_type": "code",
   "execution_count": 64,
   "id": "3ab683db-8870-4555-8137-c041aa5867de",
   "metadata": {},
   "outputs": [
    {
     "data": {
      "text/plain": [
       "array([1, 2, 3])"
      ]
     },
     "execution_count": 64,
     "metadata": {},
     "output_type": "execute_result"
    }
   ],
   "source": [
    "a1"
   ]
  },
  {
   "cell_type": "code",
   "execution_count": 65,
   "id": "d0b207f6-bf56-46c4-9d55-60cd470cbc81",
   "metadata": {},
   "outputs": [
    {
     "data": {
      "text/plain": [
       "array([2., 3., 4.])"
      ]
     },
     "execution_count": 65,
     "metadata": {},
     "output_type": "execute_result"
    }
   ],
   "source": [
    "# Sum a1 with ones\n",
    "a1 + ones"
   ]
  },
  {
   "cell_type": "code",
   "execution_count": 66,
   "id": "f0181a17-1276-45c3-bf62-6668a2e75bd7",
   "metadata": {},
   "outputs": [
    {
     "data": {
      "text/plain": [
       "array([0., 1., 2.])"
      ]
     },
     "execution_count": 66,
     "metadata": {},
     "output_type": "execute_result"
    }
   ],
   "source": [
    "# Subtract a1 - ones\n",
    "a1 - ones"
   ]
  },
  {
   "cell_type": "code",
   "execution_count": 67,
   "id": "d9144106-5c0b-4e8d-bce8-85f6890c6ded",
   "metadata": {},
   "outputs": [
    {
     "data": {
      "text/plain": [
       "array([1., 2., 3.])"
      ]
     },
     "execution_count": 67,
     "metadata": {},
     "output_type": "execute_result"
    }
   ],
   "source": [
    "# Multiply\n",
    "a1 * ones"
   ]
  },
  {
   "cell_type": "code",
   "execution_count": 68,
   "id": "c7e409f2-7218-4e74-a7d4-7ba60d1a26dc",
   "metadata": {},
   "outputs": [
    {
     "data": {
      "text/plain": [
       "array([[1. , 2. , 3.3],\n",
       "       [4. , 5. , 6.5]])"
      ]
     },
     "execution_count": 68,
     "metadata": {},
     "output_type": "execute_result"
    }
   ],
   "source": [
    "a2"
   ]
  },
  {
   "cell_type": "code",
   "execution_count": 69,
   "id": "34290291-cea2-4e19-ad26-06d7febc1ba0",
   "metadata": {},
   "outputs": [
    {
     "data": {
      "text/plain": [
       "array([[ 1. ,  4. ,  9.9],\n",
       "       [ 4. , 10. , 19.5]])"
      ]
     },
     "execution_count": 69,
     "metadata": {},
     "output_type": "execute_result"
    }
   ],
   "source": [
    "a1 * a2"
   ]
  },
  {
   "cell_type": "code",
   "execution_count": 71,
   "id": "1af00111-5fc1-46a7-98bd-1e7bc377fdf2",
   "metadata": {},
   "outputs": [
    {
     "data": {
      "text/plain": [
       "array([[[ 1,  2,  3],\n",
       "        [ 4,  5,  6],\n",
       "        [ 7,  8,  9]],\n",
       "\n",
       "       [[10, 11, 12],\n",
       "        [13, 14, 15],\n",
       "        [16, 17, 18]]])"
      ]
     },
     "execution_count": 71,
     "metadata": {},
     "output_type": "execute_result"
    }
   ],
   "source": [
    "a3"
   ]
  },
  {
   "cell_type": "code",
   "execution_count": 72,
   "id": "a8fd2e30-52ec-4016-a82e-64987582f463",
   "metadata": {},
   "outputs": [
    {
     "ename": "ValueError",
     "evalue": "operands could not be broadcast together with shapes (2,3) (2,3,3) ",
     "output_type": "error",
     "traceback": [
      "\u001b[0;31m---------------------------------------------------------------------------\u001b[0m",
      "\u001b[0;31mValueError\u001b[0m                                Traceback (most recent call last)",
      "Input \u001b[0;32mIn [72]\u001b[0m, in \u001b[0;36m<cell line: 1>\u001b[0;34m()\u001b[0m\n\u001b[0;32m----> 1\u001b[0m \u001b[43ma2\u001b[49m\u001b[43m \u001b[49m\u001b[38;5;241;43m*\u001b[39;49m\u001b[43m \u001b[49m\u001b[43ma3\u001b[49m\n",
      "\u001b[0;31mValueError\u001b[0m: operands could not be broadcast together with shapes (2,3) (2,3,3) "
     ]
    }
   ],
   "source": [
    "# Error: How can you reashape a2 to be compatible with a3?\n",
    "a2 * a3"
   ]
  },
  {
   "cell_type": "code",
   "execution_count": 74,
   "id": "a4c78a7a-70d4-4e36-ab44-54fe6895e17b",
   "metadata": {
    "collapsed": true,
    "jupyter": {
     "outputs_hidden": true
    },
    "tags": []
   },
   "outputs": [
    {
     "data": {
      "text/plain": [
       "array([1., 2., 3.])"
      ]
     },
     "execution_count": 74,
     "metadata": {},
     "output_type": "execute_result"
    }
   ],
   "source": [
    "# Division\n",
    "a1 / ones"
   ]
  },
  {
   "cell_type": "code",
   "execution_count": 76,
   "id": "d60d531c-dad8-4e86-aef5-ed69008456bd",
   "metadata": {},
   "outputs": [
    {
     "data": {
      "text/plain": [
       "array([[1.        , 1.        , 1.1       ],\n",
       "       [4.        , 2.5       , 2.16666667]])"
      ]
     },
     "execution_count": 76,
     "metadata": {},
     "output_type": "execute_result"
    }
   ],
   "source": [
    "a2 / a1"
   ]
  },
  {
   "cell_type": "code",
   "execution_count": 78,
   "id": "3111e5c3-8769-4deb-b425-784846b3df12",
   "metadata": {},
   "outputs": [
    {
     "data": {
      "text/plain": [
       "array([[1., 1., 1.],\n",
       "       [4., 2., 2.]])"
      ]
     },
     "execution_count": 78,
     "metadata": {},
     "output_type": "execute_result"
    }
   ],
   "source": [
    "# Floor division (rounds down - removes the decimals)\n",
    "a2 // a1"
   ]
  },
  {
   "cell_type": "code",
   "execution_count": 79,
   "id": "4dce96e8-9baa-4de6-a4d8-86d8f8a3b050",
   "metadata": {},
   "outputs": [
    {
     "data": {
      "text/plain": [
       "array([[ 1.  ,  4.  , 10.89],\n",
       "       [16.  , 25.  , 42.25]])"
      ]
     },
     "execution_count": 79,
     "metadata": {},
     "output_type": "execute_result"
    }
   ],
   "source": [
    "# Power of 2\n",
    "a2 ** 2"
   ]
  },
  {
   "cell_type": "code",
   "execution_count": 80,
   "id": "5110acbb-183f-46d5-b8d9-d42e788a53f0",
   "metadata": {},
   "outputs": [
    {
     "data": {
      "text/plain": [
       "array([[ 1.  ,  4.  , 10.89],\n",
       "       [16.  , 25.  , 42.25]])"
      ]
     },
     "execution_count": 80,
     "metadata": {},
     "output_type": "execute_result"
    }
   ],
   "source": [
    "# Square\n",
    "np.square(a2)"
   ]
  },
  {
   "cell_type": "code",
   "execution_count": 81,
   "id": "2b4c3b03-ca34-49b7-bfb7-ca903ec9445a",
   "metadata": {},
   "outputs": [
    {
     "data": {
      "text/plain": [
       "array([2., 3., 4.])"
      ]
     },
     "execution_count": 81,
     "metadata": {},
     "output_type": "execute_result"
    }
   ],
   "source": [
    "# Add using function add, same of using plus symbol (+)\n",
    "np.add(a1, ones)"
   ]
  },
  {
   "cell_type": "code",
   "execution_count": 84,
   "id": "fa7036d5-331b-4d4b-a73a-57a6455681da",
   "metadata": {},
   "outputs": [
    {
     "data": {
      "text/plain": [
       "array([1, 0, 1])"
      ]
     },
     "execution_count": 84,
     "metadata": {},
     "output_type": "execute_result"
    }
   ],
   "source": [
    "#Modulo (remain of division)\n",
    "a1 % 2"
   ]
  },
  {
   "cell_type": "code",
   "execution_count": 85,
   "id": "1bc5aecf-ad70-46a2-bbb8-62dae24f67d2",
   "metadata": {},
   "outputs": [
    {
     "data": {
      "text/plain": [
       "array([[1. , 0. , 1.3],\n",
       "       [0. , 1. , 0.5]])"
      ]
     },
     "execution_count": 85,
     "metadata": {},
     "output_type": "execute_result"
    }
   ],
   "source": [
    "a2 % 2"
   ]
  },
  {
   "cell_type": "code",
   "execution_count": 86,
   "id": "d66f56c6-9da0-41e0-b15e-c843f928657e",
   "metadata": {},
   "outputs": [
    {
     "data": {
      "text/plain": [
       "array([ 2.71828183,  7.3890561 , 20.08553692])"
      ]
     },
     "execution_count": 86,
     "metadata": {},
     "output_type": "execute_result"
    }
   ],
   "source": [
    "# Exponential\n",
    "np.exp(a1)"
   ]
  },
  {
   "cell_type": "code",
   "execution_count": 87,
   "id": "2add4152-6f4e-41ae-a420-b3eab22f8b4c",
   "metadata": {},
   "outputs": [
    {
     "data": {
      "text/plain": [
       "array([0.        , 0.69314718, 1.09861229])"
      ]
     },
     "execution_count": 87,
     "metadata": {},
     "output_type": "execute_result"
    }
   ],
   "source": [
    "# Log\n",
    "np.log(a1)"
   ]
  },
  {
   "cell_type": "markdown",
   "id": "dd5d78d2-9a77-4630-aba1-8c03aca19b61",
   "metadata": {
    "tags": []
   },
   "source": [
    "## Aggregation\n",
    "\n",
    "Aggregation = performing the same operation on number of things"
   ]
  },
  {
   "cell_type": "code",
   "execution_count": 88,
   "id": "d68d5725-ead6-49a7-97b0-e148bf74831f",
   "metadata": {},
   "outputs": [
    {
     "data": {
      "text/plain": [
       "list"
      ]
     },
     "execution_count": 88,
     "metadata": {},
     "output_type": "execute_result"
    }
   ],
   "source": [
    "# Using on python list (type list)\n",
    "listy_list = [1, 2, 3]\n",
    "type(listy_list)"
   ]
  },
  {
   "cell_type": "code",
   "execution_count": 89,
   "id": "3015d686-7903-4565-b3cb-781abc894c9e",
   "metadata": {},
   "outputs": [
    {
     "data": {
      "text/plain": [
       "6"
      ]
     },
     "execution_count": 89,
     "metadata": {},
     "output_type": "execute_result"
    }
   ],
   "source": [
    "# There is a sum method in Python and np.sum method in NumPy\n",
    "sum(listy_list)"
   ]
  },
  {
   "cell_type": "code",
   "execution_count": 91,
   "id": "10ce4ec9-18c4-48b2-93bf-505a6d6a2227",
   "metadata": {},
   "outputs": [
    {
     "data": {
      "text/plain": [
       "numpy.ndarray"
      ]
     },
     "execution_count": 91,
     "metadata": {},
     "output_type": "execute_result"
    }
   ],
   "source": [
    "# a1 is a numpy array, not a python list\n",
    "type(a1)"
   ]
  },
  {
   "cell_type": "code",
   "execution_count": 92,
   "id": "903a9df7-6b69-4568-95bc-75b9080218c4",
   "metadata": {},
   "outputs": [
    {
     "data": {
      "text/plain": [
       "6"
      ]
     },
     "execution_count": 92,
     "metadata": {},
     "output_type": "execute_result"
    }
   ],
   "source": [
    "sum(a1)"
   ]
  },
  {
   "cell_type": "code",
   "execution_count": 93,
   "id": "975c0cfd-d9f0-4e92-88e7-e9331c7e5299",
   "metadata": {},
   "outputs": [
    {
     "data": {
      "text/plain": [
       "6"
      ]
     },
     "execution_count": 93,
     "metadata": {},
     "output_type": "execute_result"
    }
   ],
   "source": [
    "np.sum(a1)"
   ]
  },
  {
   "cell_type": "markdown",
   "id": "5a9140fc-98c0-4c0c-a0a6-abed95c35cfe",
   "metadata": {},
   "source": [
    "Use Python's `sum` methods on Python datatypes and use\n",
    "Numpy's methods `np.sum` on NumPy arraus"
   ]
  },
  {
   "cell_type": "code",
   "execution_count": 95,
   "id": "7f5c94a3-462b-4e41-9b85-39344efbcc4d",
   "metadata": {},
   "outputs": [
    {
     "data": {
      "text/plain": [
       "100000"
      ]
     },
     "execution_count": 95,
     "metadata": {},
     "output_type": "execute_result"
    }
   ],
   "source": [
    "# Create a massive NumPy array\n",
    "massive_array = np.random.random(100000)\n",
    "massive_array.size"
   ]
  },
  {
   "cell_type": "code",
   "execution_count": 97,
   "id": "b766ec85-1cc6-4364-817c-a6126ac5dc3f",
   "metadata": {},
   "outputs": [
    {
     "data": {
      "text/plain": [
       "array([0.1494863 , 0.02319037, 0.52471984, 0.6966959 , 0.42705349,\n",
       "       0.13457046, 0.33135721, 0.59034585, 0.94066139, 0.99255772])"
      ]
     },
     "execution_count": 97,
     "metadata": {},
     "output_type": "execute_result"
    }
   ],
   "source": [
    "# View the first 10 elements\n",
    "massive_array[:10]"
   ]
  },
  {
   "cell_type": "code",
   "execution_count": 99,
   "id": "074baa38-eb61-44db-9ec5-10e8249eb604",
   "metadata": {},
   "outputs": [
    {
     "name": "stdout",
     "output_type": "stream",
     "text": [
      "7.03 ms ± 39.4 µs per loop (mean ± std. dev. of 7 runs, 100 loops each)\n",
      "22 µs ± 207 ns per loop (mean ± std. dev. of 7 runs, 10,000 loops each)\n"
     ]
    }
   ],
   "source": [
    "# Check the time to run\n",
    "%timeit sum(massive_array) # Python's sum()\n",
    "%timeit np.sum(massive_array) # NumPy's sum()"
   ]
  },
  {
   "cell_type": "code",
   "execution_count": 100,
   "id": "64d3fc89-8303-4bce-8cbf-9d8147c1c8a5",
   "metadata": {},
   "outputs": [
    {
     "data": {
      "text/plain": [
       "3.6333333333333333"
      ]
     },
     "execution_count": 100,
     "metadata": {},
     "output_type": "execute_result"
    }
   ],
   "source": [
    "np.mean(a2) # avg value"
   ]
  },
  {
   "cell_type": "code",
   "execution_count": 102,
   "id": "25e255ee-b5df-422a-a70a-a55e4e2063b7",
   "metadata": {},
   "outputs": [
    {
     "data": {
      "text/plain": [
       "6.5"
      ]
     },
     "execution_count": 102,
     "metadata": {},
     "output_type": "execute_result"
    }
   ],
   "source": [
    "np.max(a2) # max value"
   ]
  },
  {
   "cell_type": "code",
   "execution_count": 103,
   "id": "ddc3c679-63c2-4e66-b8b7-fdad87615fe6",
   "metadata": {},
   "outputs": [
    {
     "data": {
      "text/plain": [
       "1.0"
      ]
     },
     "execution_count": 103,
     "metadata": {},
     "output_type": "execute_result"
    }
   ],
   "source": [
    "np.min(a2) # min value"
   ]
  },
  {
   "cell_type": "code",
   "execution_count": 107,
   "id": "afb24573-b54d-45ce-9471-a2ea636f144c",
   "metadata": {},
   "outputs": [
    {
     "data": {
      "text/plain": [
       "1.8226964152656422"
      ]
     },
     "execution_count": 107,
     "metadata": {},
     "output_type": "execute_result"
    }
   ],
   "source": [
    "# Standard deviation = A measure of how spread out a group of numbers is from the mean\n",
    "np.std(a2)"
   ]
  },
  {
   "cell_type": "code",
   "execution_count": 108,
   "id": "49bb85af-2bdd-40f5-9ce8-fcd1b7e5092d",
   "metadata": {},
   "outputs": [
    {
     "data": {
      "text/plain": [
       "3.3222222222222224"
      ]
     },
     "execution_count": 108,
     "metadata": {},
     "output_type": "execute_result"
    }
   ],
   "source": [
    "# Variance = Measure of the average degree to which each number is different to the mean\n",
    "# Higher variance = wider range of numbers\n",
    "# Lower variance = lower range of numbers\n",
    "np.var(a2)"
   ]
  },
  {
   "cell_type": "code",
   "execution_count": 109,
   "id": "342f3f30-7703-4271-b6fb-c391964a2499",
   "metadata": {},
   "outputs": [
    {
     "data": {
      "text/plain": [
       "1.8226964152656422"
      ]
     },
     "execution_count": 109,
     "metadata": {},
     "output_type": "execute_result"
    }
   ],
   "source": [
    "# Standard deviation = Squareroot of variance\n",
    "np.sqrt(np.var(a2))"
   ]
  },
  {
   "cell_type": "code",
   "execution_count": null,
   "id": "5feee928-1e42-4508-82d8-2f7a20aafd99",
   "metadata": {},
   "outputs": [],
   "source": []
  }
 ],
 "metadata": {
  "kernelspec": {
   "display_name": "Python 3 (ipykernel)",
   "language": "python",
   "name": "python3"
  },
  "language_info": {
   "codemirror_mode": {
    "name": "ipython",
    "version": 3
   },
   "file_extension": ".py",
   "mimetype": "text/x-python",
   "name": "python",
   "nbconvert_exporter": "python",
   "pygments_lexer": "ipython3",
   "version": "3.9.12"
  }
 },
 "nbformat": 4,
 "nbformat_minor": 5
}
