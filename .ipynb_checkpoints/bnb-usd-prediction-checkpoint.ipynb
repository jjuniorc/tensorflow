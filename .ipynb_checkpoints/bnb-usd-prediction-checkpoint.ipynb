{
 "cells": [
  {
   "cell_type": "code",
   "execution_count": 101,
   "id": "9ad943fa-4fc2-401e-9cdb-61658fc25f82",
   "metadata": {},
   "outputs": [],
   "source": [
    "import pandas as pd\n",
    "import tensorflow as tf\n",
    "from tensorflow import keras\n",
    "\n",
    "import numpy as np\n",
    "\n",
    "import matplotlib.pyplot as plt\n",
    "\n",
    "from sklearn.preprocessing import MinMaxScaler\n",
    "\n",
    "# from tensorflow.keras.layers import Bidirectional, Dropout, Activation, Dense, LSTM\n",
    "from keras.layers import Input, LSTM, Dense, TimeDistributed, Activation, BatchNormalization, Dropout, Bidirectional\n",
    "from keras.models import Sequential\n",
    "from keras.utils import Sequence\n",
    "from keras.layers import LSTM\n",
    "\n",
    "#from tensorflow.python.keras.layers import CuDNNLSTM\n",
    "#from tensorflow.keras.models import Sequential"
   ]
  },
  {
   "cell_type": "code",
   "execution_count": 102,
   "id": "941ecba5-32b3-4c81-8595-7884d31515a0",
   "metadata": {},
   "outputs": [],
   "source": [
    "RANDOM_SEED = 42\n",
    "np.random.seed(RANDOM_SEED)"
   ]
  },
  {
   "cell_type": "code",
   "execution_count": 103,
   "id": "b2b11f3c-abf7-44e2-bda8-397108acb63e",
   "metadata": {},
   "outputs": [
    {
     "data": {
      "text/html": [
       "<div>\n",
       "<style scoped>\n",
       "    .dataframe tbody tr th:only-of-type {\n",
       "        vertical-align: middle;\n",
       "    }\n",
       "\n",
       "    .dataframe tbody tr th {\n",
       "        vertical-align: top;\n",
       "    }\n",
       "\n",
       "    .dataframe thead th {\n",
       "        text-align: right;\n",
       "    }\n",
       "</style>\n",
       "<table border=\"1\" class=\"dataframe\">\n",
       "  <thead>\n",
       "    <tr style=\"text-align: right;\">\n",
       "      <th></th>\n",
       "      <th>time</th>\n",
       "      <th>open</th>\n",
       "      <th>high</th>\n",
       "      <th>low</th>\n",
       "      <th>close</th>\n",
       "      <th>volume</th>\n",
       "      <th>close_time</th>\n",
       "      <th>quote_asset_volume</th>\n",
       "      <th>number_of_trades</th>\n",
       "      <th>taker_buy_base_asset_volume</th>\n",
       "      <th>taker_buy_quote_asset_volume</th>\n",
       "      <th>unused</th>\n",
       "      <th>date</th>\n",
       "    </tr>\n",
       "  </thead>\n",
       "  <tbody>\n",
       "    <tr>\n",
       "      <th>0</th>\n",
       "      <td>1666514400000</td>\n",
       "      <td>269.7</td>\n",
       "      <td>269.8</td>\n",
       "      <td>269.7</td>\n",
       "      <td>269.8</td>\n",
       "      <td>439.634</td>\n",
       "      <td>1666514699999</td>\n",
       "      <td>118604.1910</td>\n",
       "      <td>287</td>\n",
       "      <td>349.012</td>\n",
       "      <td>94163.4376</td>\n",
       "      <td>0</td>\n",
       "      <td>2022-10-23 08:40:00</td>\n",
       "    </tr>\n",
       "    <tr>\n",
       "      <th>1</th>\n",
       "      <td>1666514700000</td>\n",
       "      <td>269.7</td>\n",
       "      <td>269.8</td>\n",
       "      <td>269.7</td>\n",
       "      <td>269.7</td>\n",
       "      <td>189.533</td>\n",
       "      <td>1666514999999</td>\n",
       "      <td>51123.6005</td>\n",
       "      <td>256</td>\n",
       "      <td>65.504</td>\n",
       "      <td>17672.9792</td>\n",
       "      <td>0</td>\n",
       "      <td>2022-10-23 08:45:00</td>\n",
       "    </tr>\n",
       "    <tr>\n",
       "      <th>2</th>\n",
       "      <td>1666515000000</td>\n",
       "      <td>269.7</td>\n",
       "      <td>270.1</td>\n",
       "      <td>269.7</td>\n",
       "      <td>270.1</td>\n",
       "      <td>1120.039</td>\n",
       "      <td>1666515299999</td>\n",
       "      <td>302312.2704</td>\n",
       "      <td>350</td>\n",
       "      <td>993.697</td>\n",
       "      <td>268203.3497</td>\n",
       "      <td>0</td>\n",
       "      <td>2022-10-23 08:50:00</td>\n",
       "    </tr>\n",
       "    <tr>\n",
       "      <th>3</th>\n",
       "      <td>1666515300000</td>\n",
       "      <td>270.0</td>\n",
       "      <td>270.2</td>\n",
       "      <td>270.0</td>\n",
       "      <td>270.2</td>\n",
       "      <td>243.707</td>\n",
       "      <td>1666515599999</td>\n",
       "      <td>65824.4898</td>\n",
       "      <td>351</td>\n",
       "      <td>149.646</td>\n",
       "      <td>40424.3255</td>\n",
       "      <td>0</td>\n",
       "      <td>2022-10-23 08:55:00</td>\n",
       "    </tr>\n",
       "    <tr>\n",
       "      <th>4</th>\n",
       "      <td>1666515600000</td>\n",
       "      <td>270.2</td>\n",
       "      <td>270.3</td>\n",
       "      <td>270.2</td>\n",
       "      <td>270.3</td>\n",
       "      <td>226.088</td>\n",
       "      <td>1666515899999</td>\n",
       "      <td>61104.4777</td>\n",
       "      <td>291</td>\n",
       "      <td>183.650</td>\n",
       "      <td>49637.7138</td>\n",
       "      <td>0</td>\n",
       "      <td>2022-10-23 09:00:00</td>\n",
       "    </tr>\n",
       "  </tbody>\n",
       "</table>\n",
       "</div>"
      ],
      "text/plain": [
       "            time   open   high    low  close    volume     close_time  \\\n",
       "0  1666514400000  269.7  269.8  269.7  269.8   439.634  1666514699999   \n",
       "1  1666514700000  269.7  269.8  269.7  269.7   189.533  1666514999999   \n",
       "2  1666515000000  269.7  270.1  269.7  270.1  1120.039  1666515299999   \n",
       "3  1666515300000  270.0  270.2  270.0  270.2   243.707  1666515599999   \n",
       "4  1666515600000  270.2  270.3  270.2  270.3   226.088  1666515899999   \n",
       "\n",
       "   quote_asset_volume  number_of_trades  taker_buy_base_asset_volume  \\\n",
       "0         118604.1910               287                      349.012   \n",
       "1          51123.6005               256                       65.504   \n",
       "2         302312.2704               350                      993.697   \n",
       "3          65824.4898               351                      149.646   \n",
       "4          61104.4777               291                      183.650   \n",
       "\n",
       "   taker_buy_quote_asset_volume  unused                date  \n",
       "0                    94163.4376       0 2022-10-23 08:40:00  \n",
       "1                    17672.9792       0 2022-10-23 08:45:00  \n",
       "2                   268203.3497       0 2022-10-23 08:50:00  \n",
       "3                    40424.3255       0 2022-10-23 08:55:00  \n",
       "4                    49637.7138       0 2022-10-23 09:00:00  "
      ]
     },
     "execution_count": 103,
     "metadata": {},
     "output_type": "execute_result"
    }
   ],
   "source": [
    "url_binance_bnbusdt_5m = \"https://api.binance.com/api/v3/klines?symbol=BNBUSDT&limit=1000&interval=5m\"\n",
    "df = pd.read_json(url_binance_bnbusdt_5m)\n",
    "\n",
    "df.columns = [\n",
    "    'time', \n",
    "    'open', \n",
    "    'high', \n",
    "    'low', \n",
    "    'close', \n",
    "    'volume', \n",
    "    'close_time', \n",
    "    'quote_asset_volume', \n",
    "    'number_of_trades', \n",
    "    'taker_buy_base_asset_volume', \n",
    "    'taker_buy_quote_asset_volume', \n",
    "    'unused'\n",
    "]\n",
    "\n",
    "df['date'] = pd.to_datetime(df['time'], unit='ms')\n",
    "\n",
    "df.head()"
   ]
  },
  {
   "cell_type": "code",
   "execution_count": 104,
   "id": "28975d96-451c-4ff8-acba-564950a35775",
   "metadata": {},
   "outputs": [],
   "source": [
    "df.sort_values('time', inplace=True)"
   ]
  },
  {
   "cell_type": "code",
   "execution_count": 105,
   "id": "11b1231d-2a59-4ed2-b8d7-f8be6a77449a",
   "metadata": {},
   "outputs": [
    {
     "data": {
      "text/html": [
       "<div>\n",
       "<style scoped>\n",
       "    .dataframe tbody tr th:only-of-type {\n",
       "        vertical-align: middle;\n",
       "    }\n",
       "\n",
       "    .dataframe tbody tr th {\n",
       "        vertical-align: top;\n",
       "    }\n",
       "\n",
       "    .dataframe thead th {\n",
       "        text-align: right;\n",
       "    }\n",
       "</style>\n",
       "<table border=\"1\" class=\"dataframe\">\n",
       "  <thead>\n",
       "    <tr style=\"text-align: right;\">\n",
       "      <th></th>\n",
       "      <th>time</th>\n",
       "      <th>open</th>\n",
       "      <th>high</th>\n",
       "      <th>low</th>\n",
       "      <th>close</th>\n",
       "      <th>volume</th>\n",
       "      <th>close_time</th>\n",
       "      <th>quote_asset_volume</th>\n",
       "      <th>number_of_trades</th>\n",
       "      <th>taker_buy_base_asset_volume</th>\n",
       "      <th>taker_buy_quote_asset_volume</th>\n",
       "      <th>unused</th>\n",
       "      <th>date</th>\n",
       "    </tr>\n",
       "  </thead>\n",
       "  <tbody>\n",
       "    <tr>\n",
       "      <th>0</th>\n",
       "      <td>1666514400000</td>\n",
       "      <td>269.7</td>\n",
       "      <td>269.8</td>\n",
       "      <td>269.7</td>\n",
       "      <td>269.8</td>\n",
       "      <td>439.634</td>\n",
       "      <td>1666514699999</td>\n",
       "      <td>118604.1910</td>\n",
       "      <td>287</td>\n",
       "      <td>349.012</td>\n",
       "      <td>94163.4376</td>\n",
       "      <td>0</td>\n",
       "      <td>2022-10-23 08:40:00</td>\n",
       "    </tr>\n",
       "    <tr>\n",
       "      <th>1</th>\n",
       "      <td>1666514700000</td>\n",
       "      <td>269.7</td>\n",
       "      <td>269.8</td>\n",
       "      <td>269.7</td>\n",
       "      <td>269.7</td>\n",
       "      <td>189.533</td>\n",
       "      <td>1666514999999</td>\n",
       "      <td>51123.6005</td>\n",
       "      <td>256</td>\n",
       "      <td>65.504</td>\n",
       "      <td>17672.9792</td>\n",
       "      <td>0</td>\n",
       "      <td>2022-10-23 08:45:00</td>\n",
       "    </tr>\n",
       "    <tr>\n",
       "      <th>2</th>\n",
       "      <td>1666515000000</td>\n",
       "      <td>269.7</td>\n",
       "      <td>270.1</td>\n",
       "      <td>269.7</td>\n",
       "      <td>270.1</td>\n",
       "      <td>1120.039</td>\n",
       "      <td>1666515299999</td>\n",
       "      <td>302312.2704</td>\n",
       "      <td>350</td>\n",
       "      <td>993.697</td>\n",
       "      <td>268203.3497</td>\n",
       "      <td>0</td>\n",
       "      <td>2022-10-23 08:50:00</td>\n",
       "    </tr>\n",
       "    <tr>\n",
       "      <th>3</th>\n",
       "      <td>1666515300000</td>\n",
       "      <td>270.0</td>\n",
       "      <td>270.2</td>\n",
       "      <td>270.0</td>\n",
       "      <td>270.2</td>\n",
       "      <td>243.707</td>\n",
       "      <td>1666515599999</td>\n",
       "      <td>65824.4898</td>\n",
       "      <td>351</td>\n",
       "      <td>149.646</td>\n",
       "      <td>40424.3255</td>\n",
       "      <td>0</td>\n",
       "      <td>2022-10-23 08:55:00</td>\n",
       "    </tr>\n",
       "    <tr>\n",
       "      <th>4</th>\n",
       "      <td>1666515600000</td>\n",
       "      <td>270.2</td>\n",
       "      <td>270.3</td>\n",
       "      <td>270.2</td>\n",
       "      <td>270.3</td>\n",
       "      <td>226.088</td>\n",
       "      <td>1666515899999</td>\n",
       "      <td>61104.4777</td>\n",
       "      <td>291</td>\n",
       "      <td>183.650</td>\n",
       "      <td>49637.7138</td>\n",
       "      <td>0</td>\n",
       "      <td>2022-10-23 09:00:00</td>\n",
       "    </tr>\n",
       "  </tbody>\n",
       "</table>\n",
       "</div>"
      ],
      "text/plain": [
       "            time   open   high    low  close    volume     close_time  \\\n",
       "0  1666514400000  269.7  269.8  269.7  269.8   439.634  1666514699999   \n",
       "1  1666514700000  269.7  269.8  269.7  269.7   189.533  1666514999999   \n",
       "2  1666515000000  269.7  270.1  269.7  270.1  1120.039  1666515299999   \n",
       "3  1666515300000  270.0  270.2  270.0  270.2   243.707  1666515599999   \n",
       "4  1666515600000  270.2  270.3  270.2  270.3   226.088  1666515899999   \n",
       "\n",
       "   quote_asset_volume  number_of_trades  taker_buy_base_asset_volume  \\\n",
       "0         118604.1910               287                      349.012   \n",
       "1          51123.6005               256                       65.504   \n",
       "2         302312.2704               350                      993.697   \n",
       "3          65824.4898               351                      149.646   \n",
       "4          61104.4777               291                      183.650   \n",
       "\n",
       "   taker_buy_quote_asset_volume  unused                date  \n",
       "0                    94163.4376       0 2022-10-23 08:40:00  \n",
       "1                    17672.9792       0 2022-10-23 08:45:00  \n",
       "2                   268203.3497       0 2022-10-23 08:50:00  \n",
       "3                    40424.3255       0 2022-10-23 08:55:00  \n",
       "4                    49637.7138       0 2022-10-23 09:00:00  "
      ]
     },
     "execution_count": 105,
     "metadata": {},
     "output_type": "execute_result"
    }
   ],
   "source": [
    "df.head()"
   ]
  },
  {
   "cell_type": "code",
   "execution_count": 106,
   "id": "bb8d29cd-7ccb-4973-85b7-0f1b96007004",
   "metadata": {},
   "outputs": [
    {
     "data": {
      "text/plain": [
       "Text(0, 0.5, 'Close Price')"
      ]
     },
     "execution_count": 106,
     "metadata": {},
     "output_type": "execute_result"
    },
    {
     "data": {
      "image/png": "[encoded data removed]",
      "text/plain": [
       "<Figure size 640x480 with 1 Axes>"
      ]
     },
     "metadata": {},
     "output_type": "display_data"
    }
   ],
   "source": [
    "ax = df.plot(x='date', y='close');\n",
    "ax.set_xlabel(\"Date\")\n",
    "ax.set_ylabel(\"Close Price\")"
   ]
  },
  {
   "cell_type": "markdown",
   "id": "a9a8c62d-d9b1-493c-a789-ad3b4179e3da",
   "metadata": {},
   "source": [
    "## Normalization"
   ]
  },
  {
   "cell_type": "code",
   "execution_count": 107,
   "id": "c727ce31-eec5-46ba-8486-413f5cefc597",
   "metadata": {},
   "outputs": [],
   "source": [
    "scaler = MinMaxScaler()\n",
    "\n",
    "close_price = df.close.values.reshape(-1, 1)\n",
    "\n",
    "scaled_close = scaler.fit_transform(close_price)"
   ]
  },
  {
   "cell_type": "code",
   "execution_count": 108,
   "id": "d214482a-9888-42ec-a303-6dba44d5ef05",
   "metadata": {},
   "outputs": [
    {
     "data": {
      "text/plain": [
       "(1000, 1)"
      ]
     },
     "execution_count": 108,
     "metadata": {},
     "output_type": "execute_result"
    }
   ],
   "source": [
    "scaled_close.shape"
   ]
  },
  {
   "cell_type": "code",
   "execution_count": 109,
   "id": "09f9219e-4237-406e-a2cf-9ad3c9d2705a",
   "metadata": {},
   "outputs": [
    {
     "data": {
      "text/plain": [
       "False"
      ]
     },
     "execution_count": 109,
     "metadata": {},
     "output_type": "execute_result"
    }
   ],
   "source": [
    "np.isnan(scaled_close).any()"
   ]
  },
  {
   "cell_type": "code",
   "execution_count": 110,
   "id": "9db2983d-3b3a-4853-88be-b16ea48da68e",
   "metadata": {},
   "outputs": [
    {
     "data": {
      "text/plain": [
       "(array([[0.03240741],\n",
       "        [0.02777778],\n",
       "        [0.0462963 ],\n",
       "        [0.05092593],\n",
       "        [0.05555556],\n",
       "        [0.05555556],\n",
       "        [0.05092593],\n",
       "        [0.04166667],\n",
       "        [0.03703704],\n",
       "        [0.03703704]]),\n",
       " array([[269.8],\n",
       "        [269.7],\n",
       "        [270.1],\n",
       "        [270.2],\n",
       "        [270.3],\n",
       "        [270.3],\n",
       "        [270.2],\n",
       "        [270. ],\n",
       "        [269.9],\n",
       "        [269.9]]))"
      ]
     },
     "execution_count": 110,
     "metadata": {},
     "output_type": "execute_result"
    }
   ],
   "source": [
    "scaled_close[:10], close_price[:10]"
   ]
  },
  {
   "cell_type": "code",
   "execution_count": 111,
   "id": "ae363b60-b54b-4946-91cc-2c4862f7ed7e",
   "metadata": {},
   "outputs": [],
   "source": [
    "scaled_close = scaled_close[~np.isnan(scaled_close)]"
   ]
  },
  {
   "cell_type": "code",
   "execution_count": 112,
   "id": "fe029771-dbd9-4838-8596-0eb7e9384840",
   "metadata": {},
   "outputs": [],
   "source": [
    "scaled_close = scaled_close.reshape(-1, 1)"
   ]
  },
  {
   "cell_type": "code",
   "execution_count": 113,
   "id": "b76ee2f8-8363-4b25-851b-6c306b818a57",
   "metadata": {},
   "outputs": [
    {
     "data": {
      "text/plain": [
       "False"
      ]
     },
     "execution_count": 113,
     "metadata": {},
     "output_type": "execute_result"
    }
   ],
   "source": [
    "np.isnan(scaled_close).any()"
   ]
  },
  {
   "cell_type": "markdown",
   "id": "3062ac59-a3e5-40be-9d1e-c33e96d29651",
   "metadata": {},
   "source": [
    "## Preprocessing"
   ]
  },
  {
   "cell_type": "code",
   "execution_count": 114,
   "id": "8d16ca73-9fae-4705-b89b-25728afc368d",
   "metadata": {},
   "outputs": [],
   "source": [
    "SEQ_LEN = 100\n",
    "\n",
    "def to_sequences(data, seq_len):\n",
    "    d = []\n",
    "\n",
    "    for index in range(len(data) - seq_len):\n",
    "        d.append(data[index: index + seq_len])\n",
    "\n",
    "    return np.array(d)\n",
    "\n",
    "def preprocess(data_raw, seq_len, train_split):\n",
    "\n",
    "    data = to_sequences(data_raw, seq_len)\n",
    "\n",
    "    num_train = int(train_split * data.shape[0])\n",
    "\n",
    "    X_train = data[:num_train, :-1, :]\n",
    "    y_train = data[:num_train, -1, :]\n",
    "\n",
    "    X_test = data[num_train:, :-1, :]\n",
    "    y_test = data[num_train:, -1, :]\n",
    "\n",
    "    return X_train, y_train, X_test, y_test\n",
    "\n",
    "\n",
    "X_train, y_train, X_test, y_test = preprocess(scaled_close, SEQ_LEN, train_split = 0.95)"
   ]
  },
  {
   "cell_type": "code",
   "execution_count": 115,
   "id": "3c2c6f5e-97e3-457b-9f15-d62ae403951a",
   "metadata": {},
   "outputs": [
    {
     "data": {
      "text/plain": [
       "(855, 99, 1)"
      ]
     },
     "execution_count": 115,
     "metadata": {},
     "output_type": "execute_result"
    }
   ],
   "source": [
    "X_train.shape"
   ]
  },
  {
   "cell_type": "code",
   "execution_count": 116,
   "id": "66f57a74-edbc-45c0-b1d2-f2fe9fa833ce",
   "metadata": {},
   "outputs": [
    {
     "data": {
      "text/plain": [
       "(45, 99, 1)"
      ]
     },
     "execution_count": 116,
     "metadata": {},
     "output_type": "execute_result"
    }
   ],
   "source": [
    "X_test.shape"
   ]
  },
  {
   "cell_type": "markdown",
   "id": "07ec1a8c-8a73-4d96-bcfe-817b21873d6f",
   "metadata": {},
   "source": [
    "## Model"
   ]
  },
  {
   "cell_type": "code",
   "execution_count": 117,
   "id": "945528f2-3c1a-44be-acb0-f03ee62b3918",
   "metadata": {},
   "outputs": [],
   "source": [
    "DROPOUT = 0.2\n",
    "WINDOW_SIZE = SEQ_LEN - 1\n",
    "\n",
    "model = keras.Sequential()\n",
    "\n",
    "model.add(tf.keras.layers.Bidirectional(LSTM(WINDOW_SIZE, return_sequences=True),\n",
    "                        input_shape=(WINDOW_SIZE, X_train.shape[-1])))\n",
    "model.add(Dropout(rate=DROPOUT))\n",
    "\n",
    "model.add(Bidirectional(LSTM((WINDOW_SIZE * 2), return_sequences=True)))\n",
    "model.add(Dropout(rate=DROPOUT))\n",
    "\n",
    "model.add(Bidirectional(LSTM(WINDOW_SIZE, return_sequences=False)))\n",
    "\n",
    "model.add(Dense(units=1))\n",
    "\n",
    "model.add(Activation('linear'))"
   ]
  },
  {
   "cell_type": "markdown",
   "id": "155554ae-f3a5-434c-ae1b-0e89e323e262",
   "metadata": {},
   "source": [
    "## Training"
   ]
  },
  {
   "cell_type": "code",
   "execution_count": 118,
   "id": "bf188592-465f-4219-8f10-9e879003ac48",
   "metadata": {},
   "outputs": [],
   "source": [
    "model.compile(\n",
    "    loss='mean_squared_error', \n",
    "    optimizer='adam'\n",
    ")"
   ]
  },
  {
   "cell_type": "code",
   "execution_count": 119,
   "id": "1d8777be-1f41-4828-b0ae-2c106fd2a89e",
   "metadata": {},
   "outputs": [
    {
     "name": "stdout",
     "output_type": "stream",
     "text": [
      "Epoch 1/50\n",
      "13/13 [==============================] - 9s 355ms/step - loss: 0.0548 - val_loss: 0.0550\n",
      "Epoch 2/50\n",
      "13/13 [==============================] - 4s 280ms/step - loss: 0.0332 - val_loss: 0.0242\n",
      "Epoch 3/50\n",
      "13/13 [==============================] - 4s 276ms/step - loss: 0.0258 - val_loss: 0.0099\n",
      "Epoch 4/50\n",
      "13/13 [==============================] - 4s 277ms/step - loss: 0.0652 - val_loss: 0.1407\n",
      "Epoch 5/50\n",
      "13/13 [==============================] - 4s 274ms/step - loss: 0.0521 - val_loss: 0.2248\n",
      "Epoch 6/50\n",
      "13/13 [==============================] - 4s 282ms/step - loss: 0.0987 - val_loss: 0.0510\n",
      "Epoch 7/50\n",
      "13/13 [==============================] - 4s 278ms/step - loss: 0.0251 - val_loss: 0.0208\n",
      "Epoch 8/50\n",
      "13/13 [==============================] - 4s 274ms/step - loss: 0.0535 - val_loss: 0.0779\n",
      "Epoch 9/50\n",
      "13/13 [==============================] - 4s 311ms/step - loss: 0.0113 - val_loss: 0.0017\n",
      "Epoch 10/50\n",
      "13/13 [==============================] - 4s 283ms/step - loss: 0.0095 - val_loss: 0.0045\n",
      "Epoch 11/50\n",
      "13/13 [==============================] - 4s 285ms/step - loss: 0.0084 - val_loss: 0.0025\n",
      "Epoch 12/50\n",
      "13/13 [==============================] - 4s 275ms/step - loss: 0.0061 - val_loss: 0.0059\n",
      "Epoch 13/50\n",
      "13/13 [==============================] - 2s 131ms/step - loss: 0.0050 - val_loss: 0.0022\n",
      "Epoch 14/50\n",
      "13/13 [==============================] - 4s 280ms/step - loss: 0.0036 - val_loss: 0.0052\n",
      "Epoch 15/50\n",
      "13/13 [==============================] - 4s 276ms/step - loss: 0.0031 - val_loss: 0.0020\n",
      "Epoch 16/50\n",
      "13/13 [==============================] - 4s 278ms/step - loss: 0.0016 - val_loss: 0.0019\n",
      "Epoch 17/50\n",
      "13/13 [==============================] - 4s 274ms/step - loss: 0.0021 - val_loss: 0.0012\n",
      "Epoch 18/50\n",
      "13/13 [==============================] - 4s 281ms/step - loss: 0.0015 - val_loss: 0.0020\n",
      "Epoch 19/50\n",
      "13/13 [==============================] - 4s 278ms/step - loss: 0.0023 - val_loss: 0.0011\n",
      "Epoch 20/50\n",
      "13/13 [==============================] - 4s 280ms/step - loss: 0.0018 - val_loss: 0.0022\n",
      "Epoch 21/50\n",
      "13/13 [==============================] - 4s 276ms/step - loss: 0.0029 - val_loss: 0.0012\n",
      "Epoch 22/50\n",
      "13/13 [==============================] - 4s 280ms/step - loss: 0.0019 - val_loss: 0.0018\n",
      "Epoch 23/50\n",
      "13/13 [==============================] - 4s 276ms/step - loss: 0.0035 - val_loss: 0.0011\n",
      "Epoch 24/50\n",
      "13/13 [==============================] - 4s 284ms/step - loss: 0.0026 - val_loss: 0.0020\n",
      "Epoch 25/50\n",
      "13/13 [==============================] - 4s 289ms/step - loss: 0.0042 - val_loss: 0.0011\n",
      "Epoch 26/50\n",
      "13/13 [==============================] - 4s 276ms/step - loss: 0.0038 - val_loss: 0.0029\n",
      "Epoch 27/50\n",
      "13/13 [==============================] - 4s 279ms/step - loss: 0.0056 - val_loss: 9.9034e-04\n",
      "Epoch 28/50\n",
      "13/13 [==============================] - 4s 276ms/step - loss: 0.0071 - val_loss: 0.0071\n",
      "Epoch 29/50\n",
      "13/13 [==============================] - 4s 287ms/step - loss: 0.0073 - val_loss: 0.0011\n",
      "Epoch 30/50\n",
      "13/13 [==============================] - 4s 276ms/step - loss: 0.0075 - val_loss: 0.0075\n",
      "Epoch 31/50\n",
      "13/13 [==============================] - 4s 278ms/step - loss: 0.0070 - val_loss: 0.0012\n",
      "Epoch 32/50\n",
      "13/13 [==============================] - 4s 277ms/step - loss: 0.0063 - val_loss: 0.0073\n",
      "Epoch 33/50\n",
      "13/13 [==============================] - 4s 277ms/step - loss: 0.0061 - val_loss: 0.0013\n",
      "Epoch 34/50\n",
      "13/13 [==============================] - 4s 276ms/step - loss: 0.0057 - val_loss: 0.0083\n",
      "Epoch 35/50\n",
      "13/13 [==============================] - 4s 275ms/step - loss: 0.0046 - val_loss: 0.0014\n",
      "Epoch 36/50\n",
      "13/13 [==============================] - 4s 277ms/step - loss: 0.0030 - val_loss: 0.0037\n",
      "Epoch 37/50\n",
      "13/13 [==============================] - 4s 276ms/step - loss: 0.0034 - val_loss: 0.0013\n",
      "Epoch 38/50\n",
      "13/13 [==============================] - 4s 281ms/step - loss: 0.0021 - val_loss: 0.0026\n",
      "Epoch 39/50\n",
      "13/13 [==============================] - 4s 276ms/step - loss: 0.0025 - val_loss: 0.0011\n",
      "Epoch 40/50\n",
      "13/13 [==============================] - 4s 276ms/step - loss: 0.0014 - val_loss: 0.0015\n",
      "Epoch 41/50\n",
      "13/13 [==============================] - 4s 276ms/step - loss: 0.0022 - val_loss: 0.0010\n",
      "Epoch 42/50\n",
      "13/13 [==============================] - 4s 279ms/step - loss: 0.0016 - val_loss: 0.0017\n",
      "Epoch 43/50\n",
      "13/13 [==============================] - 4s 275ms/step - loss: 0.0024 - val_loss: 8.7840e-04\n",
      "Epoch 44/50\n",
      "13/13 [==============================] - 4s 276ms/step - loss: 0.0024 - val_loss: 0.0023\n",
      "Epoch 45/50\n",
      "13/13 [==============================] - 4s 277ms/step - loss: 0.0043 - val_loss: 0.0011\n",
      "Epoch 46/50\n",
      "13/13 [==============================] - 4s 276ms/step - loss: 0.0036 - val_loss: 0.0030\n",
      "Epoch 47/50\n",
      "13/13 [==============================] - 4s 281ms/step - loss: 0.0045 - val_loss: 9.4885e-04\n",
      "Epoch 48/50\n",
      "13/13 [==============================] - 4s 276ms/step - loss: 0.0051 - val_loss: 0.0045\n",
      "Epoch 49/50\n",
      "13/13 [==============================] - 4s 275ms/step - loss: 0.0057 - val_loss: 9.8754e-04\n",
      "Epoch 50/50\n",
      "13/13 [==============================] - 4s 280ms/step - loss: 0.0054 - val_loss: 0.0047\n"
     ]
    }
   ],
   "source": [
    "BATCH_SIZE = 64\n",
    "\n",
    "history = model.fit(\n",
    "    X_train, \n",
    "    y_train, \n",
    "    epochs=50, \n",
    "    batch_size=BATCH_SIZE, \n",
    "    shuffle=False,\n",
    "    validation_split=0.1\n",
    ")"
   ]
  },
  {
   "cell_type": "code",
   "execution_count": 120,
   "id": "9bb52f4e-0efe-466a-abc7-ea7a84eff4b6",
   "metadata": {},
   "outputs": [
    {
     "name": "stdout",
     "output_type": "stream",
     "text": [
      "2/2 [==============================] - 0s 42ms/step - loss: 0.0057\n"
     ]
    },
    {
     "data": {
      "text/plain": [
       "0.0057485210709273815"
      ]
     },
     "execution_count": 120,
     "metadata": {},
     "output_type": "execute_result"
    }
   ],
   "source": [
    "model.evaluate(X_test, y_test)"
   ]
  },
  {
   "cell_type": "code",
   "execution_count": 121,
   "id": "7a361c5a-5da5-40f9-80a4-b6b1d41ba2fc",
   "metadata": {},
   "outputs": [
    {
     "data": {
      "image/png": "[encoded data removed]",
      "text/plain": [
       "<Figure size 640x480 with 1 Axes>"
      ]
     },
     "metadata": {},
     "output_type": "display_data"
    }
   ],
   "source": [
    "plt.plot(history.history['loss'])\n",
    "plt.plot(history.history['val_loss'])\n",
    "plt.title('model loss')\n",
    "plt.ylabel('loss')\n",
    "plt.xlabel('epoch')\n",
    "plt.legend(['train', 'test'], loc='upper left')\n",
    "plt.show()"
   ]
  },
  {
   "cell_type": "markdown",
   "id": "e6e0a1e6-6995-482c-af1c-a4847b84b0bc",
   "metadata": {},
   "source": [
    "## Prediction"
   ]
  },
  {
   "cell_type": "code",
   "execution_count": 124,
   "id": "88a1bd4f-c53d-4d02-8f4c-50c8a18e8b75",
   "metadata": {},
   "outputs": [
    {
     "name": "stdout",
     "output_type": "stream",
     "text": [
      "2/2 [==============================] - 0s 42ms/step\n"
     ]
    },
    {
     "data": {
      "image/png": "[encoded data removed]",
      "text/plain": [
       "<Figure size 640x480 with 1 Axes>"
      ]
     },
     "metadata": {},
     "output_type": "display_data"
    }
   ],
   "source": [
    "y_hat = model.predict(X_test)\n",
    "\n",
    "y_test_inverse = scaler.inverse_transform(y_test)\n",
    "y_hat_inverse = scaler.inverse_transform(y_hat)\n",
    " \n",
    "plt.plot(y_test_inverse, label=\"Actual Price\", color='green')\n",
    "plt.plot(y_hat_inverse, label=\"Predicted Price\", color='red')\n",
    " \n",
    "plt.title('BNB price prediction')\n",
    "plt.xlabel('Time [candle of 5 minutes]')\n",
    "plt.ylabel('Price')\n",
    "plt.legend(loc='best')\n",
    " \n",
    "plt.show();"
   ]
  },
  {
   "cell_type": "code",
   "execution_count": null,
   "id": "d675f4cc-fe68-4339-b5f2-fbf98d39c154",
   "metadata": {},
   "outputs": [],
   "source": []
  }
 ],
 "metadata": {
  "kernelspec": {
   "display_name": "Python 3 (ipykernel)",
   "language": "python",
   "name": "python3"
  },
  "language_info": {
   "codemirror_mode": {
    "name": "ipython",
    "version": 3
   },
   "file_extension": ".py",
   "mimetype": "text/x-python",
   "name": "python",
   "nbconvert_exporter": "python",
   "pygments_lexer": "ipython3",
   "version": "3.10.6"
  }
 },
 "nbformat": 4,
 "nbformat_minor": 5
}
